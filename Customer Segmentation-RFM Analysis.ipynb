{
 "cells": [
  {
   "cell_type": "markdown",
   "id": "0082b863",
   "metadata": {},
   "source": [
    "## Our objective is to:"
   ]
  },
  {
   "cell_type": "markdown",
   "id": "23f3cc68",
   "metadata": {},
   "source": [
    "- Utilize RFM analysis to segment customers based on their purchase recency, frequency, and monetary value, enabling targeted marketing efforts and personalized communication with customers.\n",
    "\n",
    "- Develop predictive models to identify daily, weekly, and monthly sales trends, enabling better inventory management and more effective marketing campaigns.\n",
    "\n",
    "- Use data analytics to identify the busiest hours of the day, week, or month, allowing for effective staff scheduling and resource allocation.\n",
    "\n",
    "- Identify the top 20 best-selling items in the market, enabling businesses to focus on these high-performing products and optimize inventory and pricing strategies.\n",
    "\n",
    "- Utilize RFM analysis with a higher weightage on monetary value to segment customers and identify high-value customers for targeted marketing campaigns and personalized communication."
   ]
  },
  {
   "cell_type": "markdown",
   "id": "c4895ca5",
   "metadata": {},
   "source": [
    " "
   ]
  },
  {
   "cell_type": "code",
   "execution_count": 1,
   "id": "ae2dc738",
   "metadata": {},
   "outputs": [],
   "source": [
    "# import libraries\n",
    "import pandas as pd\n",
    "import numpy as np\n",
    "import seaborn as sns\n",
    "import matplotlib.pyplot as plt\n",
    "%matplotlib inline"
   ]
  },
  {
   "cell_type": "code",
   "execution_count": 2,
   "id": "14aafd4d",
   "metadata": {},
   "outputs": [],
   "source": [
    "customer = pd.read_excel('Customer_Segment.xlsx')"
   ]
  },
  {
   "cell_type": "code",
   "execution_count": 3,
   "id": "e46f32bc",
   "metadata": {},
   "outputs": [],
   "source": [
    "data=customer.copy()"
   ]
  },
  {
   "cell_type": "markdown",
   "id": "eeeb7450",
   "metadata": {},
   "source": [
    "## Data Preprocessing"
   ]
  },
  {
   "cell_type": "code",
   "execution_count": 4,
   "id": "c165d39d",
   "metadata": {},
   "outputs": [
    {
     "data": {
      "text/html": [
       "<div>\n",
       "<style scoped>\n",
       "    .dataframe tbody tr th:only-of-type {\n",
       "        vertical-align: middle;\n",
       "    }\n",
       "\n",
       "    .dataframe tbody tr th {\n",
       "        vertical-align: top;\n",
       "    }\n",
       "\n",
       "    .dataframe thead th {\n",
       "        text-align: right;\n",
       "    }\n",
       "</style>\n",
       "<table border=\"1\" class=\"dataframe\">\n",
       "  <thead>\n",
       "    <tr style=\"text-align: right;\">\n",
       "      <th></th>\n",
       "      <th>InvoiceNo</th>\n",
       "      <th>StockCode</th>\n",
       "      <th>lower</th>\n",
       "      <th>Description</th>\n",
       "      <th>Quantity</th>\n",
       "      <th>InvoiceDate</th>\n",
       "      <th>UnitPrice</th>\n",
       "      <th>CustomerID</th>\n",
       "      <th>Country</th>\n",
       "    </tr>\n",
       "  </thead>\n",
       "  <tbody>\n",
       "    <tr>\n",
       "      <th>0</th>\n",
       "      <td>536365</td>\n",
       "      <td>85123A</td>\n",
       "      <td>white hanging heart t-light holder</td>\n",
       "      <td>WHITE HANGING HEART T-LIGHT HOLDER</td>\n",
       "      <td>6</td>\n",
       "      <td>2010-12-01 08:26:00</td>\n",
       "      <td>2.55</td>\n",
       "      <td>17850.0</td>\n",
       "      <td>United Kingdom</td>\n",
       "    </tr>\n",
       "    <tr>\n",
       "      <th>1</th>\n",
       "      <td>536365</td>\n",
       "      <td>71053</td>\n",
       "      <td>white metal lantern</td>\n",
       "      <td>WHITE METAL LANTERN</td>\n",
       "      <td>6</td>\n",
       "      <td>2010-12-01 08:26:00</td>\n",
       "      <td>3.39</td>\n",
       "      <td>17850.0</td>\n",
       "      <td>United Kingdom</td>\n",
       "    </tr>\n",
       "    <tr>\n",
       "      <th>2</th>\n",
       "      <td>536365</td>\n",
       "      <td>84406B</td>\n",
       "      <td>cream cupid hearts coat hanger</td>\n",
       "      <td>CREAM CUPID HEARTS COAT HANGER</td>\n",
       "      <td>8</td>\n",
       "      <td>2010-12-01 08:26:00</td>\n",
       "      <td>2.75</td>\n",
       "      <td>17850.0</td>\n",
       "      <td>United Kingdom</td>\n",
       "    </tr>\n",
       "    <tr>\n",
       "      <th>3</th>\n",
       "      <td>536365</td>\n",
       "      <td>84029G</td>\n",
       "      <td>knitted union flag hot water bottle</td>\n",
       "      <td>KNITTED UNION FLAG HOT WATER BOTTLE</td>\n",
       "      <td>6</td>\n",
       "      <td>2010-12-01 08:26:00</td>\n",
       "      <td>3.39</td>\n",
       "      <td>17850.0</td>\n",
       "      <td>United Kingdom</td>\n",
       "    </tr>\n",
       "    <tr>\n",
       "      <th>4</th>\n",
       "      <td>536365</td>\n",
       "      <td>84029E</td>\n",
       "      <td>red woolly hottie white heart.</td>\n",
       "      <td>RED WOOLLY HOTTIE WHITE HEART.</td>\n",
       "      <td>6</td>\n",
       "      <td>2010-12-01 08:26:00</td>\n",
       "      <td>3.39</td>\n",
       "      <td>17850.0</td>\n",
       "      <td>United Kingdom</td>\n",
       "    </tr>\n",
       "  </tbody>\n",
       "</table>\n",
       "</div>"
      ],
      "text/plain": [
       "  InvoiceNo StockCode                                lower  \\\n",
       "0    536365    85123A   white hanging heart t-light holder   \n",
       "1    536365     71053                  white metal lantern   \n",
       "2    536365    84406B       cream cupid hearts coat hanger   \n",
       "3    536365    84029G  knitted union flag hot water bottle   \n",
       "4    536365    84029E       red woolly hottie white heart.   \n",
       "\n",
       "                           Description  Quantity         InvoiceDate  \\\n",
       "0   WHITE HANGING HEART T-LIGHT HOLDER         6 2010-12-01 08:26:00   \n",
       "1                  WHITE METAL LANTERN         6 2010-12-01 08:26:00   \n",
       "2       CREAM CUPID HEARTS COAT HANGER         8 2010-12-01 08:26:00   \n",
       "3  KNITTED UNION FLAG HOT WATER BOTTLE         6 2010-12-01 08:26:00   \n",
       "4       RED WOOLLY HOTTIE WHITE HEART.         6 2010-12-01 08:26:00   \n",
       "\n",
       "   UnitPrice  CustomerID         Country  \n",
       "0       2.55     17850.0  United Kingdom  \n",
       "1       3.39     17850.0  United Kingdom  \n",
       "2       2.75     17850.0  United Kingdom  \n",
       "3       3.39     17850.0  United Kingdom  \n",
       "4       3.39     17850.0  United Kingdom  "
      ]
     },
     "execution_count": 4,
     "metadata": {},
     "output_type": "execute_result"
    }
   ],
   "source": [
    "data.head()"
   ]
  },
  {
   "cell_type": "code",
   "execution_count": 5,
   "id": "92c76706",
   "metadata": {},
   "outputs": [
    {
     "data": {
      "text/plain": [
       "(541909, 9)"
      ]
     },
     "execution_count": 5,
     "metadata": {},
     "output_type": "execute_result"
    }
   ],
   "source": [
    "data.shape"
   ]
  },
  {
   "cell_type": "code",
   "execution_count": 6,
   "id": "feb44631",
   "metadata": {},
   "outputs": [
    {
     "name": "stdout",
     "output_type": "stream",
     "text": [
      "<class 'pandas.core.frame.DataFrame'>\n",
      "RangeIndex: 541909 entries, 0 to 541908\n",
      "Data columns (total 9 columns):\n",
      " #   Column       Non-Null Count   Dtype         \n",
      "---  ------       --------------   -----         \n",
      " 0   InvoiceNo    541909 non-null  object        \n",
      " 1   StockCode    541909 non-null  object        \n",
      " 2   lower        1816 non-null    object        \n",
      " 3   Description  540455 non-null  object        \n",
      " 4   Quantity     541909 non-null  int64         \n",
      " 5   InvoiceDate  541909 non-null  datetime64[ns]\n",
      " 6   UnitPrice    541909 non-null  float64       \n",
      " 7   CustomerID   406829 non-null  float64       \n",
      " 8   Country      541909 non-null  object        \n",
      "dtypes: datetime64[ns](1), float64(2), int64(1), object(5)\n",
      "memory usage: 37.2+ MB\n"
     ]
    }
   ],
   "source": [
    "data.info()"
   ]
  },
  {
   "cell_type": "markdown",
   "id": "cf8633de",
   "metadata": {},
   "source": [
    "***Notes:***\n",
    "- Lower can be dropped. Most values are missing. Importantly same information is covered in Description column.\n",
    "- Missing values in Description and Customer ID. We can check if there is any relation between StockCode and Description to fill this data. We cannot in any way impute Customer id. We will have to drop rows where Customer id is missing while performing customer segmentation"
   ]
  },
  {
   "cell_type": "markdown",
   "id": "d94eb401",
   "metadata": {},
   "source": [
    "##### - Dropping columns with more than 60% of missing data."
   ]
  },
  {
   "cell_type": "code",
   "execution_count": 7,
   "id": "afc39932",
   "metadata": {},
   "outputs": [],
   "source": [
    "data.drop('lower',axis=1,inplace=True)"
   ]
  },
  {
   "cell_type": "markdown",
   "id": "19107b43",
   "metadata": {},
   "source": [
    "##### - Checking for relation between Description and Stock code"
   ]
  },
  {
   "cell_type": "code",
   "execution_count": 8,
   "id": "91c48db7",
   "metadata": {},
   "outputs": [
    {
     "data": {
      "text/html": [
       "<div>\n",
       "<style scoped>\n",
       "    .dataframe tbody tr th:only-of-type {\n",
       "        vertical-align: middle;\n",
       "    }\n",
       "\n",
       "    .dataframe tbody tr th {\n",
       "        vertical-align: top;\n",
       "    }\n",
       "\n",
       "    .dataframe thead th {\n",
       "        text-align: right;\n",
       "    }\n",
       "</style>\n",
       "<table border=\"1\" class=\"dataframe\">\n",
       "  <thead>\n",
       "    <tr style=\"text-align: right;\">\n",
       "      <th></th>\n",
       "      <th>Description</th>\n",
       "      <th>StockCode</th>\n",
       "    </tr>\n",
       "  </thead>\n",
       "  <tbody>\n",
       "    <tr>\n",
       "      <th>2</th>\n",
       "      <td>CREAM CUPID HEARTS COAT HANGER</td>\n",
       "      <td>84406B</td>\n",
       "    </tr>\n",
       "    <tr>\n",
       "      <th>51</th>\n",
       "      <td>CREAM CUPID HEARTS COAT HANGER</td>\n",
       "      <td>84406B</td>\n",
       "    </tr>\n",
       "    <tr>\n",
       "      <th>68</th>\n",
       "      <td>CREAM CUPID HEARTS COAT HANGER</td>\n",
       "      <td>84406B</td>\n",
       "    </tr>\n",
       "  </tbody>\n",
       "</table>\n",
       "</div>"
      ],
      "text/plain": [
       "                       Description StockCode\n",
       "2   CREAM CUPID HEARTS COAT HANGER    84406B\n",
       "51  CREAM CUPID HEARTS COAT HANGER    84406B\n",
       "68  CREAM CUPID HEARTS COAT HANGER    84406B"
      ]
     },
     "execution_count": 8,
     "metadata": {},
     "output_type": "execute_result"
    }
   ],
   "source": [
    "(data[['Description','StockCode']][data['StockCode']=='84406B']).head(3)"
   ]
  },
  {
   "cell_type": "code",
   "execution_count": 9,
   "id": "3e16708c",
   "metadata": {
    "scrolled": true
   },
   "outputs": [
    {
     "data": {
      "text/html": [
       "<div>\n",
       "<style scoped>\n",
       "    .dataframe tbody tr th:only-of-type {\n",
       "        vertical-align: middle;\n",
       "    }\n",
       "\n",
       "    .dataframe tbody tr th {\n",
       "        vertical-align: top;\n",
       "    }\n",
       "\n",
       "    .dataframe thead th {\n",
       "        text-align: right;\n",
       "    }\n",
       "</style>\n",
       "<table border=\"1\" class=\"dataframe\">\n",
       "  <thead>\n",
       "    <tr style=\"text-align: right;\">\n",
       "      <th></th>\n",
       "      <th>Description</th>\n",
       "      <th>StockCode</th>\n",
       "    </tr>\n",
       "  </thead>\n",
       "  <tbody>\n",
       "    <tr>\n",
       "      <th>0</th>\n",
       "      <td>WHITE HANGING HEART T-LIGHT HOLDER</td>\n",
       "      <td>85123A</td>\n",
       "    </tr>\n",
       "    <tr>\n",
       "      <th>49</th>\n",
       "      <td>WHITE HANGING HEART T-LIGHT HOLDER</td>\n",
       "      <td>85123A</td>\n",
       "    </tr>\n",
       "    <tr>\n",
       "      <th>66</th>\n",
       "      <td>WHITE HANGING HEART T-LIGHT HOLDER</td>\n",
       "      <td>85123A</td>\n",
       "    </tr>\n",
       "  </tbody>\n",
       "</table>\n",
       "</div>"
      ],
      "text/plain": [
       "                           Description StockCode\n",
       "0   WHITE HANGING HEART T-LIGHT HOLDER    85123A\n",
       "49  WHITE HANGING HEART T-LIGHT HOLDER    85123A\n",
       "66  WHITE HANGING HEART T-LIGHT HOLDER    85123A"
      ]
     },
     "execution_count": 9,
     "metadata": {},
     "output_type": "execute_result"
    }
   ],
   "source": [
    "(data[['Description','StockCode']][data['Description']=='WHITE HANGING HEART T-LIGHT HOLDER']).head(3)"
   ]
  },
  {
   "cell_type": "code",
   "execution_count": 10,
   "id": "c3ff5cb1",
   "metadata": {},
   "outputs": [],
   "source": [
    "temp = data[['Description','StockCode']].dropna()"
   ]
  },
  {
   "cell_type": "code",
   "execution_count": 11,
   "id": "6424ea12",
   "metadata": {},
   "outputs": [
    {
     "data": {
      "text/plain": [
       "540455"
      ]
     },
     "execution_count": 11,
     "metadata": {},
     "output_type": "execute_result"
    }
   ],
   "source": [
    "temp.StockCode.count()"
   ]
  },
  {
   "cell_type": "code",
   "execution_count": 12,
   "id": "535837b8",
   "metadata": {},
   "outputs": [],
   "source": [
    "uni1 = temp['Description'].unique()\n",
    "uni2 = temp['StockCode'].unique()"
   ]
  },
  {
   "cell_type": "markdown",
   "id": "31cec162",
   "metadata": {},
   "source": [
    "##### - Checking numerical values description"
   ]
  },
  {
   "cell_type": "code",
   "execution_count": 13,
   "id": "4c08b8fe",
   "metadata": {},
   "outputs": [
    {
     "data": {
      "text/html": [
       "<div>\n",
       "<style scoped>\n",
       "    .dataframe tbody tr th:only-of-type {\n",
       "        vertical-align: middle;\n",
       "    }\n",
       "\n",
       "    .dataframe tbody tr th {\n",
       "        vertical-align: top;\n",
       "    }\n",
       "\n",
       "    .dataframe thead th {\n",
       "        text-align: right;\n",
       "    }\n",
       "</style>\n",
       "<table border=\"1\" class=\"dataframe\">\n",
       "  <thead>\n",
       "    <tr style=\"text-align: right;\">\n",
       "      <th></th>\n",
       "      <th>Quantity</th>\n",
       "      <th>UnitPrice</th>\n",
       "      <th>CustomerID</th>\n",
       "    </tr>\n",
       "  </thead>\n",
       "  <tbody>\n",
       "    <tr>\n",
       "      <th>count</th>\n",
       "      <td>541909.000000</td>\n",
       "      <td>541909.000000</td>\n",
       "      <td>406829.000000</td>\n",
       "    </tr>\n",
       "    <tr>\n",
       "      <th>mean</th>\n",
       "      <td>9.552250</td>\n",
       "      <td>4.611114</td>\n",
       "      <td>15287.690570</td>\n",
       "    </tr>\n",
       "    <tr>\n",
       "      <th>std</th>\n",
       "      <td>218.081158</td>\n",
       "      <td>96.759853</td>\n",
       "      <td>1713.600303</td>\n",
       "    </tr>\n",
       "    <tr>\n",
       "      <th>min</th>\n",
       "      <td>-80995.000000</td>\n",
       "      <td>-11062.060000</td>\n",
       "      <td>12346.000000</td>\n",
       "    </tr>\n",
       "    <tr>\n",
       "      <th>25%</th>\n",
       "      <td>1.000000</td>\n",
       "      <td>1.250000</td>\n",
       "      <td>13953.000000</td>\n",
       "    </tr>\n",
       "    <tr>\n",
       "      <th>50%</th>\n",
       "      <td>3.000000</td>\n",
       "      <td>2.080000</td>\n",
       "      <td>15152.000000</td>\n",
       "    </tr>\n",
       "    <tr>\n",
       "      <th>75%</th>\n",
       "      <td>10.000000</td>\n",
       "      <td>4.130000</td>\n",
       "      <td>16791.000000</td>\n",
       "    </tr>\n",
       "    <tr>\n",
       "      <th>max</th>\n",
       "      <td>80995.000000</td>\n",
       "      <td>38970.000000</td>\n",
       "      <td>18287.000000</td>\n",
       "    </tr>\n",
       "  </tbody>\n",
       "</table>\n",
       "</div>"
      ],
      "text/plain": [
       "            Quantity      UnitPrice     CustomerID\n",
       "count  541909.000000  541909.000000  406829.000000\n",
       "mean        9.552250       4.611114   15287.690570\n",
       "std       218.081158      96.759853    1713.600303\n",
       "min    -80995.000000  -11062.060000   12346.000000\n",
       "25%         1.000000       1.250000   13953.000000\n",
       "50%         3.000000       2.080000   15152.000000\n",
       "75%        10.000000       4.130000   16791.000000\n",
       "max     80995.000000   38970.000000   18287.000000"
      ]
     },
     "execution_count": 13,
     "metadata": {},
     "output_type": "execute_result"
    }
   ],
   "source": [
    "data.describe()"
   ]
  },
  {
   "cell_type": "markdown",
   "id": "56f510ec",
   "metadata": {},
   "source": [
    "***Notes:***\n",
    "- There are negative values in Quanitity column. These may be due to item returned. Since a returned item represents a null transaction. We will impute Zero wherever the quantity is negative.\n",
    "- We can also observe minimun unit price of some item is negative. This maybe due to some error. \n",
    "- Maximun price of an item is 38970 dollars. It will be interesting to check this particular customer. How frequent this buyer is? How much per purchase on average he spends?\n",
    "- 80995 quantities that unit seems a bit odd. This customer can be an outlier. Again it would be interesting to check average number and type of purchases this customer has made. "
   ]
  },
  {
   "cell_type": "markdown",
   "id": "3aa68588",
   "metadata": {},
   "source": [
    "##### - checking negative value in quantity column"
   ]
  },
  {
   "cell_type": "code",
   "execution_count": 14,
   "id": "5b207c7c",
   "metadata": {},
   "outputs": [
    {
     "data": {
      "text/html": [
       "<div>\n",
       "<style scoped>\n",
       "    .dataframe tbody tr th:only-of-type {\n",
       "        vertical-align: middle;\n",
       "    }\n",
       "\n",
       "    .dataframe tbody tr th {\n",
       "        vertical-align: top;\n",
       "    }\n",
       "\n",
       "    .dataframe thead th {\n",
       "        text-align: right;\n",
       "    }\n",
       "</style>\n",
       "<table border=\"1\" class=\"dataframe\">\n",
       "  <thead>\n",
       "    <tr style=\"text-align: right;\">\n",
       "      <th></th>\n",
       "      <th>InvoiceNo</th>\n",
       "      <th>StockCode</th>\n",
       "      <th>Description</th>\n",
       "      <th>Quantity</th>\n",
       "      <th>InvoiceDate</th>\n",
       "      <th>UnitPrice</th>\n",
       "      <th>CustomerID</th>\n",
       "      <th>Country</th>\n",
       "    </tr>\n",
       "  </thead>\n",
       "  <tbody>\n",
       "    <tr>\n",
       "      <th>141</th>\n",
       "      <td>C536379</td>\n",
       "      <td>D</td>\n",
       "      <td>Discount</td>\n",
       "      <td>-1</td>\n",
       "      <td>2010-12-01 09:41:00</td>\n",
       "      <td>27.50</td>\n",
       "      <td>14527.0</td>\n",
       "      <td>United Kingdom</td>\n",
       "    </tr>\n",
       "    <tr>\n",
       "      <th>154</th>\n",
       "      <td>C536383</td>\n",
       "      <td>35004C</td>\n",
       "      <td>SET OF 3 COLOURED  FLYING DUCKS</td>\n",
       "      <td>-1</td>\n",
       "      <td>2010-12-01 09:49:00</td>\n",
       "      <td>4.65</td>\n",
       "      <td>15311.0</td>\n",
       "      <td>United Kingdom</td>\n",
       "    </tr>\n",
       "    <tr>\n",
       "      <th>235</th>\n",
       "      <td>C536391</td>\n",
       "      <td>22556</td>\n",
       "      <td>PLASTERS IN TIN CIRCUS PARADE</td>\n",
       "      <td>-12</td>\n",
       "      <td>2010-12-01 10:24:00</td>\n",
       "      <td>1.65</td>\n",
       "      <td>17548.0</td>\n",
       "      <td>United Kingdom</td>\n",
       "    </tr>\n",
       "    <tr>\n",
       "      <th>236</th>\n",
       "      <td>C536391</td>\n",
       "      <td>21984</td>\n",
       "      <td>PACK OF 12 PINK PAISLEY TISSUES</td>\n",
       "      <td>-24</td>\n",
       "      <td>2010-12-01 10:24:00</td>\n",
       "      <td>0.29</td>\n",
       "      <td>17548.0</td>\n",
       "      <td>United Kingdom</td>\n",
       "    </tr>\n",
       "    <tr>\n",
       "      <th>237</th>\n",
       "      <td>C536391</td>\n",
       "      <td>21983</td>\n",
       "      <td>PACK OF 12 BLUE PAISLEY TISSUES</td>\n",
       "      <td>-24</td>\n",
       "      <td>2010-12-01 10:24:00</td>\n",
       "      <td>0.29</td>\n",
       "      <td>17548.0</td>\n",
       "      <td>United Kingdom</td>\n",
       "    </tr>\n",
       "  </tbody>\n",
       "</table>\n",
       "</div>"
      ],
      "text/plain": [
       "    InvoiceNo StockCode                       Description  Quantity  \\\n",
       "141   C536379         D                          Discount        -1   \n",
       "154   C536383    35004C   SET OF 3 COLOURED  FLYING DUCKS        -1   \n",
       "235   C536391     22556    PLASTERS IN TIN CIRCUS PARADE        -12   \n",
       "236   C536391     21984  PACK OF 12 PINK PAISLEY TISSUES        -24   \n",
       "237   C536391     21983  PACK OF 12 BLUE PAISLEY TISSUES        -24   \n",
       "\n",
       "            InvoiceDate  UnitPrice  CustomerID         Country  \n",
       "141 2010-12-01 09:41:00      27.50     14527.0  United Kingdom  \n",
       "154 2010-12-01 09:49:00       4.65     15311.0  United Kingdom  \n",
       "235 2010-12-01 10:24:00       1.65     17548.0  United Kingdom  \n",
       "236 2010-12-01 10:24:00       0.29     17548.0  United Kingdom  \n",
       "237 2010-12-01 10:24:00       0.29     17548.0  United Kingdom  "
      ]
     },
     "execution_count": 14,
     "metadata": {},
     "output_type": "execute_result"
    }
   ],
   "source": [
    "data[data['Quantity']<0].head(5)"
   ]
  },
  {
   "cell_type": "markdown",
   "id": "716091b0",
   "metadata": {},
   "source": [
    "As thought, these include discount, free gift or a returned item. Instead keeping these quanties as negative. Lets replace it with zero. So that they donot have inreverse impact drung total cost calculation."
   ]
  },
  {
   "cell_type": "code",
   "execution_count": 15,
   "id": "c7020192",
   "metadata": {},
   "outputs": [],
   "source": [
    "data['Quantity'] = data['Quantity'].apply(lambda x: x if x>0 else 0)"
   ]
  },
  {
   "cell_type": "code",
   "execution_count": 16,
   "id": "445028a4",
   "metadata": {},
   "outputs": [
    {
     "data": {
      "text/plain": [
       "InvoiceNo      0\n",
       "StockCode      0\n",
       "Description    0\n",
       "Quantity       0\n",
       "InvoiceDate    0\n",
       "UnitPrice      0\n",
       "CustomerID     0\n",
       "Country        0\n",
       "dtype: int64"
      ]
     },
     "execution_count": 16,
     "metadata": {},
     "output_type": "execute_result"
    }
   ],
   "source": [
    "data[data['Quantity']<0].count()"
   ]
  },
  {
   "cell_type": "markdown",
   "id": "46d9d6c6",
   "metadata": {},
   "source": [
    "##### - checking negative value in Unit price column"
   ]
  },
  {
   "cell_type": "code",
   "execution_count": 17,
   "id": "d0c30779",
   "metadata": {
    "scrolled": true
   },
   "outputs": [
    {
     "data": {
      "text/html": [
       "<div>\n",
       "<style scoped>\n",
       "    .dataframe tbody tr th:only-of-type {\n",
       "        vertical-align: middle;\n",
       "    }\n",
       "\n",
       "    .dataframe tbody tr th {\n",
       "        vertical-align: top;\n",
       "    }\n",
       "\n",
       "    .dataframe thead th {\n",
       "        text-align: right;\n",
       "    }\n",
       "</style>\n",
       "<table border=\"1\" class=\"dataframe\">\n",
       "  <thead>\n",
       "    <tr style=\"text-align: right;\">\n",
       "      <th></th>\n",
       "      <th>InvoiceNo</th>\n",
       "      <th>StockCode</th>\n",
       "      <th>Description</th>\n",
       "      <th>Quantity</th>\n",
       "      <th>InvoiceDate</th>\n",
       "      <th>UnitPrice</th>\n",
       "      <th>CustomerID</th>\n",
       "      <th>Country</th>\n",
       "    </tr>\n",
       "  </thead>\n",
       "  <tbody>\n",
       "    <tr>\n",
       "      <th>299983</th>\n",
       "      <td>A563186</td>\n",
       "      <td>B</td>\n",
       "      <td>Adjust bad debt</td>\n",
       "      <td>1</td>\n",
       "      <td>2011-08-12 14:51:00</td>\n",
       "      <td>-11062.06</td>\n",
       "      <td>NaN</td>\n",
       "      <td>United Kingdom</td>\n",
       "    </tr>\n",
       "    <tr>\n",
       "      <th>299984</th>\n",
       "      <td>A563187</td>\n",
       "      <td>B</td>\n",
       "      <td>Adjust bad debt</td>\n",
       "      <td>1</td>\n",
       "      <td>2011-08-12 14:52:00</td>\n",
       "      <td>-11062.06</td>\n",
       "      <td>NaN</td>\n",
       "      <td>United Kingdom</td>\n",
       "    </tr>\n",
       "  </tbody>\n",
       "</table>\n",
       "</div>"
      ],
      "text/plain": [
       "       InvoiceNo StockCode      Description  Quantity         InvoiceDate  \\\n",
       "299983   A563186         B  Adjust bad debt         1 2011-08-12 14:51:00   \n",
       "299984   A563187         B  Adjust bad debt         1 2011-08-12 14:52:00   \n",
       "\n",
       "        UnitPrice  CustomerID         Country  \n",
       "299983  -11062.06         NaN  United Kingdom  \n",
       "299984  -11062.06         NaN  United Kingdom  "
      ]
     },
     "execution_count": 17,
     "metadata": {},
     "output_type": "execute_result"
    }
   ],
   "source": [
    "data[data['UnitPrice']<0]"
   ]
  },
  {
   "cell_type": "markdown",
   "id": "ea3d1ecd",
   "metadata": {},
   "source": [
    "We will drop these data points. As desciption suggest, these are adjustment in bad debts."
   ]
  },
  {
   "cell_type": "code",
   "execution_count": 18,
   "id": "780f3b38",
   "metadata": {},
   "outputs": [],
   "source": [
    "data.drop(index=data[data['UnitPrice']<0].index,inplace=True)"
   ]
  },
  {
   "cell_type": "code",
   "execution_count": 19,
   "id": "3301a93a",
   "metadata": {},
   "outputs": [
    {
     "data": {
      "text/html": [
       "<div>\n",
       "<style scoped>\n",
       "    .dataframe tbody tr th:only-of-type {\n",
       "        vertical-align: middle;\n",
       "    }\n",
       "\n",
       "    .dataframe tbody tr th {\n",
       "        vertical-align: top;\n",
       "    }\n",
       "\n",
       "    .dataframe thead th {\n",
       "        text-align: right;\n",
       "    }\n",
       "</style>\n",
       "<table border=\"1\" class=\"dataframe\">\n",
       "  <thead>\n",
       "    <tr style=\"text-align: right;\">\n",
       "      <th></th>\n",
       "      <th>count</th>\n",
       "      <th>mean</th>\n",
       "      <th>std</th>\n",
       "      <th>min</th>\n",
       "      <th>25%</th>\n",
       "      <th>50%</th>\n",
       "      <th>75%</th>\n",
       "      <th>max</th>\n",
       "    </tr>\n",
       "  </thead>\n",
       "  <tbody>\n",
       "    <tr>\n",
       "      <th>Quantity</th>\n",
       "      <td>541907.0</td>\n",
       "      <td>10.446403</td>\n",
       "      <td>155.292711</td>\n",
       "      <td>0.0</td>\n",
       "      <td>1.00</td>\n",
       "      <td>3.00</td>\n",
       "      <td>10.00</td>\n",
       "      <td>80995.0</td>\n",
       "    </tr>\n",
       "    <tr>\n",
       "      <th>UnitPrice</th>\n",
       "      <td>541907.0</td>\n",
       "      <td>4.651957</td>\n",
       "      <td>94.395447</td>\n",
       "      <td>0.0</td>\n",
       "      <td>1.25</td>\n",
       "      <td>2.08</td>\n",
       "      <td>4.13</td>\n",
       "      <td>38970.0</td>\n",
       "    </tr>\n",
       "    <tr>\n",
       "      <th>CustomerID</th>\n",
       "      <td>406829.0</td>\n",
       "      <td>15287.690570</td>\n",
       "      <td>1713.600303</td>\n",
       "      <td>12346.0</td>\n",
       "      <td>13953.00</td>\n",
       "      <td>15152.00</td>\n",
       "      <td>16791.00</td>\n",
       "      <td>18287.0</td>\n",
       "    </tr>\n",
       "  </tbody>\n",
       "</table>\n",
       "</div>"
      ],
      "text/plain": [
       "               count          mean          std      min       25%       50%  \\\n",
       "Quantity    541907.0     10.446403   155.292711      0.0      1.00      3.00   \n",
       "UnitPrice   541907.0      4.651957    94.395447      0.0      1.25      2.08   \n",
       "CustomerID  406829.0  15287.690570  1713.600303  12346.0  13953.00  15152.00   \n",
       "\n",
       "                 75%      max  \n",
       "Quantity       10.00  80995.0  \n",
       "UnitPrice       4.13  38970.0  \n",
       "CustomerID  16791.00  18287.0  "
      ]
     },
     "execution_count": 19,
     "metadata": {},
     "output_type": "execute_result"
    }
   ],
   "source": [
    "data.describe().T"
   ]
  },
  {
   "cell_type": "markdown",
   "id": "dab1522f",
   "metadata": {},
   "source": [
    "Now, unit price is showing minimum value as zero."
   ]
  },
  {
   "cell_type": "code",
   "execution_count": 20,
   "id": "552f2b21",
   "metadata": {},
   "outputs": [
    {
     "data": {
      "text/html": [
       "<div>\n",
       "<style scoped>\n",
       "    .dataframe tbody tr th:only-of-type {\n",
       "        vertical-align: middle;\n",
       "    }\n",
       "\n",
       "    .dataframe tbody tr th {\n",
       "        vertical-align: top;\n",
       "    }\n",
       "\n",
       "    .dataframe thead th {\n",
       "        text-align: right;\n",
       "    }\n",
       "</style>\n",
       "<table border=\"1\" class=\"dataframe\">\n",
       "  <thead>\n",
       "    <tr style=\"text-align: right;\">\n",
       "      <th></th>\n",
       "      <th>InvoiceNo</th>\n",
       "      <th>StockCode</th>\n",
       "      <th>Description</th>\n",
       "      <th>Quantity</th>\n",
       "      <th>InvoiceDate</th>\n",
       "      <th>UnitPrice</th>\n",
       "      <th>CustomerID</th>\n",
       "      <th>Country</th>\n",
       "    </tr>\n",
       "  </thead>\n",
       "  <tbody>\n",
       "    <tr>\n",
       "      <th>622</th>\n",
       "      <td>536414</td>\n",
       "      <td>22139</td>\n",
       "      <td>NaN</td>\n",
       "      <td>56</td>\n",
       "      <td>2010-12-01 11:52:00</td>\n",
       "      <td>0.0</td>\n",
       "      <td>NaN</td>\n",
       "      <td>United Kingdom</td>\n",
       "    </tr>\n",
       "    <tr>\n",
       "      <th>1970</th>\n",
       "      <td>536545</td>\n",
       "      <td>21134</td>\n",
       "      <td>NaN</td>\n",
       "      <td>1</td>\n",
       "      <td>2010-12-01 14:32:00</td>\n",
       "      <td>0.0</td>\n",
       "      <td>NaN</td>\n",
       "      <td>United Kingdom</td>\n",
       "    </tr>\n",
       "    <tr>\n",
       "      <th>1971</th>\n",
       "      <td>536546</td>\n",
       "      <td>22145</td>\n",
       "      <td>NaN</td>\n",
       "      <td>1</td>\n",
       "      <td>2010-12-01 14:33:00</td>\n",
       "      <td>0.0</td>\n",
       "      <td>NaN</td>\n",
       "      <td>United Kingdom</td>\n",
       "    </tr>\n",
       "    <tr>\n",
       "      <th>1972</th>\n",
       "      <td>536547</td>\n",
       "      <td>37509</td>\n",
       "      <td>NaN</td>\n",
       "      <td>1</td>\n",
       "      <td>2010-12-01 14:33:00</td>\n",
       "      <td>0.0</td>\n",
       "      <td>NaN</td>\n",
       "      <td>United Kingdom</td>\n",
       "    </tr>\n",
       "    <tr>\n",
       "      <th>1987</th>\n",
       "      <td>536549</td>\n",
       "      <td>85226A</td>\n",
       "      <td>NaN</td>\n",
       "      <td>1</td>\n",
       "      <td>2010-12-01 14:34:00</td>\n",
       "      <td>0.0</td>\n",
       "      <td>NaN</td>\n",
       "      <td>United Kingdom</td>\n",
       "    </tr>\n",
       "    <tr>\n",
       "      <th>...</th>\n",
       "      <td>...</td>\n",
       "      <td>...</td>\n",
       "      <td>...</td>\n",
       "      <td>...</td>\n",
       "      <td>...</td>\n",
       "      <td>...</td>\n",
       "      <td>...</td>\n",
       "      <td>...</td>\n",
       "    </tr>\n",
       "    <tr>\n",
       "      <th>536981</th>\n",
       "      <td>581234</td>\n",
       "      <td>72817</td>\n",
       "      <td>NaN</td>\n",
       "      <td>27</td>\n",
       "      <td>2011-12-08 10:33:00</td>\n",
       "      <td>0.0</td>\n",
       "      <td>NaN</td>\n",
       "      <td>United Kingdom</td>\n",
       "    </tr>\n",
       "    <tr>\n",
       "      <th>538504</th>\n",
       "      <td>581406</td>\n",
       "      <td>46000M</td>\n",
       "      <td>POLYESTER FILLER PAD 45x45cm</td>\n",
       "      <td>240</td>\n",
       "      <td>2011-12-08 13:58:00</td>\n",
       "      <td>0.0</td>\n",
       "      <td>NaN</td>\n",
       "      <td>United Kingdom</td>\n",
       "    </tr>\n",
       "    <tr>\n",
       "      <th>538505</th>\n",
       "      <td>581406</td>\n",
       "      <td>46000S</td>\n",
       "      <td>POLYESTER FILLER PAD 40x40cm</td>\n",
       "      <td>300</td>\n",
       "      <td>2011-12-08 13:58:00</td>\n",
       "      <td>0.0</td>\n",
       "      <td>NaN</td>\n",
       "      <td>United Kingdom</td>\n",
       "    </tr>\n",
       "    <tr>\n",
       "      <th>538554</th>\n",
       "      <td>581408</td>\n",
       "      <td>85175</td>\n",
       "      <td>NaN</td>\n",
       "      <td>20</td>\n",
       "      <td>2011-12-08 14:06:00</td>\n",
       "      <td>0.0</td>\n",
       "      <td>NaN</td>\n",
       "      <td>United Kingdom</td>\n",
       "    </tr>\n",
       "    <tr>\n",
       "      <th>538919</th>\n",
       "      <td>581422</td>\n",
       "      <td>23169</td>\n",
       "      <td>smashed</td>\n",
       "      <td>0</td>\n",
       "      <td>2011-12-08 15:24:00</td>\n",
       "      <td>0.0</td>\n",
       "      <td>NaN</td>\n",
       "      <td>United Kingdom</td>\n",
       "    </tr>\n",
       "  </tbody>\n",
       "</table>\n",
       "<p>2515 rows × 8 columns</p>\n",
       "</div>"
      ],
      "text/plain": [
       "       InvoiceNo StockCode                   Description  Quantity  \\\n",
       "622       536414     22139                           NaN        56   \n",
       "1970      536545     21134                           NaN         1   \n",
       "1971      536546     22145                           NaN         1   \n",
       "1972      536547     37509                           NaN         1   \n",
       "1987      536549    85226A                           NaN         1   \n",
       "...          ...       ...                           ...       ...   \n",
       "536981    581234     72817                           NaN        27   \n",
       "538504    581406    46000M  POLYESTER FILLER PAD 45x45cm       240   \n",
       "538505    581406    46000S  POLYESTER FILLER PAD 40x40cm       300   \n",
       "538554    581408     85175                           NaN        20   \n",
       "538919    581422     23169                       smashed         0   \n",
       "\n",
       "               InvoiceDate  UnitPrice  CustomerID         Country  \n",
       "622    2010-12-01 11:52:00        0.0         NaN  United Kingdom  \n",
       "1970   2010-12-01 14:32:00        0.0         NaN  United Kingdom  \n",
       "1971   2010-12-01 14:33:00        0.0         NaN  United Kingdom  \n",
       "1972   2010-12-01 14:33:00        0.0         NaN  United Kingdom  \n",
       "1987   2010-12-01 14:34:00        0.0         NaN  United Kingdom  \n",
       "...                    ...        ...         ...             ...  \n",
       "536981 2011-12-08 10:33:00        0.0         NaN  United Kingdom  \n",
       "538504 2011-12-08 13:58:00        0.0         NaN  United Kingdom  \n",
       "538505 2011-12-08 13:58:00        0.0         NaN  United Kingdom  \n",
       "538554 2011-12-08 14:06:00        0.0         NaN  United Kingdom  \n",
       "538919 2011-12-08 15:24:00        0.0         NaN  United Kingdom  \n",
       "\n",
       "[2515 rows x 8 columns]"
      ]
     },
     "execution_count": 20,
     "metadata": {},
     "output_type": "execute_result"
    }
   ],
   "source": [
    "data[data['UnitPrice']==0]"
   ]
  },
  {
   "cell_type": "markdown",
   "id": "b5473bb7",
   "metadata": {},
   "source": [
    "These items will anyway nullify themselves during feature engineering. Many of them are also missing customer ID."
   ]
  },
  {
   "cell_type": "markdown",
   "id": "d5255a02",
   "metadata": {},
   "source": [
    "## Feature Engineering"
   ]
  },
  {
   "cell_type": "markdown",
   "id": "88b2d93f",
   "metadata": {},
   "source": [
    "We should do some feature engineering, merging columns like unit price and quantity. Later combining items inside a single invoice number and then grouping by customer id. "
   ]
  },
  {
   "cell_type": "code",
   "execution_count": 21,
   "id": "8f8f6f78",
   "metadata": {},
   "outputs": [
    {
     "name": "stdout",
     "output_type": "stream",
     "text": [
      "<class 'pandas.core.frame.DataFrame'>\n",
      "Int64Index: 541907 entries, 0 to 541908\n",
      "Data columns (total 8 columns):\n",
      " #   Column       Non-Null Count   Dtype         \n",
      "---  ------       --------------   -----         \n",
      " 0   InvoiceNo    541907 non-null  object        \n",
      " 1   StockCode    541907 non-null  object        \n",
      " 2   Description  540453 non-null  object        \n",
      " 3   Quantity     541907 non-null  int64         \n",
      " 4   InvoiceDate  541907 non-null  datetime64[ns]\n",
      " 5   UnitPrice    541907 non-null  float64       \n",
      " 6   CustomerID   406829 non-null  float64       \n",
      " 7   Country      541907 non-null  object        \n",
      "dtypes: datetime64[ns](1), float64(2), int64(1), object(4)\n",
      "memory usage: 37.2+ MB\n"
     ]
    }
   ],
   "source": [
    "data.info()"
   ]
  },
  {
   "cell_type": "code",
   "execution_count": 22,
   "id": "7d228d20",
   "metadata": {},
   "outputs": [
    {
     "data": {
      "text/plain": [
       "0.002683117213839275"
      ]
     },
     "execution_count": 22,
     "metadata": {},
     "output_type": "execute_result"
    }
   ],
   "source": [
    "data['Description'].isnull().sum()/len(data)"
   ]
  },
  {
   "cell_type": "markdown",
   "id": "69959f65",
   "metadata": {},
   "source": [
    "- The missing values in Desciption column are negligible. We won't drop it now.\n",
    "- In case of Customer ID er cannot impute Customer id. \n",
    "So whenever need arises we will drop these rows with missing values."
   ]
  },
  {
   "cell_type": "code",
   "execution_count": 23,
   "id": "6877b976",
   "metadata": {},
   "outputs": [
    {
     "data": {
      "text/html": [
       "<div>\n",
       "<style scoped>\n",
       "    .dataframe tbody tr th:only-of-type {\n",
       "        vertical-align: middle;\n",
       "    }\n",
       "\n",
       "    .dataframe tbody tr th {\n",
       "        vertical-align: top;\n",
       "    }\n",
       "\n",
       "    .dataframe thead th {\n",
       "        text-align: right;\n",
       "    }\n",
       "</style>\n",
       "<table border=\"1\" class=\"dataframe\">\n",
       "  <thead>\n",
       "    <tr style=\"text-align: right;\">\n",
       "      <th></th>\n",
       "      <th>InvoiceNo</th>\n",
       "      <th>StockCode</th>\n",
       "      <th>Description</th>\n",
       "      <th>Quantity</th>\n",
       "      <th>InvoiceDate</th>\n",
       "      <th>UnitPrice</th>\n",
       "      <th>CustomerID</th>\n",
       "      <th>Country</th>\n",
       "    </tr>\n",
       "  </thead>\n",
       "  <tbody>\n",
       "    <tr>\n",
       "      <th>0</th>\n",
       "      <td>536365</td>\n",
       "      <td>85123A</td>\n",
       "      <td>WHITE HANGING HEART T-LIGHT HOLDER</td>\n",
       "      <td>6</td>\n",
       "      <td>2010-12-01 08:26:00</td>\n",
       "      <td>2.55</td>\n",
       "      <td>17850.0</td>\n",
       "      <td>United Kingdom</td>\n",
       "    </tr>\n",
       "    <tr>\n",
       "      <th>1</th>\n",
       "      <td>536365</td>\n",
       "      <td>71053</td>\n",
       "      <td>WHITE METAL LANTERN</td>\n",
       "      <td>6</td>\n",
       "      <td>2010-12-01 08:26:00</td>\n",
       "      <td>3.39</td>\n",
       "      <td>17850.0</td>\n",
       "      <td>United Kingdom</td>\n",
       "    </tr>\n",
       "  </tbody>\n",
       "</table>\n",
       "</div>"
      ],
      "text/plain": [
       "  InvoiceNo StockCode                         Description  Quantity  \\\n",
       "0    536365    85123A  WHITE HANGING HEART T-LIGHT HOLDER         6   \n",
       "1    536365     71053                 WHITE METAL LANTERN         6   \n",
       "\n",
       "          InvoiceDate  UnitPrice  CustomerID         Country  \n",
       "0 2010-12-01 08:26:00       2.55     17850.0  United Kingdom  \n",
       "1 2010-12-01 08:26:00       3.39     17850.0  United Kingdom  "
      ]
     },
     "execution_count": 23,
     "metadata": {},
     "output_type": "execute_result"
    }
   ],
   "source": [
    "data.head(2)"
   ]
  },
  {
   "cell_type": "markdown",
   "id": "24bb5461",
   "metadata": {},
   "source": [
    "We can create a single Total Amt column by multiplying quantity with unit price"
   ]
  },
  {
   "cell_type": "code",
   "execution_count": 24,
   "id": "88aaeaf5",
   "metadata": {},
   "outputs": [
    {
     "data": {
      "text/html": [
       "<div>\n",
       "<style scoped>\n",
       "    .dataframe tbody tr th:only-of-type {\n",
       "        vertical-align: middle;\n",
       "    }\n",
       "\n",
       "    .dataframe tbody tr th {\n",
       "        vertical-align: top;\n",
       "    }\n",
       "\n",
       "    .dataframe thead th {\n",
       "        text-align: right;\n",
       "    }\n",
       "</style>\n",
       "<table border=\"1\" class=\"dataframe\">\n",
       "  <thead>\n",
       "    <tr style=\"text-align: right;\">\n",
       "      <th></th>\n",
       "      <th>InvoiceNo</th>\n",
       "      <th>StockCode</th>\n",
       "      <th>Description</th>\n",
       "      <th>Quantity</th>\n",
       "      <th>InvoiceDate</th>\n",
       "      <th>UnitPrice</th>\n",
       "      <th>CustomerID</th>\n",
       "      <th>Country</th>\n",
       "      <th>Total_Amt</th>\n",
       "    </tr>\n",
       "  </thead>\n",
       "  <tbody>\n",
       "    <tr>\n",
       "      <th>0</th>\n",
       "      <td>536365</td>\n",
       "      <td>85123A</td>\n",
       "      <td>WHITE HANGING HEART T-LIGHT HOLDER</td>\n",
       "      <td>6</td>\n",
       "      <td>2010-12-01 08:26:00</td>\n",
       "      <td>2.55</td>\n",
       "      <td>17850.0</td>\n",
       "      <td>United Kingdom</td>\n",
       "      <td>15.30</td>\n",
       "    </tr>\n",
       "    <tr>\n",
       "      <th>1</th>\n",
       "      <td>536365</td>\n",
       "      <td>71053</td>\n",
       "      <td>WHITE METAL LANTERN</td>\n",
       "      <td>6</td>\n",
       "      <td>2010-12-01 08:26:00</td>\n",
       "      <td>3.39</td>\n",
       "      <td>17850.0</td>\n",
       "      <td>United Kingdom</td>\n",
       "      <td>20.34</td>\n",
       "    </tr>\n",
       "  </tbody>\n",
       "</table>\n",
       "</div>"
      ],
      "text/plain": [
       "  InvoiceNo StockCode                         Description  Quantity  \\\n",
       "0    536365    85123A  WHITE HANGING HEART T-LIGHT HOLDER         6   \n",
       "1    536365     71053                 WHITE METAL LANTERN         6   \n",
       "\n",
       "          InvoiceDate  UnitPrice  CustomerID         Country  Total_Amt  \n",
       "0 2010-12-01 08:26:00       2.55     17850.0  United Kingdom      15.30  \n",
       "1 2010-12-01 08:26:00       3.39     17850.0  United Kingdom      20.34  "
      ]
     },
     "execution_count": 24,
     "metadata": {},
     "output_type": "execute_result"
    }
   ],
   "source": [
    "data['Total_Amt'] = data['Quantity']*data['UnitPrice']\n",
    "data.head(2)"
   ]
  },
  {
   "cell_type": "code",
   "execution_count": 25,
   "id": "dd5c6f40",
   "metadata": {},
   "outputs": [],
   "source": [
    "# Dropping Quantity and Unitprice column since they are represented by Total amt column now\n",
    "data.drop(['Quantity','UnitPrice'],axis=1,inplace=True)"
   ]
  },
  {
   "cell_type": "code",
   "execution_count": 26,
   "id": "d7bd8193",
   "metadata": {},
   "outputs": [
    {
     "data": {
      "text/html": [
       "<div>\n",
       "<style scoped>\n",
       "    .dataframe tbody tr th:only-of-type {\n",
       "        vertical-align: middle;\n",
       "    }\n",
       "\n",
       "    .dataframe tbody tr th {\n",
       "        vertical-align: top;\n",
       "    }\n",
       "\n",
       "    .dataframe thead th {\n",
       "        text-align: right;\n",
       "    }\n",
       "</style>\n",
       "<table border=\"1\" class=\"dataframe\">\n",
       "  <thead>\n",
       "    <tr style=\"text-align: right;\">\n",
       "      <th></th>\n",
       "      <th>InvoiceNo</th>\n",
       "      <th>StockCode</th>\n",
       "      <th>Description</th>\n",
       "      <th>InvoiceDate</th>\n",
       "      <th>CustomerID</th>\n",
       "      <th>Country</th>\n",
       "      <th>Total_Amt</th>\n",
       "    </tr>\n",
       "  </thead>\n",
       "  <tbody>\n",
       "    <tr>\n",
       "      <th>0</th>\n",
       "      <td>536365</td>\n",
       "      <td>85123A</td>\n",
       "      <td>WHITE HANGING HEART T-LIGHT HOLDER</td>\n",
       "      <td>2010-12-01 08:26:00</td>\n",
       "      <td>17850.0</td>\n",
       "      <td>United Kingdom</td>\n",
       "      <td>15.30</td>\n",
       "    </tr>\n",
       "    <tr>\n",
       "      <th>1</th>\n",
       "      <td>536365</td>\n",
       "      <td>71053</td>\n",
       "      <td>WHITE METAL LANTERN</td>\n",
       "      <td>2010-12-01 08:26:00</td>\n",
       "      <td>17850.0</td>\n",
       "      <td>United Kingdom</td>\n",
       "      <td>20.34</td>\n",
       "    </tr>\n",
       "  </tbody>\n",
       "</table>\n",
       "</div>"
      ],
      "text/plain": [
       "  InvoiceNo StockCode                         Description         InvoiceDate  \\\n",
       "0    536365    85123A  WHITE HANGING HEART T-LIGHT HOLDER 2010-12-01 08:26:00   \n",
       "1    536365     71053                 WHITE METAL LANTERN 2010-12-01 08:26:00   \n",
       "\n",
       "   CustomerID         Country  Total_Amt  \n",
       "0     17850.0  United Kingdom      15.30  \n",
       "1     17850.0  United Kingdom      20.34  "
      ]
     },
     "execution_count": 26,
     "metadata": {},
     "output_type": "execute_result"
    }
   ],
   "source": [
    "data.head(2)"
   ]
  },
  {
   "cell_type": "code",
   "execution_count": 27,
   "id": "7ef96260",
   "metadata": {},
   "outputs": [
    {
     "data": {
      "text/plain": [
       "InvoiceNo      25898\n",
       "StockCode       4070\n",
       "Description     4223\n",
       "InvoiceDate    23258\n",
       "CustomerID      4372\n",
       "Country           38\n",
       "Total_Amt       4907\n",
       "dtype: int64"
      ]
     },
     "execution_count": 27,
     "metadata": {},
     "output_type": "execute_result"
    }
   ],
   "source": [
    "data.nunique()"
   ]
  },
  {
   "cell_type": "markdown",
   "id": "bffc4480",
   "metadata": {},
   "source": [
    "# EDA"
   ]
  },
  {
   "cell_type": "markdown",
   "id": "051f3212",
   "metadata": {},
   "source": [
    "Lets do some basic EDA before proceeding with customer segregation"
   ]
  },
  {
   "cell_type": "code",
   "execution_count": 28,
   "id": "86f2be6e",
   "metadata": {},
   "outputs": [
    {
     "name": "stdout",
     "output_type": "stream",
     "text": [
      "<class 'pandas.core.frame.DataFrame'>\n",
      "Int64Index: 541907 entries, 0 to 541908\n",
      "Data columns (total 7 columns):\n",
      " #   Column       Non-Null Count   Dtype         \n",
      "---  ------       --------------   -----         \n",
      " 0   InvoiceNo    541907 non-null  object        \n",
      " 1   StockCode    541907 non-null  object        \n",
      " 2   Description  540453 non-null  object        \n",
      " 3   InvoiceDate  541907 non-null  datetime64[ns]\n",
      " 4   CustomerID   406829 non-null  float64       \n",
      " 5   Country      541907 non-null  object        \n",
      " 6   Total_Amt    541907 non-null  float64       \n",
      "dtypes: datetime64[ns](1), float64(2), object(4)\n",
      "memory usage: 33.1+ MB\n"
     ]
    }
   ],
   "source": [
    "data.info()"
   ]
  },
  {
   "cell_type": "code",
   "execution_count": 29,
   "id": "167d57a0",
   "metadata": {},
   "outputs": [
    {
     "name": "stdout",
     "output_type": "stream",
     "text": [
      "Total number of unique values in InvoiceNo column are: 25898\n",
      "---------------------------------------------------------------------------\n",
      "Total number of unique values in StockCode column are: 4070\n",
      "---------------------------------------------------------------------------\n",
      "Total number of unique values in Description column are: 4223\n",
      "---------------------------------------------------------------------------\n",
      "Total number of unique values in InvoiceDate column are: 23258\n",
      "---------------------------------------------------------------------------\n",
      "Total number of unique values in CustomerID column are: 4372\n",
      "---------------------------------------------------------------------------\n",
      "Total number of unique values in Country column are: 38\n",
      "---------------------------------------------------------------------------\n",
      "Total number of unique values in Total_Amt column are: 4907\n",
      "---------------------------------------------------------------------------\n"
     ]
    }
   ],
   "source": [
    "for i in data.columns:\n",
    "    print(f'Total number of unique values in {i} column are:',data[i].nunique())\n",
    "    print('-----'*15)"
   ]
  },
  {
   "cell_type": "markdown",
   "id": "3312c231",
   "metadata": {},
   "source": [
    "Out of this we will check the COuntry column values"
   ]
  },
  {
   "cell_type": "code",
   "execution_count": 30,
   "id": "cd14ef87",
   "metadata": {},
   "outputs": [
    {
     "data": {
      "text/plain": [
       "541907"
      ]
     },
     "execution_count": 30,
     "metadata": {},
     "output_type": "execute_result"
    }
   ],
   "source": [
    "len(data['Country'])"
   ]
  },
  {
   "cell_type": "code",
   "execution_count": 31,
   "id": "91687eaf",
   "metadata": {},
   "outputs": [
    {
     "data": {
      "text/plain": [
       "United Kingdom          91.431925\n",
       "Germany                  1.752146\n",
       "France                   1.579053\n",
       "EIRE                     1.512437\n",
       "Spain                    0.467423\n",
       "Netherlands              0.437529\n",
       "Belgium                  0.381800\n",
       "Switzerland              0.369436\n",
       "Portugal                 0.280306\n",
       "Australia                0.232328\n",
       "Norway                   0.200403\n",
       "Italy                    0.148180\n",
       "Channel Islands          0.139876\n",
       "Finland                  0.128251\n",
       "Cyprus                   0.114780\n",
       "Sweden                   0.085254\n",
       "Unspecified              0.082302\n",
       "Austria                  0.073998\n",
       "Denmark                  0.071784\n",
       "Japan                    0.066063\n",
       "Poland                   0.062926\n",
       "Israel                   0.054806\n",
       "USA                      0.053699\n",
       "Hong Kong                0.053146\n",
       "Singapore                0.042258\n",
       "Iceland                  0.033585\n",
       "Canada                   0.027865\n",
       "Greece                   0.026942\n",
       "Malta                    0.023436\n",
       "United Arab Emirates     0.012548\n",
       "European Community       0.011257\n",
       "RSA                      0.010703\n",
       "Lebanon                  0.008304\n",
       "Lithuania                0.006459\n",
       "Brazil                   0.005905\n",
       "Czech Republic           0.005536\n",
       "Bahrain                  0.003506\n",
       "Saudi Arabia             0.001845\n",
       "Name: Country, dtype: float64"
      ]
     },
     "execution_count": 31,
     "metadata": {},
     "output_type": "execute_result"
    }
   ],
   "source": [
    "(data['Country'].value_counts()/len(data['Country']))*100"
   ]
  },
  {
   "cell_type": "markdown",
   "id": "1f2f3163",
   "metadata": {},
   "source": [
    "- More than 90% of Customer data is from UK.\n",
    "- So we can say that the data is biased and represent only particular part of the world. It would have been interesting to draw insights and check wheather their is substantial difference in behavior based on nationality.\n",
    "- My hypothesis is there should be a difference. But sadly we donot have sufficient data of other countries to make check that claim."
   ]
  },
  {
   "cell_type": "markdown",
   "id": "a9bc5c95",
   "metadata": {},
   "source": [
    "##### I am thinking proceeding with the objective and carry out EDA towards the end when we have most of data properly organised and merged."
   ]
  },
  {
   "cell_type": "markdown",
   "id": "11ce0075",
   "metadata": {},
   "source": [
    "## Goal 1: Segregating Customers on basis of Recency, Frquency & Monetary"
   ]
  },
  {
   "cell_type": "markdown",
   "id": "aec78afb",
   "metadata": {},
   "source": [
    "We will first group by invoice number then by customer id.\n",
    "\n",
    "We will form two separate dataframes.\n",
    "- One with Invoice number and Total amount. So we can sum up the Total amount.\n",
    "- Second Invoice number, date and customer id. In this we will drop duplicate values of invoice number.\n",
    "- Rest all columns which are not required we will drop,\n",
    "\n",
    "Later we will segment customers based on their \n",
    "- ***Recency*** - Last data of purchase, \n",
    "- ***Frequency*** - No. of times purchase is made \n",
    "- ***Monetary***  - Total amount spent by customer.\n",
    "\n",
    "We will segement customer into different classes and target different schemes to reduce customer losing rate."
   ]
  },
  {
   "cell_type": "markdown",
   "id": "688362a6",
   "metadata": {},
   "source": [
    "Since we are starting with customer segmentation it will be better to drop columns with misisng customer number."
   ]
  },
  {
   "cell_type": "code",
   "execution_count": 32,
   "id": "bf32f21b",
   "metadata": {},
   "outputs": [
    {
     "data": {
      "text/plain": [
       "(541907, 7)"
      ]
     },
     "execution_count": 32,
     "metadata": {},
     "output_type": "execute_result"
    }
   ],
   "source": [
    "data.shape"
   ]
  },
  {
   "cell_type": "code",
   "execution_count": 33,
   "id": "cc0ab076",
   "metadata": {},
   "outputs": [
    {
     "data": {
      "text/plain": [
       "Index(['InvoiceNo', 'StockCode', 'Description', 'InvoiceDate', 'CustomerID',\n",
       "       'Country', 'Total_Amt'],\n",
       "      dtype='object')"
      ]
     },
     "execution_count": 33,
     "metadata": {},
     "output_type": "execute_result"
    }
   ],
   "source": [
    "data.columns"
   ]
  },
  {
   "cell_type": "code",
   "execution_count": 34,
   "id": "88b3707f",
   "metadata": {},
   "outputs": [],
   "source": [
    "data.dropna(subset=['CustomerID'],axis = 0,inplace=True)"
   ]
  },
  {
   "cell_type": "code",
   "execution_count": 35,
   "id": "f36e0b3c",
   "metadata": {},
   "outputs": [
    {
     "data": {
      "text/plain": [
       "(406829, 7)"
      ]
     },
     "execution_count": 35,
     "metadata": {},
     "output_type": "execute_result"
    }
   ],
   "source": [
    "data.shape"
   ]
  },
  {
   "cell_type": "code",
   "execution_count": 36,
   "id": "1c412154",
   "metadata": {},
   "outputs": [
    {
     "data": {
      "text/html": [
       "<div>\n",
       "<style scoped>\n",
       "    .dataframe tbody tr th:only-of-type {\n",
       "        vertical-align: middle;\n",
       "    }\n",
       "\n",
       "    .dataframe tbody tr th {\n",
       "        vertical-align: top;\n",
       "    }\n",
       "\n",
       "    .dataframe thead th {\n",
       "        text-align: right;\n",
       "    }\n",
       "</style>\n",
       "<table border=\"1\" class=\"dataframe\">\n",
       "  <thead>\n",
       "    <tr style=\"text-align: right;\">\n",
       "      <th></th>\n",
       "      <th>InvoiceNo</th>\n",
       "      <th>Total_Amt</th>\n",
       "    </tr>\n",
       "  </thead>\n",
       "  <tbody>\n",
       "    <tr>\n",
       "      <th>0</th>\n",
       "      <td>536365</td>\n",
       "      <td>15.30</td>\n",
       "    </tr>\n",
       "    <tr>\n",
       "      <th>1</th>\n",
       "      <td>536365</td>\n",
       "      <td>20.34</td>\n",
       "    </tr>\n",
       "  </tbody>\n",
       "</table>\n",
       "</div>"
      ],
      "text/plain": [
       "  InvoiceNo  Total_Amt\n",
       "0    536365      15.30\n",
       "1    536365      20.34"
      ]
     },
     "execution_count": 36,
     "metadata": {},
     "output_type": "execute_result"
    }
   ],
   "source": [
    "# first df of invoice no. and total amount\n",
    "df1 = data[['InvoiceNo','Total_Amt']]\n",
    "df1.head(2)"
   ]
  },
  {
   "cell_type": "code",
   "execution_count": 37,
   "id": "238c24bb",
   "metadata": {},
   "outputs": [
    {
     "data": {
      "text/html": [
       "<div>\n",
       "<style scoped>\n",
       "    .dataframe tbody tr th:only-of-type {\n",
       "        vertical-align: middle;\n",
       "    }\n",
       "\n",
       "    .dataframe tbody tr th {\n",
       "        vertical-align: top;\n",
       "    }\n",
       "\n",
       "    .dataframe thead th {\n",
       "        text-align: right;\n",
       "    }\n",
       "</style>\n",
       "<table border=\"1\" class=\"dataframe\">\n",
       "  <thead>\n",
       "    <tr style=\"text-align: right;\">\n",
       "      <th></th>\n",
       "      <th>InvoiceNo</th>\n",
       "      <th>InvoiceDate</th>\n",
       "      <th>CustomerID</th>\n",
       "    </tr>\n",
       "  </thead>\n",
       "  <tbody>\n",
       "    <tr>\n",
       "      <th>0</th>\n",
       "      <td>536365</td>\n",
       "      <td>2010-12-01 08:26:00</td>\n",
       "      <td>17850.0</td>\n",
       "    </tr>\n",
       "    <tr>\n",
       "      <th>1</th>\n",
       "      <td>536365</td>\n",
       "      <td>2010-12-01 08:26:00</td>\n",
       "      <td>17850.0</td>\n",
       "    </tr>\n",
       "  </tbody>\n",
       "</table>\n",
       "</div>"
      ],
      "text/plain": [
       "  InvoiceNo         InvoiceDate  CustomerID\n",
       "0    536365 2010-12-01 08:26:00     17850.0\n",
       "1    536365 2010-12-01 08:26:00     17850.0"
      ]
     },
     "execution_count": 37,
     "metadata": {},
     "output_type": "execute_result"
    }
   ],
   "source": [
    "df2 = data.drop(['Total_Amt','Description','Country','StockCode'],axis=1)\n",
    "df2.head(2)"
   ]
  },
  {
   "cell_type": "code",
   "execution_count": 38,
   "id": "598857f2",
   "metadata": {},
   "outputs": [
    {
     "data": {
      "text/html": [
       "<div>\n",
       "<style scoped>\n",
       "    .dataframe tbody tr th:only-of-type {\n",
       "        vertical-align: middle;\n",
       "    }\n",
       "\n",
       "    .dataframe tbody tr th {\n",
       "        vertical-align: top;\n",
       "    }\n",
       "\n",
       "    .dataframe thead th {\n",
       "        text-align: right;\n",
       "    }\n",
       "</style>\n",
       "<table border=\"1\" class=\"dataframe\">\n",
       "  <thead>\n",
       "    <tr style=\"text-align: right;\">\n",
       "      <th></th>\n",
       "      <th>InvoiceNo</th>\n",
       "      <th>Total_Amt</th>\n",
       "    </tr>\n",
       "  </thead>\n",
       "  <tbody>\n",
       "    <tr>\n",
       "      <th>0</th>\n",
       "      <td>536365</td>\n",
       "      <td>139.12</td>\n",
       "    </tr>\n",
       "    <tr>\n",
       "      <th>1</th>\n",
       "      <td>536366</td>\n",
       "      <td>22.20</td>\n",
       "    </tr>\n",
       "    <tr>\n",
       "      <th>2</th>\n",
       "      <td>536367</td>\n",
       "      <td>278.73</td>\n",
       "    </tr>\n",
       "    <tr>\n",
       "      <th>3</th>\n",
       "      <td>536368</td>\n",
       "      <td>70.05</td>\n",
       "    </tr>\n",
       "    <tr>\n",
       "      <th>4</th>\n",
       "      <td>536369</td>\n",
       "      <td>17.85</td>\n",
       "    </tr>\n",
       "  </tbody>\n",
       "</table>\n",
       "</div>"
      ],
      "text/plain": [
       "  InvoiceNo  Total_Amt\n",
       "0    536365     139.12\n",
       "1    536366      22.20\n",
       "2    536367     278.73\n",
       "3    536368      70.05\n",
       "4    536369      17.85"
      ]
     },
     "execution_count": 38,
     "metadata": {},
     "output_type": "execute_result"
    }
   ],
   "source": [
    "df1 = df1.groupby('InvoiceNo').sum()\n",
    "df1.reset_index(inplace=True) # sum of complete amount based on single invoice number\n",
    "df1.head()"
   ]
  },
  {
   "cell_type": "code",
   "execution_count": 39,
   "id": "b1871903",
   "metadata": {},
   "outputs": [
    {
     "name": "stdout",
     "output_type": "stream",
     "text": [
      "Unique values of Invoice No: 22190\n",
      "Total count of InvoiceNo: 406829\n"
     ]
    }
   ],
   "source": [
    "print('Unique values of Invoice No:', df2.nunique()['InvoiceNo'])\n",
    "print('Total count of InvoiceNo:',df2.shape[0])"
   ]
  },
  {
   "cell_type": "code",
   "execution_count": 40,
   "id": "786d0edd",
   "metadata": {
    "scrolled": true
   },
   "outputs": [
    {
     "data": {
      "text/html": [
       "<div>\n",
       "<style scoped>\n",
       "    .dataframe tbody tr th:only-of-type {\n",
       "        vertical-align: middle;\n",
       "    }\n",
       "\n",
       "    .dataframe tbody tr th {\n",
       "        vertical-align: top;\n",
       "    }\n",
       "\n",
       "    .dataframe thead th {\n",
       "        text-align: right;\n",
       "    }\n",
       "</style>\n",
       "<table border=\"1\" class=\"dataframe\">\n",
       "  <thead>\n",
       "    <tr style=\"text-align: right;\">\n",
       "      <th></th>\n",
       "      <th>InvoiceNo</th>\n",
       "      <th>StockCode</th>\n",
       "      <th>Description</th>\n",
       "      <th>InvoiceDate</th>\n",
       "      <th>CustomerID</th>\n",
       "      <th>Country</th>\n",
       "      <th>Total_Amt</th>\n",
       "    </tr>\n",
       "  </thead>\n",
       "  <tbody>\n",
       "    <tr>\n",
       "      <th>0</th>\n",
       "      <td>536365</td>\n",
       "      <td>85123A</td>\n",
       "      <td>WHITE HANGING HEART T-LIGHT HOLDER</td>\n",
       "      <td>2010-12-01 08:26:00</td>\n",
       "      <td>17850.0</td>\n",
       "      <td>United Kingdom</td>\n",
       "      <td>15.30</td>\n",
       "    </tr>\n",
       "    <tr>\n",
       "      <th>1</th>\n",
       "      <td>536365</td>\n",
       "      <td>71053</td>\n",
       "      <td>WHITE METAL LANTERN</td>\n",
       "      <td>2010-12-01 08:26:00</td>\n",
       "      <td>17850.0</td>\n",
       "      <td>United Kingdom</td>\n",
       "      <td>20.34</td>\n",
       "    </tr>\n",
       "    <tr>\n",
       "      <th>2</th>\n",
       "      <td>536365</td>\n",
       "      <td>84406B</td>\n",
       "      <td>CREAM CUPID HEARTS COAT HANGER</td>\n",
       "      <td>2010-12-01 08:26:00</td>\n",
       "      <td>17850.0</td>\n",
       "      <td>United Kingdom</td>\n",
       "      <td>22.00</td>\n",
       "    </tr>\n",
       "    <tr>\n",
       "      <th>3</th>\n",
       "      <td>536365</td>\n",
       "      <td>84029G</td>\n",
       "      <td>KNITTED UNION FLAG HOT WATER BOTTLE</td>\n",
       "      <td>2010-12-01 08:26:00</td>\n",
       "      <td>17850.0</td>\n",
       "      <td>United Kingdom</td>\n",
       "      <td>20.34</td>\n",
       "    </tr>\n",
       "    <tr>\n",
       "      <th>4</th>\n",
       "      <td>536365</td>\n",
       "      <td>84029E</td>\n",
       "      <td>RED WOOLLY HOTTIE WHITE HEART.</td>\n",
       "      <td>2010-12-01 08:26:00</td>\n",
       "      <td>17850.0</td>\n",
       "      <td>United Kingdom</td>\n",
       "      <td>20.34</td>\n",
       "    </tr>\n",
       "    <tr>\n",
       "      <th>...</th>\n",
       "      <td>...</td>\n",
       "      <td>...</td>\n",
       "      <td>...</td>\n",
       "      <td>...</td>\n",
       "      <td>...</td>\n",
       "      <td>...</td>\n",
       "      <td>...</td>\n",
       "    </tr>\n",
       "    <tr>\n",
       "      <th>541904</th>\n",
       "      <td>581587</td>\n",
       "      <td>22613</td>\n",
       "      <td>PACK OF 20 SPACEBOY NAPKINS</td>\n",
       "      <td>2011-12-09 12:50:00</td>\n",
       "      <td>12680.0</td>\n",
       "      <td>France</td>\n",
       "      <td>10.20</td>\n",
       "    </tr>\n",
       "    <tr>\n",
       "      <th>541905</th>\n",
       "      <td>581587</td>\n",
       "      <td>22899</td>\n",
       "      <td>CHILDREN'S APRON DOLLY GIRL</td>\n",
       "      <td>2011-12-09 12:50:00</td>\n",
       "      <td>12680.0</td>\n",
       "      <td>France</td>\n",
       "      <td>12.60</td>\n",
       "    </tr>\n",
       "    <tr>\n",
       "      <th>541906</th>\n",
       "      <td>581587</td>\n",
       "      <td>23254</td>\n",
       "      <td>CHILDRENS CUTLERY DOLLY GIRL</td>\n",
       "      <td>2011-12-09 12:50:00</td>\n",
       "      <td>12680.0</td>\n",
       "      <td>France</td>\n",
       "      <td>16.60</td>\n",
       "    </tr>\n",
       "    <tr>\n",
       "      <th>541907</th>\n",
       "      <td>581587</td>\n",
       "      <td>23255</td>\n",
       "      <td>CHILDRENS CUTLERY CIRCUS PARADE</td>\n",
       "      <td>2011-12-09 12:50:00</td>\n",
       "      <td>12680.0</td>\n",
       "      <td>France</td>\n",
       "      <td>16.60</td>\n",
       "    </tr>\n",
       "    <tr>\n",
       "      <th>541908</th>\n",
       "      <td>581587</td>\n",
       "      <td>22138</td>\n",
       "      <td>BAKING SET 9 PIECE RETROSPOT</td>\n",
       "      <td>2011-12-09 12:50:00</td>\n",
       "      <td>12680.0</td>\n",
       "      <td>France</td>\n",
       "      <td>14.85</td>\n",
       "    </tr>\n",
       "  </tbody>\n",
       "</table>\n",
       "<p>406829 rows × 7 columns</p>\n",
       "</div>"
      ],
      "text/plain": [
       "       InvoiceNo StockCode                          Description  \\\n",
       "0         536365    85123A   WHITE HANGING HEART T-LIGHT HOLDER   \n",
       "1         536365     71053                  WHITE METAL LANTERN   \n",
       "2         536365    84406B       CREAM CUPID HEARTS COAT HANGER   \n",
       "3         536365    84029G  KNITTED UNION FLAG HOT WATER BOTTLE   \n",
       "4         536365    84029E       RED WOOLLY HOTTIE WHITE HEART.   \n",
       "...          ...       ...                                  ...   \n",
       "541904    581587     22613          PACK OF 20 SPACEBOY NAPKINS   \n",
       "541905    581587     22899         CHILDREN'S APRON DOLLY GIRL    \n",
       "541906    581587     23254        CHILDRENS CUTLERY DOLLY GIRL    \n",
       "541907    581587     23255      CHILDRENS CUTLERY CIRCUS PARADE   \n",
       "541908    581587     22138        BAKING SET 9 PIECE RETROSPOT    \n",
       "\n",
       "               InvoiceDate  CustomerID         Country  Total_Amt  \n",
       "0      2010-12-01 08:26:00     17850.0  United Kingdom      15.30  \n",
       "1      2010-12-01 08:26:00     17850.0  United Kingdom      20.34  \n",
       "2      2010-12-01 08:26:00     17850.0  United Kingdom      22.00  \n",
       "3      2010-12-01 08:26:00     17850.0  United Kingdom      20.34  \n",
       "4      2010-12-01 08:26:00     17850.0  United Kingdom      20.34  \n",
       "...                    ...         ...             ...        ...  \n",
       "541904 2011-12-09 12:50:00     12680.0          France      10.20  \n",
       "541905 2011-12-09 12:50:00     12680.0          France      12.60  \n",
       "541906 2011-12-09 12:50:00     12680.0          France      16.60  \n",
       "541907 2011-12-09 12:50:00     12680.0          France      16.60  \n",
       "541908 2011-12-09 12:50:00     12680.0          France      14.85  \n",
       "\n",
       "[406829 rows x 7 columns]"
      ]
     },
     "execution_count": 40,
     "metadata": {},
     "output_type": "execute_result"
    }
   ],
   "source": [
    "data"
   ]
  },
  {
   "cell_type": "code",
   "execution_count": 41,
   "id": "d840634a",
   "metadata": {},
   "outputs": [
    {
     "name": "stdout",
     "output_type": "stream",
     "text": [
      "Unique values of Invoice No: 22190\n",
      "Total count of InvoiceNo: 22190\n"
     ]
    }
   ],
   "source": [
    "# Dropping duplicate values of Invoice no.\n",
    "\n",
    "df2.drop_duplicates(subset=['InvoiceNo'],inplace=True)\n",
    "\n",
    "print('Unique values of Invoice No:', df2.nunique()['InvoiceNo'])\n",
    "print('Total count of InvoiceNo:',df2.shape[0])"
   ]
  },
  {
   "cell_type": "code",
   "execution_count": 42,
   "id": "c77dd454",
   "metadata": {},
   "outputs": [
    {
     "data": {
      "text/html": [
       "<div>\n",
       "<style scoped>\n",
       "    .dataframe tbody tr th:only-of-type {\n",
       "        vertical-align: middle;\n",
       "    }\n",
       "\n",
       "    .dataframe tbody tr th {\n",
       "        vertical-align: top;\n",
       "    }\n",
       "\n",
       "    .dataframe thead th {\n",
       "        text-align: right;\n",
       "    }\n",
       "</style>\n",
       "<table border=\"1\" class=\"dataframe\">\n",
       "  <thead>\n",
       "    <tr style=\"text-align: right;\">\n",
       "      <th></th>\n",
       "      <th>InvoiceNo</th>\n",
       "      <th>InvoiceDate</th>\n",
       "      <th>CustomerID</th>\n",
       "    </tr>\n",
       "  </thead>\n",
       "  <tbody>\n",
       "    <tr>\n",
       "      <th>0</th>\n",
       "      <td>536365</td>\n",
       "      <td>2010-12-01 08:26:00</td>\n",
       "      <td>17850.0</td>\n",
       "    </tr>\n",
       "    <tr>\n",
       "      <th>7</th>\n",
       "      <td>536366</td>\n",
       "      <td>2010-12-01 08:28:00</td>\n",
       "      <td>17850.0</td>\n",
       "    </tr>\n",
       "    <tr>\n",
       "      <th>9</th>\n",
       "      <td>536367</td>\n",
       "      <td>2010-12-01 08:34:00</td>\n",
       "      <td>13047.0</td>\n",
       "    </tr>\n",
       "    <tr>\n",
       "      <th>21</th>\n",
       "      <td>536368</td>\n",
       "      <td>2010-12-01 08:34:00</td>\n",
       "      <td>13047.0</td>\n",
       "    </tr>\n",
       "    <tr>\n",
       "      <th>25</th>\n",
       "      <td>536369</td>\n",
       "      <td>2010-12-01 08:35:00</td>\n",
       "      <td>13047.0</td>\n",
       "    </tr>\n",
       "    <tr>\n",
       "      <th>...</th>\n",
       "      <td>...</td>\n",
       "      <td>...</td>\n",
       "      <td>...</td>\n",
       "    </tr>\n",
       "    <tr>\n",
       "      <th>541865</th>\n",
       "      <td>581583</td>\n",
       "      <td>2011-12-09 12:23:00</td>\n",
       "      <td>13777.0</td>\n",
       "    </tr>\n",
       "    <tr>\n",
       "      <th>541867</th>\n",
       "      <td>581584</td>\n",
       "      <td>2011-12-09 12:25:00</td>\n",
       "      <td>13777.0</td>\n",
       "    </tr>\n",
       "    <tr>\n",
       "      <th>541869</th>\n",
       "      <td>581585</td>\n",
       "      <td>2011-12-09 12:31:00</td>\n",
       "      <td>15804.0</td>\n",
       "    </tr>\n",
       "    <tr>\n",
       "      <th>541890</th>\n",
       "      <td>581586</td>\n",
       "      <td>2011-12-09 12:49:00</td>\n",
       "      <td>13113.0</td>\n",
       "    </tr>\n",
       "    <tr>\n",
       "      <th>541894</th>\n",
       "      <td>581587</td>\n",
       "      <td>2011-12-09 12:50:00</td>\n",
       "      <td>12680.0</td>\n",
       "    </tr>\n",
       "  </tbody>\n",
       "</table>\n",
       "<p>22190 rows × 3 columns</p>\n",
       "</div>"
      ],
      "text/plain": [
       "       InvoiceNo         InvoiceDate  CustomerID\n",
       "0         536365 2010-12-01 08:26:00     17850.0\n",
       "7         536366 2010-12-01 08:28:00     17850.0\n",
       "9         536367 2010-12-01 08:34:00     13047.0\n",
       "21        536368 2010-12-01 08:34:00     13047.0\n",
       "25        536369 2010-12-01 08:35:00     13047.0\n",
       "...          ...                 ...         ...\n",
       "541865    581583 2011-12-09 12:23:00     13777.0\n",
       "541867    581584 2011-12-09 12:25:00     13777.0\n",
       "541869    581585 2011-12-09 12:31:00     15804.0\n",
       "541890    581586 2011-12-09 12:49:00     13113.0\n",
       "541894    581587 2011-12-09 12:50:00     12680.0\n",
       "\n",
       "[22190 rows x 3 columns]"
      ]
     },
     "execution_count": 42,
     "metadata": {},
     "output_type": "execute_result"
    }
   ],
   "source": [
    "df2"
   ]
  },
  {
   "cell_type": "code",
   "execution_count": 43,
   "id": "4d1ad7a4",
   "metadata": {},
   "outputs": [
    {
     "data": {
      "text/html": [
       "<div>\n",
       "<style scoped>\n",
       "    .dataframe tbody tr th:only-of-type {\n",
       "        vertical-align: middle;\n",
       "    }\n",
       "\n",
       "    .dataframe tbody tr th {\n",
       "        vertical-align: top;\n",
       "    }\n",
       "\n",
       "    .dataframe thead th {\n",
       "        text-align: right;\n",
       "    }\n",
       "</style>\n",
       "<table border=\"1\" class=\"dataframe\">\n",
       "  <thead>\n",
       "    <tr style=\"text-align: right;\">\n",
       "      <th></th>\n",
       "      <th>InvoiceNo</th>\n",
       "      <th>Total_Amt</th>\n",
       "      <th>InvoiceDate</th>\n",
       "      <th>CustomerID</th>\n",
       "    </tr>\n",
       "  </thead>\n",
       "  <tbody>\n",
       "    <tr>\n",
       "      <th>0</th>\n",
       "      <td>536365</td>\n",
       "      <td>139.12</td>\n",
       "      <td>2010-12-01 08:26:00</td>\n",
       "      <td>17850.0</td>\n",
       "    </tr>\n",
       "    <tr>\n",
       "      <th>1</th>\n",
       "      <td>536366</td>\n",
       "      <td>22.20</td>\n",
       "      <td>2010-12-01 08:28:00</td>\n",
       "      <td>17850.0</td>\n",
       "    </tr>\n",
       "    <tr>\n",
       "      <th>2</th>\n",
       "      <td>536367</td>\n",
       "      <td>278.73</td>\n",
       "      <td>2010-12-01 08:34:00</td>\n",
       "      <td>13047.0</td>\n",
       "    </tr>\n",
       "    <tr>\n",
       "      <th>3</th>\n",
       "      <td>536368</td>\n",
       "      <td>70.05</td>\n",
       "      <td>2010-12-01 08:34:00</td>\n",
       "      <td>13047.0</td>\n",
       "    </tr>\n",
       "    <tr>\n",
       "      <th>4</th>\n",
       "      <td>536369</td>\n",
       "      <td>17.85</td>\n",
       "      <td>2010-12-01 08:35:00</td>\n",
       "      <td>13047.0</td>\n",
       "    </tr>\n",
       "    <tr>\n",
       "      <th>...</th>\n",
       "      <td>...</td>\n",
       "      <td>...</td>\n",
       "      <td>...</td>\n",
       "      <td>...</td>\n",
       "    </tr>\n",
       "    <tr>\n",
       "      <th>22185</th>\n",
       "      <td>C581484</td>\n",
       "      <td>0.00</td>\n",
       "      <td>2011-12-09 09:27:00</td>\n",
       "      <td>16446.0</td>\n",
       "    </tr>\n",
       "    <tr>\n",
       "      <th>22186</th>\n",
       "      <td>C581490</td>\n",
       "      <td>0.00</td>\n",
       "      <td>2011-12-09 09:57:00</td>\n",
       "      <td>14397.0</td>\n",
       "    </tr>\n",
       "    <tr>\n",
       "      <th>22187</th>\n",
       "      <td>C581499</td>\n",
       "      <td>0.00</td>\n",
       "      <td>2011-12-09 10:28:00</td>\n",
       "      <td>15498.0</td>\n",
       "    </tr>\n",
       "    <tr>\n",
       "      <th>22188</th>\n",
       "      <td>C581568</td>\n",
       "      <td>0.00</td>\n",
       "      <td>2011-12-09 11:57:00</td>\n",
       "      <td>15311.0</td>\n",
       "    </tr>\n",
       "    <tr>\n",
       "      <th>22189</th>\n",
       "      <td>C581569</td>\n",
       "      <td>0.00</td>\n",
       "      <td>2011-12-09 11:58:00</td>\n",
       "      <td>17315.0</td>\n",
       "    </tr>\n",
       "  </tbody>\n",
       "</table>\n",
       "<p>22190 rows × 4 columns</p>\n",
       "</div>"
      ],
      "text/plain": [
       "      InvoiceNo  Total_Amt         InvoiceDate  CustomerID\n",
       "0        536365     139.12 2010-12-01 08:26:00     17850.0\n",
       "1        536366      22.20 2010-12-01 08:28:00     17850.0\n",
       "2        536367     278.73 2010-12-01 08:34:00     13047.0\n",
       "3        536368      70.05 2010-12-01 08:34:00     13047.0\n",
       "4        536369      17.85 2010-12-01 08:35:00     13047.0\n",
       "...         ...        ...                 ...         ...\n",
       "22185   C581484       0.00 2011-12-09 09:27:00     16446.0\n",
       "22186   C581490       0.00 2011-12-09 09:57:00     14397.0\n",
       "22187   C581499       0.00 2011-12-09 10:28:00     15498.0\n",
       "22188   C581568       0.00 2011-12-09 11:57:00     15311.0\n",
       "22189   C581569       0.00 2011-12-09 11:58:00     17315.0\n",
       "\n",
       "[22190 rows x 4 columns]"
      ]
     },
     "execution_count": 43,
     "metadata": {},
     "output_type": "execute_result"
    }
   ],
   "source": [
    "# merging df1 and df2 at InvoiceNo \n",
    "\n",
    "df = pd.merge(df1,df2,how='left',on='InvoiceNo')\n",
    "df"
   ]
  },
  {
   "cell_type": "markdown",
   "id": "63f443ce",
   "metadata": {},
   "source": [
    "Clustering data based on Customer ID, Fetching last invoice date(Recency), converting invoice number to number of occurances from same customer(Frequency) & summing Toatl amt spent by a customer."
   ]
  },
  {
   "cell_type": "code",
   "execution_count": 44,
   "id": "29ab8422",
   "metadata": {},
   "outputs": [],
   "source": [
    "import datetime as dt"
   ]
  },
  {
   "cell_type": "code",
   "execution_count": 45,
   "id": "cefa18ec",
   "metadata": {},
   "outputs": [
    {
     "data": {
      "text/plain": [
       "Timestamp('2011-12-09 12:50:00')"
      ]
     },
     "execution_count": 45,
     "metadata": {},
     "output_type": "execute_result"
    }
   ],
   "source": [
    "last_date = max(df['InvoiceDate'])\n",
    "last_date # Last date on which data was collected "
   ]
  },
  {
   "cell_type": "code",
   "execution_count": 46,
   "id": "53fdcd9d",
   "metadata": {},
   "outputs": [
    {
     "data": {
      "text/plain": [
       "Timestamp('2010-12-01 08:26:00')"
      ]
     },
     "execution_count": 46,
     "metadata": {},
     "output_type": "execute_result"
    }
   ],
   "source": [
    "first_date = min(df['InvoiceDate'])\n",
    "first_date # First date oin which data was collected"
   ]
  },
  {
   "cell_type": "code",
   "execution_count": 47,
   "id": "533d1756",
   "metadata": {},
   "outputs": [
    {
     "data": {
      "text/plain": [
       "Timedelta('373 days 04:24:00')"
      ]
     },
     "execution_count": 47,
     "metadata": {},
     "output_type": "execute_result"
    }
   ],
   "source": [
    "Data_days = (last_date - first_date)\n",
    "Data_days"
   ]
  },
  {
   "cell_type": "markdown",
   "id": "e5d919dc",
   "metadata": {},
   "source": [
    "The data is collected for total 373 days. So just about a year. This can help us to determine factors for clustering of data later."
   ]
  },
  {
   "cell_type": "code",
   "execution_count": 48,
   "id": "dcf412b6",
   "metadata": {},
   "outputs": [],
   "source": [
    "# latest date will be last date + 1"
   ]
  },
  {
   "cell_type": "code",
   "execution_count": 49,
   "id": "00548064",
   "metadata": {},
   "outputs": [
    {
     "data": {
      "text/plain": [
       "datetime.datetime(2011, 12, 10, 0, 0)"
      ]
     },
     "execution_count": 49,
     "metadata": {},
     "output_type": "execute_result"
    }
   ],
   "source": [
    "latest_date=dt.datetime(2011,12,10)\n",
    "latest_date"
   ]
  },
  {
   "cell_type": "code",
   "execution_count": 50,
   "id": "01f48907",
   "metadata": {},
   "outputs": [
    {
     "data": {
      "text/plain": [
       "4372"
      ]
     },
     "execution_count": 50,
     "metadata": {},
     "output_type": "execute_result"
    }
   ],
   "source": [
    "df.CustomerID.nunique() # Total number of customers"
   ]
  },
  {
   "cell_type": "code",
   "execution_count": 51,
   "id": "2841e76c",
   "metadata": {},
   "outputs": [
    {
     "data": {
      "text/html": [
       "<div>\n",
       "<style scoped>\n",
       "    .dataframe tbody tr th:only-of-type {\n",
       "        vertical-align: middle;\n",
       "    }\n",
       "\n",
       "    .dataframe tbody tr th {\n",
       "        vertical-align: top;\n",
       "    }\n",
       "\n",
       "    .dataframe thead th {\n",
       "        text-align: right;\n",
       "    }\n",
       "</style>\n",
       "<table border=\"1\" class=\"dataframe\">\n",
       "  <thead>\n",
       "    <tr style=\"text-align: right;\">\n",
       "      <th></th>\n",
       "      <th>InvoiceNo</th>\n",
       "      <th>Total_Amt</th>\n",
       "      <th>InvoiceDate</th>\n",
       "      <th>CustomerID</th>\n",
       "    </tr>\n",
       "  </thead>\n",
       "  <tbody>\n",
       "    <tr>\n",
       "      <th>0</th>\n",
       "      <td>536365</td>\n",
       "      <td>139.12</td>\n",
       "      <td>2010-12-01 08:26:00</td>\n",
       "      <td>17850.0</td>\n",
       "    </tr>\n",
       "    <tr>\n",
       "      <th>1</th>\n",
       "      <td>536366</td>\n",
       "      <td>22.20</td>\n",
       "      <td>2010-12-01 08:28:00</td>\n",
       "      <td>17850.0</td>\n",
       "    </tr>\n",
       "  </tbody>\n",
       "</table>\n",
       "</div>"
      ],
      "text/plain": [
       "  InvoiceNo  Total_Amt         InvoiceDate  CustomerID\n",
       "0    536365     139.12 2010-12-01 08:26:00     17850.0\n",
       "1    536366      22.20 2010-12-01 08:28:00     17850.0"
      ]
     },
     "execution_count": 51,
     "metadata": {},
     "output_type": "execute_result"
    }
   ],
   "source": [
    "df.head(2)"
   ]
  },
  {
   "cell_type": "code",
   "execution_count": 52,
   "id": "8fe58291",
   "metadata": {},
   "outputs": [],
   "source": [
    "df1 = df.copy()"
   ]
  },
  {
   "cell_type": "code",
   "execution_count": 53,
   "id": "50d123ac",
   "metadata": {},
   "outputs": [
    {
     "data": {
      "text/plain": [
       "5391.21"
      ]
     },
     "execution_count": 53,
     "metadata": {},
     "output_type": "execute_result"
    }
   ],
   "source": [
    "# creating a df with customer grouped\n",
    "temp=df1.groupby('CustomerID')\n",
    "temp.get_group(17850.0)['Total_Amt'].sum()"
   ]
  },
  {
   "cell_type": "code",
   "execution_count": 54,
   "id": "52cfb8c9",
   "metadata": {},
   "outputs": [
    {
     "data": {
      "text/plain": [
       "301"
      ]
     },
     "execution_count": 54,
     "metadata": {},
     "output_type": "execute_result"
    }
   ],
   "source": [
    "# checking recency\n",
    "(last_date-temp.get_group(17850.0)['InvoiceDate'].max()).days"
   ]
  },
  {
   "cell_type": "code",
   "execution_count": 55,
   "id": "bb25f3a2",
   "metadata": {},
   "outputs": [
    {
     "data": {
      "text/plain": [
       "35"
      ]
     },
     "execution_count": 55,
     "metadata": {},
     "output_type": "execute_result"
    }
   ],
   "source": [
    "# checking frequency\n",
    "temp.get_group(17850.0)['InvoiceNo'].count()"
   ]
  },
  {
   "cell_type": "code",
   "execution_count": 56,
   "id": "f240f098",
   "metadata": {},
   "outputs": [],
   "source": [
    "# creating a dictionary for Monetary, Recency and Frequency\n",
    "d=[]\n",
    "for customer_id in df1['CustomerID'].unique():\n",
    "    d.append({'CustomerID':customer_id,'Monetary':temp.get_group(customer_id)['Total_Amt'].sum(),\n",
    "              'Recency':(latest_date-temp.get_group(customer_id)['InvoiceDate'].max()).days,\n",
    "            'Frequency': temp.get_group(customer_id)['InvoiceNo'].count()})\n",
    "    \n",
    "# Monetary - Total amt spent by a customer\n",
    "# Frequency - No. of times purchase done\n",
    "# recency - No. of days elaspsed since last purchase made and latest date i.e. 10/12/2011"
   ]
  },
  {
   "cell_type": "code",
   "execution_count": 57,
   "id": "d8121ef1",
   "metadata": {},
   "outputs": [
    {
     "data": {
      "text/plain": [
       "{'CustomerID': 17850.0, 'Monetary': 5391.21, 'Recency': 302, 'Frequency': 35}"
      ]
     },
     "execution_count": 57,
     "metadata": {},
     "output_type": "execute_result"
    }
   ],
   "source": [
    "d[0]"
   ]
  },
  {
   "cell_type": "code",
   "execution_count": 58,
   "id": "87f7b45f",
   "metadata": {},
   "outputs": [],
   "source": [
    "df2 = pd.DataFrame(d) # Converting dictionary to Dataframe"
   ]
  },
  {
   "cell_type": "code",
   "execution_count": 59,
   "id": "70170334",
   "metadata": {},
   "outputs": [
    {
     "data": {
      "text/html": [
       "<div>\n",
       "<style scoped>\n",
       "    .dataframe tbody tr th:only-of-type {\n",
       "        vertical-align: middle;\n",
       "    }\n",
       "\n",
       "    .dataframe tbody tr th {\n",
       "        vertical-align: top;\n",
       "    }\n",
       "\n",
       "    .dataframe thead th {\n",
       "        text-align: right;\n",
       "    }\n",
       "</style>\n",
       "<table border=\"1\" class=\"dataframe\">\n",
       "  <thead>\n",
       "    <tr style=\"text-align: right;\">\n",
       "      <th></th>\n",
       "      <th>CustomerID</th>\n",
       "      <th>Monetary</th>\n",
       "      <th>Recency</th>\n",
       "      <th>Frequency</th>\n",
       "    </tr>\n",
       "  </thead>\n",
       "  <tbody>\n",
       "    <tr>\n",
       "      <th>0</th>\n",
       "      <td>17850.0</td>\n",
       "      <td>5391.21</td>\n",
       "      <td>302</td>\n",
       "      <td>35</td>\n",
       "    </tr>\n",
       "    <tr>\n",
       "      <th>1</th>\n",
       "      <td>13047.0</td>\n",
       "      <td>3237.54</td>\n",
       "      <td>31</td>\n",
       "      <td>18</td>\n",
       "    </tr>\n",
       "    <tr>\n",
       "      <th>2</th>\n",
       "      <td>12583.0</td>\n",
       "      <td>7281.38</td>\n",
       "      <td>2</td>\n",
       "      <td>18</td>\n",
       "    </tr>\n",
       "    <tr>\n",
       "      <th>3</th>\n",
       "      <td>13748.0</td>\n",
       "      <td>948.25</td>\n",
       "      <td>95</td>\n",
       "      <td>5</td>\n",
       "    </tr>\n",
       "    <tr>\n",
       "      <th>4</th>\n",
       "      <td>15100.0</td>\n",
       "      <td>876.00</td>\n",
       "      <td>330</td>\n",
       "      <td>6</td>\n",
       "    </tr>\n",
       "    <tr>\n",
       "      <th>...</th>\n",
       "      <td>...</td>\n",
       "      <td>...</td>\n",
       "      <td>...</td>\n",
       "      <td>...</td>\n",
       "    </tr>\n",
       "    <tr>\n",
       "      <th>4367</th>\n",
       "      <td>15369.0</td>\n",
       "      <td>0.00</td>\n",
       "      <td>144</td>\n",
       "      <td>1</td>\n",
       "    </tr>\n",
       "    <tr>\n",
       "      <th>4368</th>\n",
       "      <td>13154.0</td>\n",
       "      <td>0.00</td>\n",
       "      <td>144</td>\n",
       "      <td>1</td>\n",
       "    </tr>\n",
       "    <tr>\n",
       "      <th>4369</th>\n",
       "      <td>17065.0</td>\n",
       "      <td>0.00</td>\n",
       "      <td>143</td>\n",
       "      <td>1</td>\n",
       "    </tr>\n",
       "    <tr>\n",
       "      <th>4370</th>\n",
       "      <td>16428.0</td>\n",
       "      <td>0.00</td>\n",
       "      <td>81</td>\n",
       "      <td>1</td>\n",
       "    </tr>\n",
       "    <tr>\n",
       "      <th>4371</th>\n",
       "      <td>15728.0</td>\n",
       "      <td>0.00</td>\n",
       "      <td>49</td>\n",
       "      <td>1</td>\n",
       "    </tr>\n",
       "  </tbody>\n",
       "</table>\n",
       "<p>4372 rows × 4 columns</p>\n",
       "</div>"
      ],
      "text/plain": [
       "      CustomerID  Monetary  Recency  Frequency\n",
       "0        17850.0   5391.21      302         35\n",
       "1        13047.0   3237.54       31         18\n",
       "2        12583.0   7281.38        2         18\n",
       "3        13748.0    948.25       95          5\n",
       "4        15100.0    876.00      330          6\n",
       "...          ...       ...      ...        ...\n",
       "4367     15369.0      0.00      144          1\n",
       "4368     13154.0      0.00      144          1\n",
       "4369     17065.0      0.00      143          1\n",
       "4370     16428.0      0.00       81          1\n",
       "4371     15728.0      0.00       49          1\n",
       "\n",
       "[4372 rows x 4 columns]"
      ]
     },
     "execution_count": 59,
     "metadata": {},
     "output_type": "execute_result"
    }
   ],
   "source": [
    "df2"
   ]
  },
  {
   "cell_type": "code",
   "execution_count": 60,
   "id": "eb17b5a0",
   "metadata": {},
   "outputs": [
    {
     "name": "stdout",
     "output_type": "stream",
     "text": [
      "<class 'pandas.core.frame.DataFrame'>\n",
      "RangeIndex: 4372 entries, 0 to 4371\n",
      "Data columns (total 4 columns):\n",
      " #   Column      Non-Null Count  Dtype  \n",
      "---  ------      --------------  -----  \n",
      " 0   CustomerID  4372 non-null   float64\n",
      " 1   Monetary    4372 non-null   float64\n",
      " 2   Recency     4372 non-null   int64  \n",
      " 3   Frequency   4372 non-null   int64  \n",
      "dtypes: float64(2), int64(2)\n",
      "memory usage: 136.8 KB\n"
     ]
    }
   ],
   "source": [
    "df2.info()"
   ]
  },
  {
   "cell_type": "code",
   "execution_count": 61,
   "id": "58e6e2fc",
   "metadata": {},
   "outputs": [
    {
     "data": {
      "text/html": [
       "<div>\n",
       "<style scoped>\n",
       "    .dataframe tbody tr th:only-of-type {\n",
       "        vertical-align: middle;\n",
       "    }\n",
       "\n",
       "    .dataframe tbody tr th {\n",
       "        vertical-align: top;\n",
       "    }\n",
       "\n",
       "    .dataframe thead th {\n",
       "        text-align: right;\n",
       "    }\n",
       "</style>\n",
       "<table border=\"1\" class=\"dataframe\">\n",
       "  <thead>\n",
       "    <tr style=\"text-align: right;\">\n",
       "      <th></th>\n",
       "      <th>count</th>\n",
       "      <th>mean</th>\n",
       "      <th>std</th>\n",
       "      <th>min</th>\n",
       "      <th>25%</th>\n",
       "      <th>50%</th>\n",
       "      <th>75%</th>\n",
       "      <th>max</th>\n",
       "    </tr>\n",
       "  </thead>\n",
       "  <tbody>\n",
       "    <tr>\n",
       "      <th>CustomerID</th>\n",
       "      <td>4372.0</td>\n",
       "      <td>15299.677722</td>\n",
       "      <td>1722.390705</td>\n",
       "      <td>12346.0</td>\n",
       "      <td>13812.7500</td>\n",
       "      <td>15300.500</td>\n",
       "      <td>16778.25</td>\n",
       "      <td>18287.00</td>\n",
       "    </tr>\n",
       "    <tr>\n",
       "      <th>Monetary</th>\n",
       "      <td>4372.0</td>\n",
       "      <td>2038.290920</td>\n",
       "      <td>8956.019171</td>\n",
       "      <td>0.0</td>\n",
       "      <td>303.6025</td>\n",
       "      <td>665.315</td>\n",
       "      <td>1652.79</td>\n",
       "      <td>280206.02</td>\n",
       "    </tr>\n",
       "    <tr>\n",
       "      <th>Recency</th>\n",
       "      <td>4372.0</td>\n",
       "      <td>91.581199</td>\n",
       "      <td>100.772139</td>\n",
       "      <td>0.0</td>\n",
       "      <td>16.0000</td>\n",
       "      <td>50.000</td>\n",
       "      <td>143.00</td>\n",
       "      <td>373.00</td>\n",
       "    </tr>\n",
       "    <tr>\n",
       "      <th>Frequency</th>\n",
       "      <td>4372.0</td>\n",
       "      <td>5.075480</td>\n",
       "      <td>9.338754</td>\n",
       "      <td>1.0</td>\n",
       "      <td>1.0000</td>\n",
       "      <td>3.000</td>\n",
       "      <td>5.00</td>\n",
       "      <td>248.00</td>\n",
       "    </tr>\n",
       "  </tbody>\n",
       "</table>\n",
       "</div>"
      ],
      "text/plain": [
       "             count          mean          std      min         25%        50%  \\\n",
       "CustomerID  4372.0  15299.677722  1722.390705  12346.0  13812.7500  15300.500   \n",
       "Monetary    4372.0   2038.290920  8956.019171      0.0    303.6025    665.315   \n",
       "Recency     4372.0     91.581199   100.772139      0.0     16.0000     50.000   \n",
       "Frequency   4372.0      5.075480     9.338754      1.0      1.0000      3.000   \n",
       "\n",
       "                 75%        max  \n",
       "CustomerID  16778.25   18287.00  \n",
       "Monetary     1652.79  280206.02  \n",
       "Recency       143.00     373.00  \n",
       "Frequency       5.00     248.00  "
      ]
     },
     "execution_count": 61,
     "metadata": {},
     "output_type": "execute_result"
    }
   ],
   "source": [
    "df2.describe().T"
   ]
  },
  {
   "cell_type": "code",
   "execution_count": 62,
   "id": "a284f12c",
   "metadata": {},
   "outputs": [
    {
     "data": {
      "text/plain": [
       "<seaborn.axisgrid.FacetGrid at 0x20d1946ad90>"
      ]
     },
     "execution_count": 62,
     "metadata": {},
     "output_type": "execute_result"
    },
    {
     "data": {
      "image/png": "[encoded data removed]",
      "text/plain": [
       "<Figure size 360x360 with 1 Axes>"
      ]
     },
     "metadata": {
      "needs_background": "light"
     },
     "output_type": "display_data"
    }
   ],
   "source": [
    "sns.displot(df2['Monetary'])"
   ]
  },
  {
   "cell_type": "code",
   "execution_count": 63,
   "id": "10c5a1a7",
   "metadata": {},
   "outputs": [
    {
     "data": {
      "text/plain": [
       "<seaborn.axisgrid.FacetGrid at 0x20d2565bfa0>"
      ]
     },
     "execution_count": 63,
     "metadata": {},
     "output_type": "execute_result"
    },
    {
     "data": {
      "image/png": "[encoded data removed]",
      "text/plain": [
       "<Figure size 360x360 with 1 Axes>"
      ]
     },
     "metadata": {
      "needs_background": "light"
     },
     "output_type": "display_data"
    }
   ],
   "source": [
    "sns.displot(df2['Recency'])"
   ]
  },
  {
   "cell_type": "code",
   "execution_count": 64,
   "id": "90905414",
   "metadata": {},
   "outputs": [
    {
     "data": {
      "text/plain": [
       "<seaborn.axisgrid.FacetGrid at 0x20d19bba4c0>"
      ]
     },
     "execution_count": 64,
     "metadata": {},
     "output_type": "execute_result"
    },
    {
     "data": {
      "image/png": "[encoded data removed]",
      "text/plain": [
       "<Figure size 360x360 with 1 Axes>"
      ]
     },
     "metadata": {
      "needs_background": "light"
     },
     "output_type": "display_data"
    }
   ],
   "source": [
    "sns.displot(df2['Frequency'])"
   ]
  },
  {
   "cell_type": "code",
   "execution_count": 65,
   "id": "294431da",
   "metadata": {},
   "outputs": [
    {
     "name": "stdout",
     "output_type": "stream",
     "text": [
      "CustomerID : 0.0009180495309383505\n",
      "Monetary : 19.393929357579932\n",
      "Recency : 1.249369730991279\n",
      "Frequency : 11.412273584376694\n"
     ]
    }
   ],
   "source": [
    "for i in df2.columns:\n",
    "    print(i,':',df2[i].skew())"
   ]
  },
  {
   "cell_type": "markdown",
   "id": "698b63b0",
   "metadata": {},
   "source": [
    "***Observation:***\n",
    "- Monetary and Frequency values are highly positively skewed.\n",
    "- Recency is also positively skewed.\n",
    "- This indicates that most of the expensive purchases are done by only top maybe 1% percent of customers.\n",
    "- Similarly frequent buyers are also in top 1%. "
   ]
  },
  {
   "cell_type": "markdown",
   "id": "c3633d3b",
   "metadata": {},
   "source": [
    "#### Lets check with some graph and numbers"
   ]
  },
  {
   "cell_type": "markdown",
   "id": "857f2220",
   "metadata": {},
   "source": [
    "### Monetary"
   ]
  },
  {
   "cell_type": "code",
   "execution_count": 66,
   "id": "8d5f5350",
   "metadata": {
    "scrolled": true
   },
   "outputs": [
    {
     "name": "stdout",
     "output_type": "stream",
     "text": [
      "AxesSubplot(0.125,0.125;0.775x0.755)\n"
     ]
    },
    {
     "data": {
      "image/png": "[encoded data removed]",
      "text/plain": [
       "<Figure size 432x288 with 1 Axes>"
      ]
     },
     "metadata": {
      "needs_background": "light"
     },
     "output_type": "display_data"
    }
   ],
   "source": [
    "print(sns.ecdfplot(df2.Monetary))"
   ]
  },
  {
   "cell_type": "markdown",
   "id": "53307853",
   "metadata": {},
   "source": [
    "We can observe that there are heavy outliers in the dataset which are skewing the data towards right."
   ]
  },
  {
   "cell_type": "code",
   "execution_count": 67,
   "id": "bc653a27",
   "metadata": {},
   "outputs": [
    {
     "name": "stdout",
     "output_type": "stream",
     "text": [
      "Numerical description of Column Monetary:\n",
      " count      4372.000000\n",
      "mean       2038.290920\n",
      "std        8956.019171\n",
      "min           0.000000\n",
      "25%         303.602500\n",
      "50%         665.315000\n",
      "75%        1652.790000\n",
      "max      280206.020000\n",
      "Name: Monetary, dtype: float64\n"
     ]
    }
   ],
   "source": [
    "print('Numerical description of Column Monetary:\\n',df2.Monetary.describe())"
   ]
  },
  {
   "cell_type": "code",
   "execution_count": 68,
   "id": "60a8dd54",
   "metadata": {
    "scrolled": true
   },
   "outputs": [
    {
     "data": {
      "text/plain": [
       "0.650     1110.36700\n",
       "0.980    11065.23180\n",
       "0.998    78174.63992\n",
       "Name: Monetary, dtype: float64"
      ]
     },
     "execution_count": 68,
     "metadata": {},
     "output_type": "execute_result"
    }
   ],
   "source": [
    "df2.Monetary.quantile([0.65,0.98,0.998]) # Population quantile"
   ]
  },
  {
   "cell_type": "markdown",
   "id": "2f89dfac",
   "metadata": {},
   "source": [
    "***Reasoning***\n",
    "- We will consider the 65% of least spenders as an average buyer.\n",
    "- Then the next 33% as above average buyers. These buyers can be the one who occasionly bought an expensive object.\n",
    "- The next 2% are segregated into our top class customers and VIP customers respectively. Both of these groups have spent sufficient sum of money. "
   ]
  },
  {
   "cell_type": "markdown",
   "id": "fcd36486",
   "metadata": {},
   "source": [
    "### Recency"
   ]
  },
  {
   "cell_type": "code",
   "execution_count": 69,
   "id": "8d4cabc0",
   "metadata": {
    "scrolled": true
   },
   "outputs": [
    {
     "data": {
      "text/plain": [
       "<AxesSubplot:xlabel='Recency', ylabel='Proportion'>"
      ]
     },
     "execution_count": 69,
     "metadata": {},
     "output_type": "execute_result"
    },
    {
     "data": {
      "image/png": "[encoded data removed]",
      "text/plain": [
       "<Figure size 432x288 with 1 Axes>"
      ]
     },
     "metadata": {
      "needs_background": "light"
     },
     "output_type": "display_data"
    }
   ],
   "source": [
    "sns.ecdfplot(df2.Recency)"
   ]
  },
  {
   "cell_type": "code",
   "execution_count": 70,
   "id": "00b68c46",
   "metadata": {},
   "outputs": [
    {
     "data": {
      "text/plain": [
       "count    4372.000000\n",
       "mean       91.581199\n",
       "std       100.772139\n",
       "min         0.000000\n",
       "25%        16.000000\n",
       "50%        50.000000\n",
       "75%       143.000000\n",
       "max       373.000000\n",
       "Name: Recency, dtype: float64"
      ]
     },
     "execution_count": 70,
     "metadata": {},
     "output_type": "execute_result"
    }
   ],
   "source": [
    "df2.Recency.describe()"
   ]
  },
  {
   "cell_type": "code",
   "execution_count": 73,
   "id": "95a879f1",
   "metadata": {},
   "outputs": [
    {
     "data": {
      "text/plain": [
       "0.48     45.0\n",
       "0.68     96.0\n",
       "0.85    218.0\n",
       "Name: Recency, dtype: float64"
      ]
     },
     "execution_count": 73,
     "metadata": {},
     "output_type": "execute_result"
    }
   ],
   "source": [
    "df2.Recency.quantile([0.48,0.68,0.85])"
   ]
  },
  {
   "cell_type": "markdown",
   "id": "931f45a3",
   "metadata": {},
   "source": [
    "***Reasoning***\n",
    "- 48% of population visit the store in 45 days before or lesser. Maybe they are our average monthly buyers. We should target this population as they can be our repetetive loyal customers.\n",
    "- We can take second quantile at next 20% of population. These can be our infrequent buyers. Buying quaterly basis.\n",
    "- The third quantile consisting of 17%  of population can be made of buyers who are visting very less. These customers can be transition phase. They may be visting other stores. We can provide them with incentive to check if they get converted.\n",
    "- Finally, 15% of the customers are the one's who have not made purchase in more than 6 months. This can mean that they can be one time buyer, have mostly relocated or visits different stores now. "
   ]
  },
  {
   "cell_type": "code",
   "execution_count": 74,
   "id": "473db2d2",
   "metadata": {},
   "outputs": [],
   "source": [
    "df3=df2.copy()"
   ]
  },
  {
   "cell_type": "markdown",
   "id": "c43f93e6",
   "metadata": {},
   "source": [
    "### Frequency"
   ]
  },
  {
   "cell_type": "code",
   "execution_count": 75,
   "id": "d3962450",
   "metadata": {},
   "outputs": [
    {
     "data": {
      "text/plain": [
       "<AxesSubplot:xlabel='Frequency', ylabel='Proportion'>"
      ]
     },
     "execution_count": 75,
     "metadata": {},
     "output_type": "execute_result"
    },
    {
     "data": {
      "image/png": "[encoded data removed]",
      "text/plain": [
       "<Figure size 432x288 with 1 Axes>"
      ]
     },
     "metadata": {
      "needs_background": "light"
     },
     "output_type": "display_data"
    }
   ],
   "source": [
    "sns.ecdfplot(df2.Frequency)"
   ]
  },
  {
   "cell_type": "code",
   "execution_count": 76,
   "id": "75792640",
   "metadata": {
    "scrolled": true
   },
   "outputs": [
    {
     "data": {
      "text/plain": [
       "count    4372.000000\n",
       "mean        5.075480\n",
       "std         9.338754\n",
       "min         1.000000\n",
       "25%         1.000000\n",
       "50%         3.000000\n",
       "75%         5.000000\n",
       "max       248.000000\n",
       "Name: Frequency, dtype: float64"
      ]
     },
     "execution_count": 76,
     "metadata": {},
     "output_type": "execute_result"
    }
   ],
   "source": [
    "df2.Frequency.describe()"
   ]
  },
  {
   "cell_type": "code",
   "execution_count": 77,
   "id": "b984cbad",
   "metadata": {},
   "outputs": [
    {
     "data": {
      "text/plain": [
       "0.800     7.000\n",
       "0.980    27.000\n",
       "0.998    78.032\n",
       "Name: Frequency, dtype: float64"
      ]
     },
     "execution_count": 77,
     "metadata": {},
     "output_type": "execute_result"
    }
   ],
   "source": [
    "df2.Frequency.quantile([0.8,0.98,0.998])"
   ]
  },
  {
   "cell_type": "markdown",
   "id": "f79d70f5",
   "metadata": {},
   "source": [
    "***Reasoning***\n",
    "- 80% of population are the most infrequent buyers.\n",
    "- The next 18% of buyers can be the one who purchase less than 27 times in a year.\n",
    "- The next 1.8% percent have made purchased more than 27 times in a year span. \n",
    "- Final 0.2% of buyers are the ones which have purchased at modt frequently. More than 75 times in year."
   ]
  },
  {
   "cell_type": "code",
   "execution_count": null,
   "id": "14315d6c",
   "metadata": {},
   "outputs": [],
   "source": [
    "# rec = [0.3,0.55,0.75]"
   ]
  },
  {
   "cell_type": "code",
   "execution_count": 78,
   "id": "acd139ba",
   "metadata": {},
   "outputs": [],
   "source": [
    "monetary_quantile = [0.65,0.98,0.998]\n",
    "recency_quantile = [0.48,0.68,0.85]\n",
    "frequency_quantile = [0.8,0.98,0.998]"
   ]
  },
  {
   "cell_type": "code",
   "execution_count": 79,
   "id": "a1378ace",
   "metadata": {},
   "outputs": [],
   "source": [
    "# fucntion for monetary and frequency scoring\n",
    "def mfScoring(x,y,z):\n",
    "\n",
    "    if x <= df2[z].quantile(y[0]):\n",
    "        return 1\n",
    "    elif x <= df2[z].quantile(y[1]):\n",
    "        return 2\n",
    "    elif x <= df2[z].quantile(y[2]):\n",
    "        return 3\n",
    "    else:\n",
    "        return 4"
   ]
  },
  {
   "cell_type": "code",
   "execution_count": 80,
   "id": "defa1de8",
   "metadata": {},
   "outputs": [],
   "source": [
    "# fucntion for recency scoring\n",
    "def rScoring(x,y,z):\n",
    "        \n",
    "    if x <= df2[z].quantile(y[0]):\n",
    "        return 4\n",
    "    elif x <= df2[z].quantile(y[1]):\n",
    "        return 3\n",
    "    elif x <= df2[z].quantile(y[2]):\n",
    "        return 2\n",
    "    else:\n",
    "        return 1"
   ]
  },
  {
   "cell_type": "code",
   "execution_count": 81,
   "id": "940c0956",
   "metadata": {},
   "outputs": [],
   "source": [
    "df2['R'] = df2.Recency.apply(lambda x: rScoring(x, y=recency_quantile,z='Recency'))\n",
    "df2['M'] = df2.Monetary.apply(lambda x: mfScoring(x,y=monetary_quantile,z='Monetary'))\n",
    "df2['F'] = df2.Frequency.apply(lambda x: mfScoring(x,y=frequency_quantile,z='Frequency'))"
   ]
  },
  {
   "cell_type": "code",
   "execution_count": 82,
   "id": "a9fb5653",
   "metadata": {
    "scrolled": false
   },
   "outputs": [
    {
     "data": {
      "text/html": [
       "<div>\n",
       "<style scoped>\n",
       "    .dataframe tbody tr th:only-of-type {\n",
       "        vertical-align: middle;\n",
       "    }\n",
       "\n",
       "    .dataframe tbody tr th {\n",
       "        vertical-align: top;\n",
       "    }\n",
       "\n",
       "    .dataframe thead th {\n",
       "        text-align: right;\n",
       "    }\n",
       "</style>\n",
       "<table border=\"1\" class=\"dataframe\">\n",
       "  <thead>\n",
       "    <tr style=\"text-align: right;\">\n",
       "      <th></th>\n",
       "      <th>CustomerID</th>\n",
       "      <th>Monetary</th>\n",
       "      <th>Recency</th>\n",
       "      <th>Frequency</th>\n",
       "      <th>R</th>\n",
       "      <th>M</th>\n",
       "      <th>F</th>\n",
       "    </tr>\n",
       "  </thead>\n",
       "  <tbody>\n",
       "    <tr>\n",
       "      <th>0</th>\n",
       "      <td>17850.0</td>\n",
       "      <td>5391.21</td>\n",
       "      <td>302</td>\n",
       "      <td>35</td>\n",
       "      <td>1</td>\n",
       "      <td>2</td>\n",
       "      <td>3</td>\n",
       "    </tr>\n",
       "    <tr>\n",
       "      <th>1</th>\n",
       "      <td>13047.0</td>\n",
       "      <td>3237.54</td>\n",
       "      <td>31</td>\n",
       "      <td>18</td>\n",
       "      <td>4</td>\n",
       "      <td>2</td>\n",
       "      <td>2</td>\n",
       "    </tr>\n",
       "    <tr>\n",
       "      <th>2</th>\n",
       "      <td>12583.0</td>\n",
       "      <td>7281.38</td>\n",
       "      <td>2</td>\n",
       "      <td>18</td>\n",
       "      <td>4</td>\n",
       "      <td>2</td>\n",
       "      <td>2</td>\n",
       "    </tr>\n",
       "    <tr>\n",
       "      <th>3</th>\n",
       "      <td>13748.0</td>\n",
       "      <td>948.25</td>\n",
       "      <td>95</td>\n",
       "      <td>5</td>\n",
       "      <td>3</td>\n",
       "      <td>1</td>\n",
       "      <td>1</td>\n",
       "    </tr>\n",
       "    <tr>\n",
       "      <th>4</th>\n",
       "      <td>15100.0</td>\n",
       "      <td>876.00</td>\n",
       "      <td>330</td>\n",
       "      <td>6</td>\n",
       "      <td>1</td>\n",
       "      <td>1</td>\n",
       "      <td>1</td>\n",
       "    </tr>\n",
       "    <tr>\n",
       "      <th>...</th>\n",
       "      <td>...</td>\n",
       "      <td>...</td>\n",
       "      <td>...</td>\n",
       "      <td>...</td>\n",
       "      <td>...</td>\n",
       "      <td>...</td>\n",
       "      <td>...</td>\n",
       "    </tr>\n",
       "    <tr>\n",
       "      <th>4367</th>\n",
       "      <td>15369.0</td>\n",
       "      <td>0.00</td>\n",
       "      <td>144</td>\n",
       "      <td>1</td>\n",
       "      <td>2</td>\n",
       "      <td>1</td>\n",
       "      <td>1</td>\n",
       "    </tr>\n",
       "    <tr>\n",
       "      <th>4368</th>\n",
       "      <td>13154.0</td>\n",
       "      <td>0.00</td>\n",
       "      <td>144</td>\n",
       "      <td>1</td>\n",
       "      <td>2</td>\n",
       "      <td>1</td>\n",
       "      <td>1</td>\n",
       "    </tr>\n",
       "    <tr>\n",
       "      <th>4369</th>\n",
       "      <td>17065.0</td>\n",
       "      <td>0.00</td>\n",
       "      <td>143</td>\n",
       "      <td>1</td>\n",
       "      <td>2</td>\n",
       "      <td>1</td>\n",
       "      <td>1</td>\n",
       "    </tr>\n",
       "    <tr>\n",
       "      <th>4370</th>\n",
       "      <td>16428.0</td>\n",
       "      <td>0.00</td>\n",
       "      <td>81</td>\n",
       "      <td>1</td>\n",
       "      <td>3</td>\n",
       "      <td>1</td>\n",
       "      <td>1</td>\n",
       "    </tr>\n",
       "    <tr>\n",
       "      <th>4371</th>\n",
       "      <td>15728.0</td>\n",
       "      <td>0.00</td>\n",
       "      <td>49</td>\n",
       "      <td>1</td>\n",
       "      <td>3</td>\n",
       "      <td>1</td>\n",
       "      <td>1</td>\n",
       "    </tr>\n",
       "  </tbody>\n",
       "</table>\n",
       "<p>4372 rows × 7 columns</p>\n",
       "</div>"
      ],
      "text/plain": [
       "      CustomerID  Monetary  Recency  Frequency  R  M  F\n",
       "0        17850.0   5391.21      302         35  1  2  3\n",
       "1        13047.0   3237.54       31         18  4  2  2\n",
       "2        12583.0   7281.38        2         18  4  2  2\n",
       "3        13748.0    948.25       95          5  3  1  1\n",
       "4        15100.0    876.00      330          6  1  1  1\n",
       "...          ...       ...      ...        ... .. .. ..\n",
       "4367     15369.0      0.00      144          1  2  1  1\n",
       "4368     13154.0      0.00      144          1  2  1  1\n",
       "4369     17065.0      0.00      143          1  2  1  1\n",
       "4370     16428.0      0.00       81          1  3  1  1\n",
       "4371     15728.0      0.00       49          1  3  1  1\n",
       "\n",
       "[4372 rows x 7 columns]"
      ]
     },
     "execution_count": 82,
     "metadata": {},
     "output_type": "execute_result"
    }
   ],
   "source": [
    "df2"
   ]
  },
  {
   "cell_type": "code",
   "execution_count": 83,
   "id": "960411d0",
   "metadata": {},
   "outputs": [],
   "source": [
    "# Total RFM score for a customer\n",
    "df2['RFM_Sum'] = df2[['R','F','M']].sum(axis=1)"
   ]
  },
  {
   "cell_type": "code",
   "execution_count": 84,
   "id": "4a58f6b6",
   "metadata": {},
   "outputs": [
    {
     "data": {
      "text/html": [
       "<div>\n",
       "<style scoped>\n",
       "    .dataframe tbody tr th:only-of-type {\n",
       "        vertical-align: middle;\n",
       "    }\n",
       "\n",
       "    .dataframe tbody tr th {\n",
       "        vertical-align: top;\n",
       "    }\n",
       "\n",
       "    .dataframe thead th {\n",
       "        text-align: right;\n",
       "    }\n",
       "</style>\n",
       "<table border=\"1\" class=\"dataframe\">\n",
       "  <thead>\n",
       "    <tr style=\"text-align: right;\">\n",
       "      <th></th>\n",
       "      <th>CustomerID</th>\n",
       "      <th>Monetary</th>\n",
       "      <th>Recency</th>\n",
       "      <th>Frequency</th>\n",
       "      <th>R</th>\n",
       "      <th>M</th>\n",
       "      <th>F</th>\n",
       "      <th>RFM_Sum</th>\n",
       "    </tr>\n",
       "  </thead>\n",
       "  <tbody>\n",
       "    <tr>\n",
       "      <th>0</th>\n",
       "      <td>17850.0</td>\n",
       "      <td>5391.21</td>\n",
       "      <td>302</td>\n",
       "      <td>35</td>\n",
       "      <td>1</td>\n",
       "      <td>2</td>\n",
       "      <td>3</td>\n",
       "      <td>6</td>\n",
       "    </tr>\n",
       "    <tr>\n",
       "      <th>1</th>\n",
       "      <td>13047.0</td>\n",
       "      <td>3237.54</td>\n",
       "      <td>31</td>\n",
       "      <td>18</td>\n",
       "      <td>4</td>\n",
       "      <td>2</td>\n",
       "      <td>2</td>\n",
       "      <td>8</td>\n",
       "    </tr>\n",
       "  </tbody>\n",
       "</table>\n",
       "</div>"
      ],
      "text/plain": [
       "   CustomerID  Monetary  Recency  Frequency  R  M  F  RFM_Sum\n",
       "0     17850.0   5391.21      302         35  1  2  3        6\n",
       "1     13047.0   3237.54       31         18  4  2  2        8"
      ]
     },
     "execution_count": 84,
     "metadata": {},
     "output_type": "execute_result"
    }
   ],
   "source": [
    "df2.head(2)"
   ]
  },
  {
   "cell_type": "code",
   "execution_count": 85,
   "id": "8305a64b",
   "metadata": {},
   "outputs": [
    {
     "data": {
      "text/plain": [
       "6     1229\n",
       "5      713\n",
       "4      640\n",
       "3      610\n",
       "7      551\n",
       "8      519\n",
       "9       60\n",
       "10      36\n",
       "11      13\n",
       "12       1\n",
       "Name: RFM_Sum, dtype: int64"
      ]
     },
     "execution_count": 85,
     "metadata": {},
     "output_type": "execute_result"
    }
   ],
   "source": [
    "df2.RFM_Sum.value_counts() # Number of customers as per their RFM score "
   ]
  },
  {
   "cell_type": "code",
   "execution_count": 86,
   "id": "e563c5df",
   "metadata": {},
   "outputs": [
    {
     "data": {
      "text/plain": [
       "0         Silver\n",
       "1       Platinum\n",
       "2       Platinum\n",
       "3         Silver\n",
       "4         Bronze\n",
       "          ...   \n",
       "4367      Bronze\n",
       "4368      Bronze\n",
       "4369      Bronze\n",
       "4370      Silver\n",
       "4371      Silver\n",
       "Name: RFM_Sum, Length: 4372, dtype: category\n",
       "Categories (4, object): ['Bronze' < 'Silver' < 'Gold' < 'Platinum']"
      ]
     },
     "execution_count": 86,
     "metadata": {},
     "output_type": "execute_result"
    }
   ],
   "source": [
    "loyalty_labels = ['Bronze','Silver','Gold', 'Platinum'] # Loyalty labels in ascending order\n",
    "score_cut = pd.qcut(df2.RFM_Sum,q=4,labels=loyalty_labels)\n",
    "score_cut # Segregating customers into 4 divisions based on their loyalty score"
   ]
  },
  {
   "cell_type": "code",
   "execution_count": 87,
   "id": "8472d080",
   "metadata": {},
   "outputs": [],
   "source": [
    "df2['LoyaltyLabel'] = score_cut.values"
   ]
  },
  {
   "cell_type": "code",
   "execution_count": 88,
   "id": "1daf8c7a",
   "metadata": {},
   "outputs": [
    {
     "data": {
      "text/html": [
       "<div>\n",
       "<style scoped>\n",
       "    .dataframe tbody tr th:only-of-type {\n",
       "        vertical-align: middle;\n",
       "    }\n",
       "\n",
       "    .dataframe tbody tr th {\n",
       "        vertical-align: top;\n",
       "    }\n",
       "\n",
       "    .dataframe thead th {\n",
       "        text-align: right;\n",
       "    }\n",
       "</style>\n",
       "<table border=\"1\" class=\"dataframe\">\n",
       "  <thead>\n",
       "    <tr style=\"text-align: right;\">\n",
       "      <th></th>\n",
       "      <th>CustomerID</th>\n",
       "      <th>Monetary</th>\n",
       "      <th>Recency</th>\n",
       "      <th>Frequency</th>\n",
       "      <th>R</th>\n",
       "      <th>M</th>\n",
       "      <th>F</th>\n",
       "      <th>RFM_Sum</th>\n",
       "      <th>LoyaltyLabel</th>\n",
       "    </tr>\n",
       "  </thead>\n",
       "  <tbody>\n",
       "    <tr>\n",
       "      <th>0</th>\n",
       "      <td>17850.0</td>\n",
       "      <td>5391.21</td>\n",
       "      <td>302</td>\n",
       "      <td>35</td>\n",
       "      <td>1</td>\n",
       "      <td>2</td>\n",
       "      <td>3</td>\n",
       "      <td>6</td>\n",
       "      <td>Silver</td>\n",
       "    </tr>\n",
       "    <tr>\n",
       "      <th>1</th>\n",
       "      <td>13047.0</td>\n",
       "      <td>3237.54</td>\n",
       "      <td>31</td>\n",
       "      <td>18</td>\n",
       "      <td>4</td>\n",
       "      <td>2</td>\n",
       "      <td>2</td>\n",
       "      <td>8</td>\n",
       "      <td>Platinum</td>\n",
       "    </tr>\n",
       "  </tbody>\n",
       "</table>\n",
       "</div>"
      ],
      "text/plain": [
       "   CustomerID  Monetary  Recency  Frequency  R  M  F  RFM_Sum LoyaltyLabel\n",
       "0     17850.0   5391.21      302         35  1  2  3        6       Silver\n",
       "1     13047.0   3237.54       31         18  4  2  2        8     Platinum"
      ]
     },
     "execution_count": 88,
     "metadata": {},
     "output_type": "execute_result"
    }
   ],
   "source": [
    "df2.head(2)"
   ]
  },
  {
   "cell_type": "code",
   "execution_count": 89,
   "id": "3e4012e1",
   "metadata": {},
   "outputs": [
    {
     "data": {
      "text/plain": [
       "Silver      1942\n",
       "Bronze      1250\n",
       "Platinum     629\n",
       "Gold         551\n",
       "Name: LoyaltyLabel, dtype: int64"
      ]
     },
     "execution_count": 89,
     "metadata": {},
     "output_type": "execute_result"
    }
   ],
   "source": [
    "loyalty_values = df2.LoyaltyLabel.value_counts()\n",
    "loyalty_values"
   ]
  },
  {
   "cell_type": "code",
   "execution_count": 90,
   "id": "3b9205ec",
   "metadata": {},
   "outputs": [],
   "source": [
    "import matplotlib.style as style\n",
    "style.use('fivethirtyeight')"
   ]
  },
  {
   "cell_type": "code",
   "execution_count": 91,
   "id": "5cfdc640",
   "metadata": {},
   "outputs": [
    {
     "data": {
      "text/plain": [
       "<AxesSubplot:>"
      ]
     },
     "execution_count": 91,
     "metadata": {},
     "output_type": "execute_result"
    },
    {
     "data": {
      "image/png": "[encoded data removed]",
      "text/plain": [
       "<Figure size 864x432 with 1 Axes>"
      ]
     },
     "metadata": {},
     "output_type": "display_data"
    }
   ],
   "source": [
    "plt.figure(figsize=(12,6))\n",
    "sns.barplot(data=df2,x=loyalty_values.values,y=loyalty_values.index,\n",
    "           order=loyalty_values.sort_values(ascending=False).index,)"
   ]
  },
  {
   "cell_type": "code",
   "execution_count": 92,
   "id": "c49b6a87",
   "metadata": {},
   "outputs": [
    {
     "data": {
      "text/plain": [
       "<AxesSubplot:xlabel='Frequency', ylabel='RFM_Sum'>"
      ]
     },
     "execution_count": 92,
     "metadata": {},
     "output_type": "execute_result"
    },
    {
     "data": {
      "image/png": "[encoded data removed]",
      "text/plain": [
       "<Figure size 864x432 with 1 Axes>"
      ]
     },
     "metadata": {},
     "output_type": "display_data"
    }
   ],
   "source": [
    "plt.figure(figsize=(12,6))\n",
    "sns.scatterplot(data=df2,x='Frequency',y='RFM_Sum',hue='LoyaltyLabel')"
   ]
  },
  {
   "cell_type": "code",
   "execution_count": 93,
   "id": "71c3f5d4",
   "metadata": {},
   "outputs": [
    {
     "data": {
      "text/plain": [
       "<AxesSubplot:xlabel='Monetary', ylabel='RFM_Sum'>"
      ]
     },
     "execution_count": 93,
     "metadata": {},
     "output_type": "execute_result"
    },
    {
     "data": {
      "image/png": "[encoded data removed]",
      "text/plain": [
       "<Figure size 864x432 with 1 Axes>"
      ]
     },
     "metadata": {},
     "output_type": "display_data"
    }
   ],
   "source": [
    "plt.figure(figsize=(12,6))\n",
    "sns.scatterplot(data=df2,x='Monetary',y='RFM_Sum',hue='LoyaltyLabel')"
   ]
  },
  {
   "cell_type": "code",
   "execution_count": 94,
   "id": "6009b89c",
   "metadata": {},
   "outputs": [
    {
     "data": {
      "text/plain": [
       "<AxesSubplot:xlabel='Recency', ylabel='RFM_Sum'>"
      ]
     },
     "execution_count": 94,
     "metadata": {},
     "output_type": "execute_result"
    },
    {
     "data": {
      "image/png": "[encoded data removed]",
      "text/plain": [
       "<Figure size 864x432 with 1 Axes>"
      ]
     },
     "metadata": {},
     "output_type": "display_data"
    }
   ],
   "source": [
    "plt.figure(figsize=(12,6))\n",
    "sns.scatterplot(data=df2,x='Recency',y='RFM_Sum',hue='LoyaltyLabel')"
   ]
  },
  {
   "cell_type": "markdown",
   "id": "f35129da",
   "metadata": {},
   "source": [
    "# Creating segements"
   ]
  },
  {
   "cell_type": "code",
   "execution_count": 95,
   "id": "2cd23026",
   "metadata": {},
   "outputs": [],
   "source": [
    "# Creating RFM ID\n",
    "df2['RFM_ID'] = df2.R.map(str) + df2.F.map(str) + df2.M.map(str)"
   ]
  },
  {
   "cell_type": "code",
   "execution_count": 96,
   "id": "4df2529b",
   "metadata": {
    "scrolled": true
   },
   "outputs": [
    {
     "data": {
      "text/html": [
       "<div>\n",
       "<style scoped>\n",
       "    .dataframe tbody tr th:only-of-type {\n",
       "        vertical-align: middle;\n",
       "    }\n",
       "\n",
       "    .dataframe tbody tr th {\n",
       "        vertical-align: top;\n",
       "    }\n",
       "\n",
       "    .dataframe thead th {\n",
       "        text-align: right;\n",
       "    }\n",
       "</style>\n",
       "<table border=\"1\" class=\"dataframe\">\n",
       "  <thead>\n",
       "    <tr style=\"text-align: right;\">\n",
       "      <th></th>\n",
       "      <th>CustomerID</th>\n",
       "      <th>Monetary</th>\n",
       "      <th>Recency</th>\n",
       "      <th>Frequency</th>\n",
       "      <th>R</th>\n",
       "      <th>M</th>\n",
       "      <th>F</th>\n",
       "      <th>RFM_Sum</th>\n",
       "      <th>LoyaltyLabel</th>\n",
       "      <th>RFM_ID</th>\n",
       "    </tr>\n",
       "  </thead>\n",
       "  <tbody>\n",
       "    <tr>\n",
       "      <th>0</th>\n",
       "      <td>17850.0</td>\n",
       "      <td>5391.21</td>\n",
       "      <td>302</td>\n",
       "      <td>35</td>\n",
       "      <td>1</td>\n",
       "      <td>2</td>\n",
       "      <td>3</td>\n",
       "      <td>6</td>\n",
       "      <td>Silver</td>\n",
       "      <td>132</td>\n",
       "    </tr>\n",
       "    <tr>\n",
       "      <th>1</th>\n",
       "      <td>13047.0</td>\n",
       "      <td>3237.54</td>\n",
       "      <td>31</td>\n",
       "      <td>18</td>\n",
       "      <td>4</td>\n",
       "      <td>2</td>\n",
       "      <td>2</td>\n",
       "      <td>8</td>\n",
       "      <td>Platinum</td>\n",
       "      <td>422</td>\n",
       "    </tr>\n",
       "    <tr>\n",
       "      <th>2</th>\n",
       "      <td>12583.0</td>\n",
       "      <td>7281.38</td>\n",
       "      <td>2</td>\n",
       "      <td>18</td>\n",
       "      <td>4</td>\n",
       "      <td>2</td>\n",
       "      <td>2</td>\n",
       "      <td>8</td>\n",
       "      <td>Platinum</td>\n",
       "      <td>422</td>\n",
       "    </tr>\n",
       "    <tr>\n",
       "      <th>3</th>\n",
       "      <td>13748.0</td>\n",
       "      <td>948.25</td>\n",
       "      <td>95</td>\n",
       "      <td>5</td>\n",
       "      <td>3</td>\n",
       "      <td>1</td>\n",
       "      <td>1</td>\n",
       "      <td>5</td>\n",
       "      <td>Silver</td>\n",
       "      <td>311</td>\n",
       "    </tr>\n",
       "    <tr>\n",
       "      <th>4</th>\n",
       "      <td>15100.0</td>\n",
       "      <td>876.00</td>\n",
       "      <td>330</td>\n",
       "      <td>6</td>\n",
       "      <td>1</td>\n",
       "      <td>1</td>\n",
       "      <td>1</td>\n",
       "      <td>3</td>\n",
       "      <td>Bronze</td>\n",
       "      <td>111</td>\n",
       "    </tr>\n",
       "  </tbody>\n",
       "</table>\n",
       "</div>"
      ],
      "text/plain": [
       "   CustomerID  Monetary  Recency  Frequency  R  M  F  RFM_Sum LoyaltyLabel  \\\n",
       "0     17850.0   5391.21      302         35  1  2  3        6       Silver   \n",
       "1     13047.0   3237.54       31         18  4  2  2        8     Platinum   \n",
       "2     12583.0   7281.38        2         18  4  2  2        8     Platinum   \n",
       "3     13748.0    948.25       95          5  3  1  1        5       Silver   \n",
       "4     15100.0    876.00      330          6  1  1  1        3       Bronze   \n",
       "\n",
       "  RFM_ID  \n",
       "0    132  \n",
       "1    422  \n",
       "2    422  \n",
       "3    311  \n",
       "4    111  "
      ]
     },
     "execution_count": 96,
     "metadata": {},
     "output_type": "execute_result"
    }
   ],
   "source": [
    "df2.head()"
   ]
  },
  {
   "cell_type": "markdown",
   "id": "3275f5c7",
   "metadata": {},
   "source": [
    " "
   ]
  },
  {
   "cell_type": "markdown",
   "id": "03e2e892",
   "metadata": {},
   "source": [
    "**Customer Segment descriptions:**\n",
    "1. Inactive or Passerby customers - Customers who are not after anything in particular. only buy what might catch their attention.\n",
    "2. Promising or Loyal customers - Customers who shop regularly and love this shopping mall\n",
    "3. New customers - Customers who enjoy their last visit to shop and may come back if they find out more about what this mall has to offer\n",
    "4. Out-of-town customers or sleeping  - They were once loyal customers, but they move to new place and find a closer shopping mall\n",
    "5. Students - Customers who visit the store often but they dont spend much\n",
    "6. Cant loose or Dissatisfied customers - They spend a lot on shopping, but the previous purchase didnt suit them\n",
    "7. At risk: At risk of losing \n",
    "7. Nurture or Soon-to-be loyal customers - They are 'soon-to-be' loyal customers if the previous purchase suited them and the mall catches their attention"
   ]
  },
  {
   "cell_type": "code",
   "execution_count": 97,
   "id": "094f4ac7",
   "metadata": {},
   "outputs": [],
   "source": [
    "# creating a segment map for classifying customers on basis of above criteria\n",
    "seg_map = {\n",
    "    r'[1][1-2][1-3]': 'Inactive or Passerby',\n",
    "    r'[3-4][3-4][2-4]': 'Loyal',\n",
    "    r'[4][1-2][1-3]': 'New',\n",
    "    r'[1-2][2-4][2-4]': 'Out of Town',\n",
    "    r'[2-4][1-3][1]': 'Students',\n",
    "    r'[1-3][1-4][3-4]': 'Cant Loose or Dissatisfied',\n",
    "    r'[1-2][2-3][2-4]': 'At-Risk',\n",
    "    r'[2-4][1-2][2-4]':'Nurture'\n",
    "    \n",
    "}"
   ]
  },
  {
   "cell_type": "code",
   "execution_count": 98,
   "id": "6f5b78d2",
   "metadata": {},
   "outputs": [],
   "source": [
    "# Creating segments based on above Customer segementation"
   ]
  },
  {
   "cell_type": "code",
   "execution_count": 99,
   "id": "a8ea830f",
   "metadata": {},
   "outputs": [
    {
     "data": {
      "text/plain": [
       "4372"
      ]
     },
     "execution_count": 99,
     "metadata": {},
     "output_type": "execute_result"
    }
   ],
   "source": [
    "df2.CustomerID.count()"
   ]
  },
  {
   "cell_type": "code",
   "execution_count": 100,
   "id": "5ca2204e",
   "metadata": {},
   "outputs": [],
   "source": [
    "df2['Customer_Segment'] = df2.RFM_ID.replace(seg_map,regex=True)"
   ]
  },
  {
   "cell_type": "code",
   "execution_count": 101,
   "id": "6e2259d9",
   "metadata": {},
   "outputs": [
    {
     "data": {
      "text/plain": [
       "New                           2036\n",
       "Students                      1216\n",
       "Inactive or Passerby           644\n",
       "Nurture                        367\n",
       "Loyal                           80\n",
       "Out of Town                     25\n",
       "Cant Loose or Dissatisfied       4\n",
       "Name: Customer_Segment, dtype: int64"
      ]
     },
     "execution_count": 101,
     "metadata": {},
     "output_type": "execute_result"
    }
   ],
   "source": [
    "df2.Customer_Segment.value_counts()"
   ]
  },
  {
   "cell_type": "code",
   "execution_count": 102,
   "id": "43781bea",
   "metadata": {},
   "outputs": [
    {
     "data": {
      "text/html": [
       "<div>\n",
       "<style scoped>\n",
       "    .dataframe tbody tr th:only-of-type {\n",
       "        vertical-align: middle;\n",
       "    }\n",
       "\n",
       "    .dataframe tbody tr th {\n",
       "        vertical-align: top;\n",
       "    }\n",
       "\n",
       "    .dataframe thead th {\n",
       "        text-align: right;\n",
       "    }\n",
       "</style>\n",
       "<table border=\"1\" class=\"dataframe\">\n",
       "  <thead>\n",
       "    <tr style=\"text-align: right;\">\n",
       "      <th></th>\n",
       "      <th>CustomerID</th>\n",
       "      <th>Monetary</th>\n",
       "      <th>Recency</th>\n",
       "      <th>Frequency</th>\n",
       "      <th>R</th>\n",
       "      <th>M</th>\n",
       "      <th>F</th>\n",
       "      <th>RFM_Sum</th>\n",
       "      <th>LoyaltyLabel</th>\n",
       "      <th>RFM_ID</th>\n",
       "      <th>Customer_Segment</th>\n",
       "    </tr>\n",
       "  </thead>\n",
       "  <tbody>\n",
       "    <tr>\n",
       "      <th>0</th>\n",
       "      <td>17850.0</td>\n",
       "      <td>5391.21</td>\n",
       "      <td>302</td>\n",
       "      <td>35</td>\n",
       "      <td>1</td>\n",
       "      <td>2</td>\n",
       "      <td>3</td>\n",
       "      <td>6</td>\n",
       "      <td>Silver</td>\n",
       "      <td>132</td>\n",
       "      <td>Out of Town</td>\n",
       "    </tr>\n",
       "    <tr>\n",
       "      <th>1</th>\n",
       "      <td>13047.0</td>\n",
       "      <td>3237.54</td>\n",
       "      <td>31</td>\n",
       "      <td>18</td>\n",
       "      <td>4</td>\n",
       "      <td>2</td>\n",
       "      <td>2</td>\n",
       "      <td>8</td>\n",
       "      <td>Platinum</td>\n",
       "      <td>422</td>\n",
       "      <td>New</td>\n",
       "    </tr>\n",
       "    <tr>\n",
       "      <th>2</th>\n",
       "      <td>12583.0</td>\n",
       "      <td>7281.38</td>\n",
       "      <td>2</td>\n",
       "      <td>18</td>\n",
       "      <td>4</td>\n",
       "      <td>2</td>\n",
       "      <td>2</td>\n",
       "      <td>8</td>\n",
       "      <td>Platinum</td>\n",
       "      <td>422</td>\n",
       "      <td>New</td>\n",
       "    </tr>\n",
       "    <tr>\n",
       "      <th>3</th>\n",
       "      <td>13748.0</td>\n",
       "      <td>948.25</td>\n",
       "      <td>95</td>\n",
       "      <td>5</td>\n",
       "      <td>3</td>\n",
       "      <td>1</td>\n",
       "      <td>1</td>\n",
       "      <td>5</td>\n",
       "      <td>Silver</td>\n",
       "      <td>311</td>\n",
       "      <td>Students</td>\n",
       "    </tr>\n",
       "    <tr>\n",
       "      <th>4</th>\n",
       "      <td>15100.0</td>\n",
       "      <td>876.00</td>\n",
       "      <td>330</td>\n",
       "      <td>6</td>\n",
       "      <td>1</td>\n",
       "      <td>1</td>\n",
       "      <td>1</td>\n",
       "      <td>3</td>\n",
       "      <td>Bronze</td>\n",
       "      <td>111</td>\n",
       "      <td>Inactive or Passerby</td>\n",
       "    </tr>\n",
       "    <tr>\n",
       "      <th>...</th>\n",
       "      <td>...</td>\n",
       "      <td>...</td>\n",
       "      <td>...</td>\n",
       "      <td>...</td>\n",
       "      <td>...</td>\n",
       "      <td>...</td>\n",
       "      <td>...</td>\n",
       "      <td>...</td>\n",
       "      <td>...</td>\n",
       "      <td>...</td>\n",
       "      <td>...</td>\n",
       "    </tr>\n",
       "    <tr>\n",
       "      <th>4367</th>\n",
       "      <td>15369.0</td>\n",
       "      <td>0.00</td>\n",
       "      <td>144</td>\n",
       "      <td>1</td>\n",
       "      <td>2</td>\n",
       "      <td>1</td>\n",
       "      <td>1</td>\n",
       "      <td>4</td>\n",
       "      <td>Bronze</td>\n",
       "      <td>211</td>\n",
       "      <td>Students</td>\n",
       "    </tr>\n",
       "    <tr>\n",
       "      <th>4368</th>\n",
       "      <td>13154.0</td>\n",
       "      <td>0.00</td>\n",
       "      <td>144</td>\n",
       "      <td>1</td>\n",
       "      <td>2</td>\n",
       "      <td>1</td>\n",
       "      <td>1</td>\n",
       "      <td>4</td>\n",
       "      <td>Bronze</td>\n",
       "      <td>211</td>\n",
       "      <td>Students</td>\n",
       "    </tr>\n",
       "    <tr>\n",
       "      <th>4369</th>\n",
       "      <td>17065.0</td>\n",
       "      <td>0.00</td>\n",
       "      <td>143</td>\n",
       "      <td>1</td>\n",
       "      <td>2</td>\n",
       "      <td>1</td>\n",
       "      <td>1</td>\n",
       "      <td>4</td>\n",
       "      <td>Bronze</td>\n",
       "      <td>211</td>\n",
       "      <td>Students</td>\n",
       "    </tr>\n",
       "    <tr>\n",
       "      <th>4370</th>\n",
       "      <td>16428.0</td>\n",
       "      <td>0.00</td>\n",
       "      <td>81</td>\n",
       "      <td>1</td>\n",
       "      <td>3</td>\n",
       "      <td>1</td>\n",
       "      <td>1</td>\n",
       "      <td>5</td>\n",
       "      <td>Silver</td>\n",
       "      <td>311</td>\n",
       "      <td>Students</td>\n",
       "    </tr>\n",
       "    <tr>\n",
       "      <th>4371</th>\n",
       "      <td>15728.0</td>\n",
       "      <td>0.00</td>\n",
       "      <td>49</td>\n",
       "      <td>1</td>\n",
       "      <td>3</td>\n",
       "      <td>1</td>\n",
       "      <td>1</td>\n",
       "      <td>5</td>\n",
       "      <td>Silver</td>\n",
       "      <td>311</td>\n",
       "      <td>Students</td>\n",
       "    </tr>\n",
       "  </tbody>\n",
       "</table>\n",
       "<p>4372 rows × 11 columns</p>\n",
       "</div>"
      ],
      "text/plain": [
       "      CustomerID  Monetary  Recency  Frequency  R  M  F  RFM_Sum LoyaltyLabel  \\\n",
       "0        17850.0   5391.21      302         35  1  2  3        6       Silver   \n",
       "1        13047.0   3237.54       31         18  4  2  2        8     Platinum   \n",
       "2        12583.0   7281.38        2         18  4  2  2        8     Platinum   \n",
       "3        13748.0    948.25       95          5  3  1  1        5       Silver   \n",
       "4        15100.0    876.00      330          6  1  1  1        3       Bronze   \n",
       "...          ...       ...      ...        ... .. .. ..      ...          ...   \n",
       "4367     15369.0      0.00      144          1  2  1  1        4       Bronze   \n",
       "4368     13154.0      0.00      144          1  2  1  1        4       Bronze   \n",
       "4369     17065.0      0.00      143          1  2  1  1        4       Bronze   \n",
       "4370     16428.0      0.00       81          1  3  1  1        5       Silver   \n",
       "4371     15728.0      0.00       49          1  3  1  1        5       Silver   \n",
       "\n",
       "     RFM_ID      Customer_Segment  \n",
       "0       132           Out of Town  \n",
       "1       422                   New  \n",
       "2       422                   New  \n",
       "3       311              Students  \n",
       "4       111  Inactive or Passerby  \n",
       "...     ...                   ...  \n",
       "4367    211              Students  \n",
       "4368    211              Students  \n",
       "4369    211              Students  \n",
       "4370    311              Students  \n",
       "4371    311              Students  \n",
       "\n",
       "[4372 rows x 11 columns]"
      ]
     },
     "execution_count": 102,
     "metadata": {},
     "output_type": "execute_result"
    }
   ],
   "source": [
    "df2"
   ]
  },
  {
   "cell_type": "code",
   "execution_count": 103,
   "id": "b0b199ec",
   "metadata": {},
   "outputs": [],
   "source": [
    "style.use('fivethirtyeight')"
   ]
  },
  {
   "cell_type": "code",
   "execution_count": 104,
   "id": "7bcca6d9",
   "metadata": {},
   "outputs": [
    {
     "data": {
      "text/plain": [
       "Text(0.5, 0, 'Number of Customers')"
      ]
     },
     "execution_count": 104,
     "metadata": {},
     "output_type": "execute_result"
    },
    {
     "data": {
      "image/png": "[encoded data removed]",
      "text/plain": [
       "<Figure size 720x576 with 1 Axes>"
      ]
     },
     "metadata": {},
     "output_type": "display_data"
    }
   ],
   "source": [
    "plt.figure(figsize=(10,8))\n",
    "sns.barplot(data=df2,y=df2.Customer_Segment.value_counts().index,x=df2.Customer_Segment.value_counts().values)\n",
    "plt.ylabel('Types of Customers')\n",
    "plt.xlabel('Number of Customers')"
   ]
  },
  {
   "cell_type": "code",
   "execution_count": 105,
   "id": "073ff6b2",
   "metadata": {},
   "outputs": [
    {
     "data": {
      "image/png": "[encoded data removed]",
      "text/plain": [
       "<Figure size 1080x720 with 1 Axes>"
      ]
     },
     "metadata": {},
     "output_type": "display_data"
    }
   ],
   "source": [
    "plt.figure(figsize=(15,10))\n",
    "plt.pie(data=df2,x=df2.Customer_Segment.value_counts(),labels=df2.Customer_Segment.value_counts().index,\n",
    "        autopct= lambda x: '{:.0f}%'.format(x),labeldistance=1.05,startangle=180,explode=(0,0,0,0,0.5,0,0))\n",
    "plt.title('Types of Customers')\n",
    "plt.show()"
   ]
  },
  {
   "cell_type": "code",
   "execution_count": null,
   "id": "de595f6f",
   "metadata": {},
   "outputs": [],
   "source": []
  },
  {
   "cell_type": "markdown",
   "id": "6a2fb1c9",
   "metadata": {},
   "source": [
    "## K Means Clustering"
   ]
  },
  {
   "cell_type": "code",
   "execution_count": 106,
   "id": "0385ccb5",
   "metadata": {},
   "outputs": [],
   "source": [
    "from sklearn.cluster import KMeans"
   ]
  },
  {
   "cell_type": "code",
   "execution_count": 107,
   "id": "4e6cad21",
   "metadata": {},
   "outputs": [
    {
     "data": {
      "text/html": [
       "<div>\n",
       "<style scoped>\n",
       "    .dataframe tbody tr th:only-of-type {\n",
       "        vertical-align: middle;\n",
       "    }\n",
       "\n",
       "    .dataframe tbody tr th {\n",
       "        vertical-align: top;\n",
       "    }\n",
       "\n",
       "    .dataframe thead th {\n",
       "        text-align: right;\n",
       "    }\n",
       "</style>\n",
       "<table border=\"1\" class=\"dataframe\">\n",
       "  <thead>\n",
       "    <tr style=\"text-align: right;\">\n",
       "      <th></th>\n",
       "      <th>RFM_Sum</th>\n",
       "    </tr>\n",
       "  </thead>\n",
       "  <tbody>\n",
       "    <tr>\n",
       "      <th>0</th>\n",
       "      <td>6</td>\n",
       "    </tr>\n",
       "    <tr>\n",
       "      <th>1</th>\n",
       "      <td>8</td>\n",
       "    </tr>\n",
       "    <tr>\n",
       "      <th>2</th>\n",
       "      <td>8</td>\n",
       "    </tr>\n",
       "    <tr>\n",
       "      <th>3</th>\n",
       "      <td>5</td>\n",
       "    </tr>\n",
       "    <tr>\n",
       "      <th>4</th>\n",
       "      <td>3</td>\n",
       "    </tr>\n",
       "    <tr>\n",
       "      <th>...</th>\n",
       "      <td>...</td>\n",
       "    </tr>\n",
       "    <tr>\n",
       "      <th>4367</th>\n",
       "      <td>4</td>\n",
       "    </tr>\n",
       "    <tr>\n",
       "      <th>4368</th>\n",
       "      <td>4</td>\n",
       "    </tr>\n",
       "    <tr>\n",
       "      <th>4369</th>\n",
       "      <td>4</td>\n",
       "    </tr>\n",
       "    <tr>\n",
       "      <th>4370</th>\n",
       "      <td>5</td>\n",
       "    </tr>\n",
       "    <tr>\n",
       "      <th>4371</th>\n",
       "      <td>5</td>\n",
       "    </tr>\n",
       "  </tbody>\n",
       "</table>\n",
       "<p>4372 rows × 1 columns</p>\n",
       "</div>"
      ],
      "text/plain": [
       "      RFM_Sum\n",
       "0           6\n",
       "1           8\n",
       "2           8\n",
       "3           5\n",
       "4           3\n",
       "...       ...\n",
       "4367        4\n",
       "4368        4\n",
       "4369        4\n",
       "4370        5\n",
       "4371        5\n",
       "\n",
       "[4372 rows x 1 columns]"
      ]
     },
     "execution_count": 107,
     "metadata": {},
     "output_type": "execute_result"
    }
   ],
   "source": [
    "RFMScore = pd.DataFrame(df2['RFM_Sum'])\n",
    "RFMScore"
   ]
  },
  {
   "cell_type": "code",
   "execution_count": 108,
   "id": "9b4e182b",
   "metadata": {
    "scrolled": true
   },
   "outputs": [
    {
     "name": "stderr",
     "output_type": "stream",
     "text": [
      "C:\\Users\\Shenoy\\AppData\\Local\\Temp\\ipykernel_2132\\1717772868.py:5: ConvergenceWarning: Number of distinct clusters (10) found smaller than n_clusters (11). Possibly due to duplicate points in X.\n",
      "  km.fit(RFMScore)\n",
      "C:\\Users\\Shenoy\\AppData\\Local\\Temp\\ipykernel_2132\\1717772868.py:5: ConvergenceWarning: Number of distinct clusters (10) found smaller than n_clusters (12). Possibly due to duplicate points in X.\n",
      "  km.fit(RFMScore)\n",
      "C:\\Users\\Shenoy\\AppData\\Local\\Temp\\ipykernel_2132\\1717772868.py:5: ConvergenceWarning: Number of distinct clusters (10) found smaller than n_clusters (13). Possibly due to duplicate points in X.\n",
      "  km.fit(RFMScore)\n",
      "C:\\Users\\Shenoy\\AppData\\Local\\Temp\\ipykernel_2132\\1717772868.py:5: ConvergenceWarning: Number of distinct clusters (10) found smaller than n_clusters (14). Possibly due to duplicate points in X.\n",
      "  km.fit(RFMScore)\n",
      "C:\\Users\\Shenoy\\AppData\\Local\\Temp\\ipykernel_2132\\1717772868.py:5: ConvergenceWarning: Number of distinct clusters (10) found smaller than n_clusters (15). Possibly due to duplicate points in X.\n",
      "  km.fit(RFMScore)\n",
      "C:\\Users\\Shenoy\\AppData\\Local\\Temp\\ipykernel_2132\\1717772868.py:5: ConvergenceWarning: Number of distinct clusters (10) found smaller than n_clusters (16). Possibly due to duplicate points in X.\n",
      "  km.fit(RFMScore)\n",
      "C:\\Users\\Shenoy\\AppData\\Local\\Temp\\ipykernel_2132\\1717772868.py:5: ConvergenceWarning: Number of distinct clusters (10) found smaller than n_clusters (17). Possibly due to duplicate points in X.\n",
      "  km.fit(RFMScore)\n",
      "C:\\Users\\Shenoy\\AppData\\Local\\Temp\\ipykernel_2132\\1717772868.py:5: ConvergenceWarning: Number of distinct clusters (10) found smaller than n_clusters (18). Possibly due to duplicate points in X.\n",
      "  km.fit(RFMScore)\n",
      "C:\\Users\\Shenoy\\AppData\\Local\\Temp\\ipykernel_2132\\1717772868.py:5: ConvergenceWarning: Number of distinct clusters (10) found smaller than n_clusters (19). Possibly due to duplicate points in X.\n",
      "  km.fit(RFMScore)\n",
      "C:\\Users\\Shenoy\\AppData\\Local\\Temp\\ipykernel_2132\\1717772868.py:5: ConvergenceWarning: Number of distinct clusters (10) found smaller than n_clusters (20). Possibly due to duplicate points in X.\n",
      "  km.fit(RFMScore)\n",
      "C:\\Users\\Shenoy\\AppData\\Local\\Temp\\ipykernel_2132\\1717772868.py:5: ConvergenceWarning: Number of distinct clusters (10) found smaller than n_clusters (21). Possibly due to duplicate points in X.\n",
      "  km.fit(RFMScore)\n",
      "C:\\Users\\Shenoy\\AppData\\Local\\Temp\\ipykernel_2132\\1717772868.py:5: ConvergenceWarning: Number of distinct clusters (10) found smaller than n_clusters (22). Possibly due to duplicate points in X.\n",
      "  km.fit(RFMScore)\n",
      "C:\\Users\\Shenoy\\AppData\\Local\\Temp\\ipykernel_2132\\1717772868.py:5: ConvergenceWarning: Number of distinct clusters (10) found smaller than n_clusters (23). Possibly due to duplicate points in X.\n",
      "  km.fit(RFMScore)\n",
      "C:\\Users\\Shenoy\\AppData\\Local\\Temp\\ipykernel_2132\\1717772868.py:5: ConvergenceWarning: Number of distinct clusters (10) found smaller than n_clusters (24). Possibly due to duplicate points in X.\n",
      "  km.fit(RFMScore)\n"
     ]
    }
   ],
   "source": [
    "SSE = [] # list of Sum of square\n",
    "\n",
    "for k in range(1,25):\n",
    "    km = KMeans(n_clusters=k)\n",
    "    km.fit(RFMScore)\n",
    "    SSE.append(km.inertia_)"
   ]
  },
  {
   "cell_type": "code",
   "execution_count": 109,
   "id": "506e9397",
   "metadata": {},
   "outputs": [],
   "source": [
    "Error_km = pd.DataFrame({'No. of Clusters': range (1,25), 'SSE': SSE})"
   ]
  },
  {
   "cell_type": "code",
   "execution_count": 110,
   "id": "f1a35702",
   "metadata": {
    "scrolled": true
   },
   "outputs": [
    {
     "data": {
      "text/html": [
       "<div>\n",
       "<style scoped>\n",
       "    .dataframe tbody tr th:only-of-type {\n",
       "        vertical-align: middle;\n",
       "    }\n",
       "\n",
       "    .dataframe tbody tr th {\n",
       "        vertical-align: top;\n",
       "    }\n",
       "\n",
       "    .dataframe thead th {\n",
       "        text-align: right;\n",
       "    }\n",
       "</style>\n",
       "<table border=\"1\" class=\"dataframe\">\n",
       "  <thead>\n",
       "    <tr style=\"text-align: right;\">\n",
       "      <th></th>\n",
       "      <th>No. of Clusters</th>\n",
       "      <th>SSE</th>\n",
       "    </tr>\n",
       "  </thead>\n",
       "  <tbody>\n",
       "    <tr>\n",
       "      <th>0</th>\n",
       "      <td>1</td>\n",
       "      <td>1.209346e+04</td>\n",
       "    </tr>\n",
       "    <tr>\n",
       "      <th>1</th>\n",
       "      <td>2</td>\n",
       "      <td>3.787616e+03</td>\n",
       "    </tr>\n",
       "    <tr>\n",
       "      <th>2</th>\n",
       "      <td>3</td>\n",
       "      <td>1.531734e+03</td>\n",
       "    </tr>\n",
       "    <tr>\n",
       "      <th>3</th>\n",
       "      <td>4</td>\n",
       "      <td>1.080510e+03</td>\n",
       "    </tr>\n",
       "    <tr>\n",
       "      <th>4</th>\n",
       "      <td>5</td>\n",
       "      <td>6.006316e+02</td>\n",
       "    </tr>\n",
       "    <tr>\n",
       "      <th>5</th>\n",
       "      <td>6</td>\n",
       "      <td>2.883116e+02</td>\n",
       "    </tr>\n",
       "    <tr>\n",
       "      <th>6</th>\n",
       "      <td>7</td>\n",
       "      <td>5.859091e+01</td>\n",
       "    </tr>\n",
       "    <tr>\n",
       "      <th>7</th>\n",
       "      <td>8</td>\n",
       "      <td>1.250000e+01</td>\n",
       "    </tr>\n",
       "    <tr>\n",
       "      <th>8</th>\n",
       "      <td>9</td>\n",
       "      <td>9.285714e-01</td>\n",
       "    </tr>\n",
       "    <tr>\n",
       "      <th>9</th>\n",
       "      <td>10</td>\n",
       "      <td>4.410620e-26</td>\n",
       "    </tr>\n",
       "    <tr>\n",
       "      <th>10</th>\n",
       "      <td>11</td>\n",
       "      <td>5.030512e-26</td>\n",
       "    </tr>\n",
       "    <tr>\n",
       "      <th>11</th>\n",
       "      <td>12</td>\n",
       "      <td>5.285329e-26</td>\n",
       "    </tr>\n",
       "    <tr>\n",
       "      <th>12</th>\n",
       "      <td>13</td>\n",
       "      <td>5.030512e-26</td>\n",
       "    </tr>\n",
       "    <tr>\n",
       "      <th>13</th>\n",
       "      <td>14</td>\n",
       "      <td>5.711068e-26</td>\n",
       "    </tr>\n",
       "    <tr>\n",
       "      <th>14</th>\n",
       "      <td>15</td>\n",
       "      <td>5.363589e-26</td>\n",
       "    </tr>\n",
       "    <tr>\n",
       "      <th>15</th>\n",
       "      <td>16</td>\n",
       "      <td>5.347811e-26</td>\n",
       "    </tr>\n",
       "    <tr>\n",
       "      <th>16</th>\n",
       "      <td>17</td>\n",
       "      <td>5.685582e-26</td>\n",
       "    </tr>\n",
       "    <tr>\n",
       "      <th>17</th>\n",
       "      <td>18</td>\n",
       "      <td>5.708124e-26</td>\n",
       "    </tr>\n",
       "    <tr>\n",
       "      <th>18</th>\n",
       "      <td>19</td>\n",
       "      <td>5.776040e-26</td>\n",
       "    </tr>\n",
       "    <tr>\n",
       "      <th>19</th>\n",
       "      <td>20</td>\n",
       "      <td>6.018575e-26</td>\n",
       "    </tr>\n",
       "    <tr>\n",
       "      <th>20</th>\n",
       "      <td>21</td>\n",
       "      <td>5.977303e-26</td>\n",
       "    </tr>\n",
       "    <tr>\n",
       "      <th>21</th>\n",
       "      <td>22</td>\n",
       "      <td>6.422536e-26</td>\n",
       "    </tr>\n",
       "    <tr>\n",
       "      <th>22</th>\n",
       "      <td>23</td>\n",
       "      <td>6.385539e-26</td>\n",
       "    </tr>\n",
       "    <tr>\n",
       "      <th>23</th>\n",
       "      <td>24</td>\n",
       "      <td>7.059990e-26</td>\n",
       "    </tr>\n",
       "  </tbody>\n",
       "</table>\n",
       "</div>"
      ],
      "text/plain": [
       "    No. of Clusters           SSE\n",
       "0                 1  1.209346e+04\n",
       "1                 2  3.787616e+03\n",
       "2                 3  1.531734e+03\n",
       "3                 4  1.080510e+03\n",
       "4                 5  6.006316e+02\n",
       "5                 6  2.883116e+02\n",
       "6                 7  5.859091e+01\n",
       "7                 8  1.250000e+01\n",
       "8                 9  9.285714e-01\n",
       "9                10  4.410620e-26\n",
       "10               11  5.030512e-26\n",
       "11               12  5.285329e-26\n",
       "12               13  5.030512e-26\n",
       "13               14  5.711068e-26\n",
       "14               15  5.363589e-26\n",
       "15               16  5.347811e-26\n",
       "16               17  5.685582e-26\n",
       "17               18  5.708124e-26\n",
       "18               19  5.776040e-26\n",
       "19               20  6.018575e-26\n",
       "20               21  5.977303e-26\n",
       "21               22  6.422536e-26\n",
       "22               23  6.385539e-26\n",
       "23               24  7.059990e-26"
      ]
     },
     "execution_count": 110,
     "metadata": {},
     "output_type": "execute_result"
    }
   ],
   "source": [
    "Error_km"
   ]
  },
  {
   "cell_type": "code",
   "execution_count": 111,
   "id": "40f620ba",
   "metadata": {},
   "outputs": [
    {
     "data": {
      "text/html": [
       "<div>\n",
       "<style scoped>\n",
       "    .dataframe tbody tr th:only-of-type {\n",
       "        vertical-align: middle;\n",
       "    }\n",
       "\n",
       "    .dataframe tbody tr th {\n",
       "        vertical-align: top;\n",
       "    }\n",
       "\n",
       "    .dataframe thead th {\n",
       "        text-align: right;\n",
       "    }\n",
       "</style>\n",
       "<table border=\"1\" class=\"dataframe\">\n",
       "  <thead>\n",
       "    <tr style=\"text-align: right;\">\n",
       "      <th></th>\n",
       "      <th>No. of Clusters</th>\n",
       "      <th>SSE</th>\n",
       "    </tr>\n",
       "  </thead>\n",
       "  <tbody>\n",
       "    <tr>\n",
       "      <th>9</th>\n",
       "      <td>10</td>\n",
       "      <td>4.410620e-26</td>\n",
       "    </tr>\n",
       "  </tbody>\n",
       "</table>\n",
       "</div>"
      ],
      "text/plain": [
       "   No. of Clusters           SSE\n",
       "9               10  4.410620e-26"
      ]
     },
     "execution_count": 111,
     "metadata": {},
     "output_type": "execute_result"
    }
   ],
   "source": [
    "Error_km[Error_km.SSE == Error_km.SSE.min()]"
   ]
  },
  {
   "cell_type": "code",
   "execution_count": 112,
   "id": "dce53e79",
   "metadata": {},
   "outputs": [
    {
     "data": {
      "text/plain": [
       "[<matplotlib.lines.Line2D at 0x20d281aad00>,\n",
       " <matplotlib.lines.Line2D at 0x20d281aadc0>]"
      ]
     },
     "execution_count": 112,
     "metadata": {},
     "output_type": "execute_result"
    },
    {
     "data": {
      "image/png": "[encoded data removed]",
      "text/plain": [
       "<Figure size 720x504 with 1 Axes>"
      ]
     },
     "metadata": {},
     "output_type": "display_data"
    }
   ],
   "source": [
    "plt.figure(figsize=(10,7))\n",
    "plt.plot(Error_km.iloc[:43,:],marker='o',color='r')"
   ]
  },
  {
   "cell_type": "code",
   "execution_count": 113,
   "id": "b52b4f94",
   "metadata": {},
   "outputs": [],
   "source": [
    "from yellowbrick.cluster import KElbowVisualizer"
   ]
  },
  {
   "cell_type": "code",
   "execution_count": 114,
   "id": "9fda726c",
   "metadata": {
    "scrolled": true
   },
   "outputs": [
    {
     "name": "stderr",
     "output_type": "stream",
     "text": [
      "D:\\Siddhesh\\Installers\\Installed\\Anaconda\\lib\\site-packages\\yellowbrick\\cluster\\elbow.py:339: ConvergenceWarning: Number of distinct clusters (10) found smaller than n_clusters (11). Possibly due to duplicate points in X.\n",
      "  self.estimator.fit(X, **kwargs)\n",
      "D:\\Siddhesh\\Installers\\Installed\\Anaconda\\lib\\site-packages\\yellowbrick\\cluster\\elbow.py:339: ConvergenceWarning: Number of distinct clusters (10) found smaller than n_clusters (12). Possibly due to duplicate points in X.\n",
      "  self.estimator.fit(X, **kwargs)\n",
      "D:\\Siddhesh\\Installers\\Installed\\Anaconda\\lib\\site-packages\\yellowbrick\\cluster\\elbow.py:339: ConvergenceWarning: Number of distinct clusters (10) found smaller than n_clusters (13). Possibly due to duplicate points in X.\n",
      "  self.estimator.fit(X, **kwargs)\n",
      "D:\\Siddhesh\\Installers\\Installed\\Anaconda\\lib\\site-packages\\yellowbrick\\cluster\\elbow.py:339: ConvergenceWarning: Number of distinct clusters (10) found smaller than n_clusters (14). Possibly due to duplicate points in X.\n",
      "  self.estimator.fit(X, **kwargs)\n",
      "D:\\Siddhesh\\Installers\\Installed\\Anaconda\\lib\\site-packages\\yellowbrick\\cluster\\elbow.py:339: ConvergenceWarning: Number of distinct clusters (10) found smaller than n_clusters (15). Possibly due to duplicate points in X.\n",
      "  self.estimator.fit(X, **kwargs)\n",
      "D:\\Siddhesh\\Installers\\Installed\\Anaconda\\lib\\site-packages\\yellowbrick\\cluster\\elbow.py:339: ConvergenceWarning: Number of distinct clusters (10) found smaller than n_clusters (16). Possibly due to duplicate points in X.\n",
      "  self.estimator.fit(X, **kwargs)\n",
      "D:\\Siddhesh\\Installers\\Installed\\Anaconda\\lib\\site-packages\\yellowbrick\\cluster\\elbow.py:339: ConvergenceWarning: Number of distinct clusters (10) found smaller than n_clusters (17). Possibly due to duplicate points in X.\n",
      "  self.estimator.fit(X, **kwargs)\n",
      "D:\\Siddhesh\\Installers\\Installed\\Anaconda\\lib\\site-packages\\yellowbrick\\cluster\\elbow.py:339: ConvergenceWarning: Number of distinct clusters (10) found smaller than n_clusters (18). Possibly due to duplicate points in X.\n",
      "  self.estimator.fit(X, **kwargs)\n",
      "D:\\Siddhesh\\Installers\\Installed\\Anaconda\\lib\\site-packages\\yellowbrick\\cluster\\elbow.py:339: ConvergenceWarning: Number of distinct clusters (10) found smaller than n_clusters (19). Possibly due to duplicate points in X.\n",
      "  self.estimator.fit(X, **kwargs)\n",
      "D:\\Siddhesh\\Installers\\Installed\\Anaconda\\lib\\site-packages\\yellowbrick\\cluster\\elbow.py:339: ConvergenceWarning: Number of distinct clusters (10) found smaller than n_clusters (20). Possibly due to duplicate points in X.\n",
      "  self.estimator.fit(X, **kwargs)\n",
      "D:\\Siddhesh\\Installers\\Installed\\Anaconda\\lib\\site-packages\\yellowbrick\\cluster\\elbow.py:339: ConvergenceWarning: Number of distinct clusters (10) found smaller than n_clusters (21). Possibly due to duplicate points in X.\n",
      "  self.estimator.fit(X, **kwargs)\n",
      "D:\\Siddhesh\\Installers\\Installed\\Anaconda\\lib\\site-packages\\yellowbrick\\cluster\\elbow.py:339: ConvergenceWarning: Number of distinct clusters (10) found smaller than n_clusters (22). Possibly due to duplicate points in X.\n",
      "  self.estimator.fit(X, **kwargs)\n",
      "D:\\Siddhesh\\Installers\\Installed\\Anaconda\\lib\\site-packages\\yellowbrick\\cluster\\elbow.py:339: ConvergenceWarning: Number of distinct clusters (10) found smaller than n_clusters (23). Possibly due to duplicate points in X.\n",
      "  self.estimator.fit(X, **kwargs)\n",
      "D:\\Siddhesh\\Installers\\Installed\\Anaconda\\lib\\site-packages\\yellowbrick\\cluster\\elbow.py:339: ConvergenceWarning: Number of distinct clusters (10) found smaller than n_clusters (24). Possibly due to duplicate points in X.\n",
      "  self.estimator.fit(X, **kwargs)\n",
      "D:\\Siddhesh\\Installers\\Installed\\Anaconda\\lib\\site-packages\\yellowbrick\\cluster\\elbow.py:339: ConvergenceWarning: Number of distinct clusters (10) found smaller than n_clusters (25). Possibly due to duplicate points in X.\n",
      "  self.estimator.fit(X, **kwargs)\n",
      "D:\\Siddhesh\\Installers\\Installed\\Anaconda\\lib\\site-packages\\yellowbrick\\cluster\\elbow.py:339: ConvergenceWarning: Number of distinct clusters (10) found smaller than n_clusters (26). Possibly due to duplicate points in X.\n",
      "  self.estimator.fit(X, **kwargs)\n",
      "D:\\Siddhesh\\Installers\\Installed\\Anaconda\\lib\\site-packages\\yellowbrick\\cluster\\elbow.py:339: ConvergenceWarning: Number of distinct clusters (10) found smaller than n_clusters (27). Possibly due to duplicate points in X.\n",
      "  self.estimator.fit(X, **kwargs)\n",
      "D:\\Siddhesh\\Installers\\Installed\\Anaconda\\lib\\site-packages\\yellowbrick\\cluster\\elbow.py:339: ConvergenceWarning: Number of distinct clusters (10) found smaller than n_clusters (28). Possibly due to duplicate points in X.\n",
      "  self.estimator.fit(X, **kwargs)\n",
      "D:\\Siddhesh\\Installers\\Installed\\Anaconda\\lib\\site-packages\\yellowbrick\\cluster\\elbow.py:339: ConvergenceWarning: Number of distinct clusters (10) found smaller than n_clusters (29). Possibly due to duplicate points in X.\n",
      "  self.estimator.fit(X, **kwargs)\n",
      "D:\\Siddhesh\\Installers\\Installed\\Anaconda\\lib\\site-packages\\yellowbrick\\cluster\\elbow.py:339: ConvergenceWarning: Number of distinct clusters (10) found smaller than n_clusters (30). Possibly due to duplicate points in X.\n",
      "  self.estimator.fit(X, **kwargs)\n",
      "D:\\Siddhesh\\Installers\\Installed\\Anaconda\\lib\\site-packages\\yellowbrick\\cluster\\elbow.py:339: ConvergenceWarning: Number of distinct clusters (10) found smaller than n_clusters (31). Possibly due to duplicate points in X.\n",
      "  self.estimator.fit(X, **kwargs)\n",
      "D:\\Siddhesh\\Installers\\Installed\\Anaconda\\lib\\site-packages\\yellowbrick\\cluster\\elbow.py:339: ConvergenceWarning: Number of distinct clusters (10) found smaller than n_clusters (32). Possibly due to duplicate points in X.\n",
      "  self.estimator.fit(X, **kwargs)\n",
      "D:\\Siddhesh\\Installers\\Installed\\Anaconda\\lib\\site-packages\\yellowbrick\\cluster\\elbow.py:339: ConvergenceWarning: Number of distinct clusters (10) found smaller than n_clusters (33). Possibly due to duplicate points in X.\n",
      "  self.estimator.fit(X, **kwargs)\n",
      "D:\\Siddhesh\\Installers\\Installed\\Anaconda\\lib\\site-packages\\yellowbrick\\cluster\\elbow.py:339: ConvergenceWarning: Number of distinct clusters (10) found smaller than n_clusters (34). Possibly due to duplicate points in X.\n",
      "  self.estimator.fit(X, **kwargs)\n",
      "D:\\Siddhesh\\Installers\\Installed\\Anaconda\\lib\\site-packages\\yellowbrick\\cluster\\elbow.py:339: ConvergenceWarning: Number of distinct clusters (10) found smaller than n_clusters (35). Possibly due to duplicate points in X.\n",
      "  self.estimator.fit(X, **kwargs)\n",
      "D:\\Siddhesh\\Installers\\Installed\\Anaconda\\lib\\site-packages\\yellowbrick\\cluster\\elbow.py:339: ConvergenceWarning: Number of distinct clusters (10) found smaller than n_clusters (36). Possibly due to duplicate points in X.\n",
      "  self.estimator.fit(X, **kwargs)\n",
      "D:\\Siddhesh\\Installers\\Installed\\Anaconda\\lib\\site-packages\\yellowbrick\\cluster\\elbow.py:339: ConvergenceWarning: Number of distinct clusters (10) found smaller than n_clusters (37). Possibly due to duplicate points in X.\n",
      "  self.estimator.fit(X, **kwargs)\n",
      "D:\\Siddhesh\\Installers\\Installed\\Anaconda\\lib\\site-packages\\yellowbrick\\cluster\\elbow.py:339: ConvergenceWarning: Number of distinct clusters (10) found smaller than n_clusters (38). Possibly due to duplicate points in X.\n",
      "  self.estimator.fit(X, **kwargs)\n",
      "D:\\Siddhesh\\Installers\\Installed\\Anaconda\\lib\\site-packages\\yellowbrick\\cluster\\elbow.py:339: ConvergenceWarning: Number of distinct clusters (10) found smaller than n_clusters (39). Possibly due to duplicate points in X.\n",
      "  self.estimator.fit(X, **kwargs)\n",
      "D:\\Siddhesh\\Installers\\Installed\\Anaconda\\lib\\site-packages\\yellowbrick\\cluster\\elbow.py:339: ConvergenceWarning: Number of distinct clusters (10) found smaller than n_clusters (40). Possibly due to duplicate points in X.\n",
      "  self.estimator.fit(X, **kwargs)\n",
      "D:\\Siddhesh\\Installers\\Installed\\Anaconda\\lib\\site-packages\\yellowbrick\\cluster\\elbow.py:339: ConvergenceWarning: Number of distinct clusters (10) found smaller than n_clusters (41). Possibly due to duplicate points in X.\n",
      "  self.estimator.fit(X, **kwargs)\n",
      "D:\\Siddhesh\\Installers\\Installed\\Anaconda\\lib\\site-packages\\yellowbrick\\cluster\\elbow.py:339: ConvergenceWarning: Number of distinct clusters (10) found smaller than n_clusters (42). Possibly due to duplicate points in X.\n",
      "  self.estimator.fit(X, **kwargs)\n",
      "D:\\Siddhesh\\Installers\\Installed\\Anaconda\\lib\\site-packages\\yellowbrick\\cluster\\elbow.py:339: ConvergenceWarning: Number of distinct clusters (10) found smaller than n_clusters (43). Possibly due to duplicate points in X.\n",
      "  self.estimator.fit(X, **kwargs)\n"
     ]
    },
    {
     "name": "stderr",
     "output_type": "stream",
     "text": [
      "D:\\Siddhesh\\Installers\\Installed\\Anaconda\\lib\\site-packages\\yellowbrick\\cluster\\elbow.py:339: ConvergenceWarning: Number of distinct clusters (10) found smaller than n_clusters (44). Possibly due to duplicate points in X.\n",
      "  self.estimator.fit(X, **kwargs)\n"
     ]
    },
    {
     "data": {
      "image/png": "[encoded data removed]",
      "text/plain": [
       "<Figure size 720x576 with 2 Axes>"
      ]
     },
     "metadata": {},
     "output_type": "display_data"
    }
   ],
   "source": [
    "plt.figure(figsize=(10,8))\n",
    "model = KMeans()\n",
    "visualiser = KElbowVisualizer(estimator=model,k=range(1,45))\n",
    "visualiser.fit(RFMScore)\n",
    "visualiser.show()\n",
    "plt.show()"
   ]
  },
  {
   "cell_type": "code",
   "execution_count": 115,
   "id": "8bac5239",
   "metadata": {
    "scrolled": true
   },
   "outputs": [
    {
     "data": {
      "text/html": [
       "<div>\n",
       "<style scoped>\n",
       "    .dataframe tbody tr th:only-of-type {\n",
       "        vertical-align: middle;\n",
       "    }\n",
       "\n",
       "    .dataframe tbody tr th {\n",
       "        vertical-align: top;\n",
       "    }\n",
       "\n",
       "    .dataframe thead th {\n",
       "        text-align: right;\n",
       "    }\n",
       "</style>\n",
       "<table border=\"1\" class=\"dataframe\">\n",
       "  <thead>\n",
       "    <tr style=\"text-align: right;\">\n",
       "      <th></th>\n",
       "      <th>No. of Clusters</th>\n",
       "      <th>SSE</th>\n",
       "    </tr>\n",
       "  </thead>\n",
       "  <tbody>\n",
       "    <tr>\n",
       "      <th>9</th>\n",
       "      <td>10</td>\n",
       "      <td>4.410620e-26</td>\n",
       "    </tr>\n",
       "  </tbody>\n",
       "</table>\n",
       "</div>"
      ],
      "text/plain": [
       "   No. of Clusters           SSE\n",
       "9               10  4.410620e-26"
      ]
     },
     "execution_count": 115,
     "metadata": {},
     "output_type": "execute_result"
    }
   ],
   "source": [
    "Error_km[Error_km.SSE==Error_km.SSE.min()]"
   ]
  },
  {
   "cell_type": "markdown",
   "id": "1bf5cff8",
   "metadata": {},
   "source": [
    "##### We obtained lowest sum of squared error at 10 nos. of clusters. Exact 10 i.e. total number of unique combinations for summing RFM Score."
   ]
  },
  {
   "cell_type": "code",
   "execution_count": 129,
   "id": "39326059",
   "metadata": {},
   "outputs": [
    {
     "data": {
      "text/plain": [
       "10"
      ]
     },
     "execution_count": 129,
     "metadata": {},
     "output_type": "execute_result"
    }
   ],
   "source": [
    "df2.RFM_Sum.nunique()"
   ]
  },
  {
   "cell_type": "code",
   "execution_count": 130,
   "id": "1b24bdab",
   "metadata": {},
   "outputs": [
    {
     "data": {
      "text/plain": [
       "KMeans(n_clusters=4, random_state=42)"
      ]
     },
     "execution_count": 130,
     "metadata": {},
     "output_type": "execute_result"
    }
   ],
   "source": [
    "km_final = KMeans(n_clusters=4,max_iter=300,random_state=42)\n",
    "km_final.fit(RFMScore)"
   ]
  },
  {
   "cell_type": "code",
   "execution_count": 131,
   "id": "261bc4f2",
   "metadata": {},
   "outputs": [
    {
     "data": {
      "text/plain": [
       "array([0, 2, 2, ..., 1, 3, 3])"
      ]
     },
     "execution_count": 131,
     "metadata": {},
     "output_type": "execute_result"
    }
   ],
   "source": [
    "km_final.labels_"
   ]
  },
  {
   "cell_type": "code",
   "execution_count": 132,
   "id": "de889e5b",
   "metadata": {},
   "outputs": [
    {
     "data": {
      "text/html": [
       "<div>\n",
       "<style scoped>\n",
       "    .dataframe tbody tr th:only-of-type {\n",
       "        vertical-align: middle;\n",
       "    }\n",
       "\n",
       "    .dataframe tbody tr th {\n",
       "        vertical-align: top;\n",
       "    }\n",
       "\n",
       "    .dataframe thead th {\n",
       "        text-align: right;\n",
       "    }\n",
       "</style>\n",
       "<table border=\"1\" class=\"dataframe\">\n",
       "  <thead>\n",
       "    <tr style=\"text-align: right;\">\n",
       "      <th></th>\n",
       "      <th>CustomerID</th>\n",
       "      <th>Monetary</th>\n",
       "      <th>Recency</th>\n",
       "      <th>Frequency</th>\n",
       "      <th>R</th>\n",
       "      <th>M</th>\n",
       "      <th>F</th>\n",
       "      <th>RFM_Sum</th>\n",
       "      <th>LoyaltyLabel</th>\n",
       "      <th>RFM_ID</th>\n",
       "      <th>Customer_Segment</th>\n",
       "      <th>Cluster</th>\n",
       "    </tr>\n",
       "  </thead>\n",
       "  <tbody>\n",
       "    <tr>\n",
       "      <th>0</th>\n",
       "      <td>17850.0</td>\n",
       "      <td>5391.21</td>\n",
       "      <td>302</td>\n",
       "      <td>35</td>\n",
       "      <td>1</td>\n",
       "      <td>2</td>\n",
       "      <td>3</td>\n",
       "      <td>6</td>\n",
       "      <td>Silver</td>\n",
       "      <td>132</td>\n",
       "      <td>Out of Town</td>\n",
       "      <td>0</td>\n",
       "    </tr>\n",
       "    <tr>\n",
       "      <th>1</th>\n",
       "      <td>13047.0</td>\n",
       "      <td>3237.54</td>\n",
       "      <td>31</td>\n",
       "      <td>18</td>\n",
       "      <td>4</td>\n",
       "      <td>2</td>\n",
       "      <td>2</td>\n",
       "      <td>8</td>\n",
       "      <td>Platinum</td>\n",
       "      <td>422</td>\n",
       "      <td>New</td>\n",
       "      <td>2</td>\n",
       "    </tr>\n",
       "    <tr>\n",
       "      <th>2</th>\n",
       "      <td>12583.0</td>\n",
       "      <td>7281.38</td>\n",
       "      <td>2</td>\n",
       "      <td>18</td>\n",
       "      <td>4</td>\n",
       "      <td>2</td>\n",
       "      <td>2</td>\n",
       "      <td>8</td>\n",
       "      <td>Platinum</td>\n",
       "      <td>422</td>\n",
       "      <td>New</td>\n",
       "      <td>2</td>\n",
       "    </tr>\n",
       "    <tr>\n",
       "      <th>3</th>\n",
       "      <td>13748.0</td>\n",
       "      <td>948.25</td>\n",
       "      <td>95</td>\n",
       "      <td>5</td>\n",
       "      <td>3</td>\n",
       "      <td>1</td>\n",
       "      <td>1</td>\n",
       "      <td>5</td>\n",
       "      <td>Silver</td>\n",
       "      <td>311</td>\n",
       "      <td>Students</td>\n",
       "      <td>3</td>\n",
       "    </tr>\n",
       "    <tr>\n",
       "      <th>4</th>\n",
       "      <td>15100.0</td>\n",
       "      <td>876.00</td>\n",
       "      <td>330</td>\n",
       "      <td>6</td>\n",
       "      <td>1</td>\n",
       "      <td>1</td>\n",
       "      <td>1</td>\n",
       "      <td>3</td>\n",
       "      <td>Bronze</td>\n",
       "      <td>111</td>\n",
       "      <td>Inactive or Passerby</td>\n",
       "      <td>1</td>\n",
       "    </tr>\n",
       "    <tr>\n",
       "      <th>...</th>\n",
       "      <td>...</td>\n",
       "      <td>...</td>\n",
       "      <td>...</td>\n",
       "      <td>...</td>\n",
       "      <td>...</td>\n",
       "      <td>...</td>\n",
       "      <td>...</td>\n",
       "      <td>...</td>\n",
       "      <td>...</td>\n",
       "      <td>...</td>\n",
       "      <td>...</td>\n",
       "      <td>...</td>\n",
       "    </tr>\n",
       "    <tr>\n",
       "      <th>4367</th>\n",
       "      <td>15369.0</td>\n",
       "      <td>0.00</td>\n",
       "      <td>144</td>\n",
       "      <td>1</td>\n",
       "      <td>2</td>\n",
       "      <td>1</td>\n",
       "      <td>1</td>\n",
       "      <td>4</td>\n",
       "      <td>Bronze</td>\n",
       "      <td>211</td>\n",
       "      <td>Students</td>\n",
       "      <td>1</td>\n",
       "    </tr>\n",
       "    <tr>\n",
       "      <th>4368</th>\n",
       "      <td>13154.0</td>\n",
       "      <td>0.00</td>\n",
       "      <td>144</td>\n",
       "      <td>1</td>\n",
       "      <td>2</td>\n",
       "      <td>1</td>\n",
       "      <td>1</td>\n",
       "      <td>4</td>\n",
       "      <td>Bronze</td>\n",
       "      <td>211</td>\n",
       "      <td>Students</td>\n",
       "      <td>1</td>\n",
       "    </tr>\n",
       "    <tr>\n",
       "      <th>4369</th>\n",
       "      <td>17065.0</td>\n",
       "      <td>0.00</td>\n",
       "      <td>143</td>\n",
       "      <td>1</td>\n",
       "      <td>2</td>\n",
       "      <td>1</td>\n",
       "      <td>1</td>\n",
       "      <td>4</td>\n",
       "      <td>Bronze</td>\n",
       "      <td>211</td>\n",
       "      <td>Students</td>\n",
       "      <td>1</td>\n",
       "    </tr>\n",
       "    <tr>\n",
       "      <th>4370</th>\n",
       "      <td>16428.0</td>\n",
       "      <td>0.00</td>\n",
       "      <td>81</td>\n",
       "      <td>1</td>\n",
       "      <td>3</td>\n",
       "      <td>1</td>\n",
       "      <td>1</td>\n",
       "      <td>5</td>\n",
       "      <td>Silver</td>\n",
       "      <td>311</td>\n",
       "      <td>Students</td>\n",
       "      <td>3</td>\n",
       "    </tr>\n",
       "    <tr>\n",
       "      <th>4371</th>\n",
       "      <td>15728.0</td>\n",
       "      <td>0.00</td>\n",
       "      <td>49</td>\n",
       "      <td>1</td>\n",
       "      <td>3</td>\n",
       "      <td>1</td>\n",
       "      <td>1</td>\n",
       "      <td>5</td>\n",
       "      <td>Silver</td>\n",
       "      <td>311</td>\n",
       "      <td>Students</td>\n",
       "      <td>3</td>\n",
       "    </tr>\n",
       "  </tbody>\n",
       "</table>\n",
       "<p>4372 rows × 12 columns</p>\n",
       "</div>"
      ],
      "text/plain": [
       "      CustomerID  Monetary  Recency  Frequency  R  M  F  RFM_Sum LoyaltyLabel  \\\n",
       "0        17850.0   5391.21      302         35  1  2  3        6       Silver   \n",
       "1        13047.0   3237.54       31         18  4  2  2        8     Platinum   \n",
       "2        12583.0   7281.38        2         18  4  2  2        8     Platinum   \n",
       "3        13748.0    948.25       95          5  3  1  1        5       Silver   \n",
       "4        15100.0    876.00      330          6  1  1  1        3       Bronze   \n",
       "...          ...       ...      ...        ... .. .. ..      ...          ...   \n",
       "4367     15369.0      0.00      144          1  2  1  1        4       Bronze   \n",
       "4368     13154.0      0.00      144          1  2  1  1        4       Bronze   \n",
       "4369     17065.0      0.00      143          1  2  1  1        4       Bronze   \n",
       "4370     16428.0      0.00       81          1  3  1  1        5       Silver   \n",
       "4371     15728.0      0.00       49          1  3  1  1        5       Silver   \n",
       "\n",
       "     RFM_ID      Customer_Segment  Cluster  \n",
       "0       132           Out of Town        0  \n",
       "1       422                   New        2  \n",
       "2       422                   New        2  \n",
       "3       311              Students        3  \n",
       "4       111  Inactive or Passerby        1  \n",
       "...     ...                   ...      ...  \n",
       "4367    211              Students        1  \n",
       "4368    211              Students        1  \n",
       "4369    211              Students        1  \n",
       "4370    311              Students        3  \n",
       "4371    311              Students        3  \n",
       "\n",
       "[4372 rows x 12 columns]"
      ]
     },
     "execution_count": 132,
     "metadata": {},
     "output_type": "execute_result"
    }
   ],
   "source": [
    "df2['Cluster'] = km_final.labels_\n",
    "df2"
   ]
  },
  {
   "cell_type": "code",
   "execution_count": 133,
   "id": "4ff8f6b2",
   "metadata": {},
   "outputs": [
    {
     "data": {
      "text/plain": [
       "0    1780\n",
       "1    1250\n",
       "3     713\n",
       "2     629\n",
       "Name: Cluster, dtype: int64"
      ]
     },
     "execution_count": 133,
     "metadata": {},
     "output_type": "execute_result"
    }
   ],
   "source": [
    "df2.Cluster.value_counts()"
   ]
  },
  {
   "cell_type": "code",
   "execution_count": 134,
   "id": "f48745dc",
   "metadata": {},
   "outputs": [
    {
     "data": {
      "text/plain": [
       "<AxesSubplot:xlabel='Recency', ylabel='RFM_Sum'>"
      ]
     },
     "execution_count": 134,
     "metadata": {},
     "output_type": "execute_result"
    },
    {
     "data": {
      "image/png": "[encoded data removed]",
      "text/plain": [
       "<Figure size 576x396 with 1 Axes>"
      ]
     },
     "metadata": {},
     "output_type": "display_data"
    }
   ],
   "source": [
    "sns.scatterplot(data=df2,x='Recency',y='RFM_Sum',hue='Cluster',palette='colorblind')"
   ]
  },
  {
   "cell_type": "code",
   "execution_count": 135,
   "id": "a1a25911",
   "metadata": {
    "scrolled": false
   },
   "outputs": [
    {
     "data": {
      "text/plain": [
       "<AxesSubplot:xlabel='Frequency', ylabel='RFM_Sum'>"
      ]
     },
     "execution_count": 135,
     "metadata": {},
     "output_type": "execute_result"
    },
    {
     "data": {
      "image/png": "[encoded data removed]",
      "text/plain": [
       "<Figure size 576x396 with 1 Axes>"
      ]
     },
     "metadata": {},
     "output_type": "display_data"
    }
   ],
   "source": [
    "sns.scatterplot(data=df2,x='Frequency',y='RFM_Sum',hue='Cluster',palette='colorblind')"
   ]
  },
  {
   "cell_type": "markdown",
   "id": "70e1e6fc",
   "metadata": {},
   "source": [
    "### Evaluating the Cluster"
   ]
  },
  {
   "cell_type": "code",
   "execution_count": 136,
   "id": "c71bea0f",
   "metadata": {},
   "outputs": [
    {
     "data": {
      "text/plain": [
       "array([0, 2, 2, ..., 1, 3, 3])"
      ]
     },
     "execution_count": 136,
     "metadata": {},
     "output_type": "execute_result"
    }
   ],
   "source": [
    "km_final.labels_"
   ]
  },
  {
   "cell_type": "code",
   "execution_count": 137,
   "id": "2e695257",
   "metadata": {},
   "outputs": [
    {
     "data": {
      "text/plain": [
       "0    1780\n",
       "1    1250\n",
       "3     713\n",
       "2     629\n",
       "dtype: int64"
      ]
     },
     "execution_count": 137,
     "metadata": {},
     "output_type": "execute_result"
    }
   ],
   "source": [
    "pd.DataFrame(km_final.labels_).value_counts()"
   ]
  },
  {
   "cell_type": "code",
   "execution_count": 138,
   "id": "724e108e",
   "metadata": {},
   "outputs": [
    {
     "data": {
      "text/plain": [
       "RFM_Sum\n",
       "6          1229\n",
       "5           713\n",
       "4           640\n",
       "3           610\n",
       "7           551\n",
       "8           519\n",
       "9            60\n",
       "10           36\n",
       "11           13\n",
       "12            1\n",
       "dtype: int64"
      ]
     },
     "execution_count": 138,
     "metadata": {},
     "output_type": "execute_result"
    }
   ],
   "source": [
    "RFMScore.value_counts()"
   ]
  },
  {
   "cell_type": "code",
   "execution_count": 139,
   "id": "258d740b",
   "metadata": {},
   "outputs": [
    {
     "data": {
      "text/plain": [
       "0.7074322500271227"
      ]
     },
     "execution_count": 139,
     "metadata": {},
     "output_type": "execute_result"
    }
   ],
   "source": [
    "from sklearn.metrics import silhouette_score, silhouette_samples\n",
    "silhouette_score(RFMScore,km_final.labels_)"
   ]
  },
  {
   "cell_type": "markdown",
   "id": "0f7ac472",
   "metadata": {},
   "source": [
    "We have obtained a Silhouette score greater than 0.5.\n",
    "Thus, our four clusters are good enough. We can ofcourse improve by creating total 6 clusters.\n",
    "Since our Silhouette score will increase to 95%, as seen below."
   ]
  },
  {
   "cell_type": "code",
   "execution_count": 140,
   "id": "f267bdb5",
   "metadata": {},
   "outputs": [
    {
     "data": {
      "text/plain": [
       "array([2, 0, 0, ..., 1, 3, 3])"
      ]
     },
     "execution_count": 140,
     "metadata": {},
     "output_type": "execute_result"
    }
   ],
   "source": [
    "km_5 = KMeans(n_clusters=6,random_state=42,max_iter=108)\n",
    "km_5.fit(RFMScore)\n",
    "km_5.labels_"
   ]
  },
  {
   "cell_type": "code",
   "execution_count": 141,
   "id": "a871fd4d",
   "metadata": {},
   "outputs": [
    {
     "data": {
      "text/plain": [
       "0.9534750307399141"
      ]
     },
     "execution_count": 141,
     "metadata": {},
     "output_type": "execute_result"
    }
   ],
   "source": [
    "silhouette_score(RFMScore,km_5.labels_)"
   ]
  },
  {
   "cell_type": "markdown",
   "id": "7495ae52",
   "metadata": {},
   "source": [
    " "
   ]
  },
  {
   "cell_type": "markdown",
   "id": "f9b2b9fd",
   "metadata": {},
   "source": [
    "### Goal 2:\n",
    "#### Predict the sales trend \n",
    "1. when is the sales highest (month/season/day)\n",
    "2. when is the rush hour?\n",
    "3. when the rush as per timing (morning,afternoon,evening )"
   ]
  },
  {
   "cell_type": "markdown",
   "id": "046fb398",
   "metadata": {},
   "source": [
    " "
   ]
  },
  {
   "cell_type": "code",
   "execution_count": 142,
   "id": "c4bc95a2",
   "metadata": {},
   "outputs": [],
   "source": [
    "df3 = df1.copy()"
   ]
  },
  {
   "cell_type": "code",
   "execution_count": 143,
   "id": "bdc6eabb",
   "metadata": {},
   "outputs": [],
   "source": [
    "df1['Month'] = df1.InvoiceDate.dt.month\n",
    "df1['Day'] = df1.InvoiceDate.dt.day_name() # Creating columns of Month and Day"
   ]
  },
  {
   "cell_type": "code",
   "execution_count": 144,
   "id": "6004892c",
   "metadata": {},
   "outputs": [
    {
     "data": {
      "text/html": [
       "<div>\n",
       "<style scoped>\n",
       "    .dataframe tbody tr th:only-of-type {\n",
       "        vertical-align: middle;\n",
       "    }\n",
       "\n",
       "    .dataframe tbody tr th {\n",
       "        vertical-align: top;\n",
       "    }\n",
       "\n",
       "    .dataframe thead th {\n",
       "        text-align: right;\n",
       "    }\n",
       "</style>\n",
       "<table border=\"1\" class=\"dataframe\">\n",
       "  <thead>\n",
       "    <tr style=\"text-align: right;\">\n",
       "      <th></th>\n",
       "      <th>InvoiceNo</th>\n",
       "      <th>Total_Amt</th>\n",
       "      <th>InvoiceDate</th>\n",
       "      <th>CustomerID</th>\n",
       "      <th>Month</th>\n",
       "      <th>Day</th>\n",
       "    </tr>\n",
       "  </thead>\n",
       "  <tbody>\n",
       "    <tr>\n",
       "      <th>0</th>\n",
       "      <td>536365</td>\n",
       "      <td>139.12</td>\n",
       "      <td>2010-12-01 08:26:00</td>\n",
       "      <td>17850.0</td>\n",
       "      <td>12</td>\n",
       "      <td>Wednesday</td>\n",
       "    </tr>\n",
       "    <tr>\n",
       "      <th>1</th>\n",
       "      <td>536366</td>\n",
       "      <td>22.20</td>\n",
       "      <td>2010-12-01 08:28:00</td>\n",
       "      <td>17850.0</td>\n",
       "      <td>12</td>\n",
       "      <td>Wednesday</td>\n",
       "    </tr>\n",
       "    <tr>\n",
       "      <th>2</th>\n",
       "      <td>536367</td>\n",
       "      <td>278.73</td>\n",
       "      <td>2010-12-01 08:34:00</td>\n",
       "      <td>13047.0</td>\n",
       "      <td>12</td>\n",
       "      <td>Wednesday</td>\n",
       "    </tr>\n",
       "    <tr>\n",
       "      <th>3</th>\n",
       "      <td>536368</td>\n",
       "      <td>70.05</td>\n",
       "      <td>2010-12-01 08:34:00</td>\n",
       "      <td>13047.0</td>\n",
       "      <td>12</td>\n",
       "      <td>Wednesday</td>\n",
       "    </tr>\n",
       "    <tr>\n",
       "      <th>4</th>\n",
       "      <td>536369</td>\n",
       "      <td>17.85</td>\n",
       "      <td>2010-12-01 08:35:00</td>\n",
       "      <td>13047.0</td>\n",
       "      <td>12</td>\n",
       "      <td>Wednesday</td>\n",
       "    </tr>\n",
       "    <tr>\n",
       "      <th>...</th>\n",
       "      <td>...</td>\n",
       "      <td>...</td>\n",
       "      <td>...</td>\n",
       "      <td>...</td>\n",
       "      <td>...</td>\n",
       "      <td>...</td>\n",
       "    </tr>\n",
       "    <tr>\n",
       "      <th>22185</th>\n",
       "      <td>C581484</td>\n",
       "      <td>0.00</td>\n",
       "      <td>2011-12-09 09:27:00</td>\n",
       "      <td>16446.0</td>\n",
       "      <td>12</td>\n",
       "      <td>Friday</td>\n",
       "    </tr>\n",
       "    <tr>\n",
       "      <th>22186</th>\n",
       "      <td>C581490</td>\n",
       "      <td>0.00</td>\n",
       "      <td>2011-12-09 09:57:00</td>\n",
       "      <td>14397.0</td>\n",
       "      <td>12</td>\n",
       "      <td>Friday</td>\n",
       "    </tr>\n",
       "    <tr>\n",
       "      <th>22187</th>\n",
       "      <td>C581499</td>\n",
       "      <td>0.00</td>\n",
       "      <td>2011-12-09 10:28:00</td>\n",
       "      <td>15498.0</td>\n",
       "      <td>12</td>\n",
       "      <td>Friday</td>\n",
       "    </tr>\n",
       "    <tr>\n",
       "      <th>22188</th>\n",
       "      <td>C581568</td>\n",
       "      <td>0.00</td>\n",
       "      <td>2011-12-09 11:57:00</td>\n",
       "      <td>15311.0</td>\n",
       "      <td>12</td>\n",
       "      <td>Friday</td>\n",
       "    </tr>\n",
       "    <tr>\n",
       "      <th>22189</th>\n",
       "      <td>C581569</td>\n",
       "      <td>0.00</td>\n",
       "      <td>2011-12-09 11:58:00</td>\n",
       "      <td>17315.0</td>\n",
       "      <td>12</td>\n",
       "      <td>Friday</td>\n",
       "    </tr>\n",
       "  </tbody>\n",
       "</table>\n",
       "<p>22190 rows × 6 columns</p>\n",
       "</div>"
      ],
      "text/plain": [
       "      InvoiceNo  Total_Amt         InvoiceDate  CustomerID  Month        Day\n",
       "0        536365     139.12 2010-12-01 08:26:00     17850.0     12  Wednesday\n",
       "1        536366      22.20 2010-12-01 08:28:00     17850.0     12  Wednesday\n",
       "2        536367     278.73 2010-12-01 08:34:00     13047.0     12  Wednesday\n",
       "3        536368      70.05 2010-12-01 08:34:00     13047.0     12  Wednesday\n",
       "4        536369      17.85 2010-12-01 08:35:00     13047.0     12  Wednesday\n",
       "...         ...        ...                 ...         ...    ...        ...\n",
       "22185   C581484       0.00 2011-12-09 09:27:00     16446.0     12     Friday\n",
       "22186   C581490       0.00 2011-12-09 09:57:00     14397.0     12     Friday\n",
       "22187   C581499       0.00 2011-12-09 10:28:00     15498.0     12     Friday\n",
       "22188   C581568       0.00 2011-12-09 11:57:00     15311.0     12     Friday\n",
       "22189   C581569       0.00 2011-12-09 11:58:00     17315.0     12     Friday\n",
       "\n",
       "[22190 rows x 6 columns]"
      ]
     },
     "execution_count": 144,
     "metadata": {},
     "output_type": "execute_result"
    }
   ],
   "source": [
    "df1"
   ]
  },
  {
   "cell_type": "code",
   "execution_count": 145,
   "id": "a3100437",
   "metadata": {},
   "outputs": [],
   "source": [
    "def season(x):\n",
    "    if x in [12,1,2]:\n",
    "        return 'Winter'\n",
    "    elif x in [3,4,5]:\n",
    "        return 'Spring'\n",
    "    elif x in [6,7,8]:\n",
    "        return 'Summer'\n",
    "    else:\n",
    "        return'Autumn'"
   ]
  },
  {
   "cell_type": "code",
   "execution_count": 146,
   "id": "c6866fb8",
   "metadata": {},
   "outputs": [],
   "source": [
    "df1['Season'] = df1.Month.apply(season) # Segregating seasons"
   ]
  },
  {
   "cell_type": "code",
   "execution_count": 147,
   "id": "53bd9c65",
   "metadata": {},
   "outputs": [
    {
     "data": {
      "text/html": [
       "<div>\n",
       "<style scoped>\n",
       "    .dataframe tbody tr th:only-of-type {\n",
       "        vertical-align: middle;\n",
       "    }\n",
       "\n",
       "    .dataframe tbody tr th {\n",
       "        vertical-align: top;\n",
       "    }\n",
       "\n",
       "    .dataframe thead th {\n",
       "        text-align: right;\n",
       "    }\n",
       "</style>\n",
       "<table border=\"1\" class=\"dataframe\">\n",
       "  <thead>\n",
       "    <tr style=\"text-align: right;\">\n",
       "      <th></th>\n",
       "      <th>InvoiceNo</th>\n",
       "      <th>Total_Amt</th>\n",
       "      <th>InvoiceDate</th>\n",
       "      <th>CustomerID</th>\n",
       "      <th>Month</th>\n",
       "      <th>Day</th>\n",
       "      <th>Season</th>\n",
       "    </tr>\n",
       "  </thead>\n",
       "  <tbody>\n",
       "    <tr>\n",
       "      <th>0</th>\n",
       "      <td>536365</td>\n",
       "      <td>139.12</td>\n",
       "      <td>2010-12-01 08:26:00</td>\n",
       "      <td>17850.0</td>\n",
       "      <td>12</td>\n",
       "      <td>Wednesday</td>\n",
       "      <td>Winter</td>\n",
       "    </tr>\n",
       "    <tr>\n",
       "      <th>1</th>\n",
       "      <td>536366</td>\n",
       "      <td>22.20</td>\n",
       "      <td>2010-12-01 08:28:00</td>\n",
       "      <td>17850.0</td>\n",
       "      <td>12</td>\n",
       "      <td>Wednesday</td>\n",
       "      <td>Winter</td>\n",
       "    </tr>\n",
       "    <tr>\n",
       "      <th>2</th>\n",
       "      <td>536367</td>\n",
       "      <td>278.73</td>\n",
       "      <td>2010-12-01 08:34:00</td>\n",
       "      <td>13047.0</td>\n",
       "      <td>12</td>\n",
       "      <td>Wednesday</td>\n",
       "      <td>Winter</td>\n",
       "    </tr>\n",
       "    <tr>\n",
       "      <th>3</th>\n",
       "      <td>536368</td>\n",
       "      <td>70.05</td>\n",
       "      <td>2010-12-01 08:34:00</td>\n",
       "      <td>13047.0</td>\n",
       "      <td>12</td>\n",
       "      <td>Wednesday</td>\n",
       "      <td>Winter</td>\n",
       "    </tr>\n",
       "    <tr>\n",
       "      <th>4</th>\n",
       "      <td>536369</td>\n",
       "      <td>17.85</td>\n",
       "      <td>2010-12-01 08:35:00</td>\n",
       "      <td>13047.0</td>\n",
       "      <td>12</td>\n",
       "      <td>Wednesday</td>\n",
       "      <td>Winter</td>\n",
       "    </tr>\n",
       "  </tbody>\n",
       "</table>\n",
       "</div>"
      ],
      "text/plain": [
       "  InvoiceNo  Total_Amt         InvoiceDate  CustomerID  Month        Day  \\\n",
       "0    536365     139.12 2010-12-01 08:26:00     17850.0     12  Wednesday   \n",
       "1    536366      22.20 2010-12-01 08:28:00     17850.0     12  Wednesday   \n",
       "2    536367     278.73 2010-12-01 08:34:00     13047.0     12  Wednesday   \n",
       "3    536368      70.05 2010-12-01 08:34:00     13047.0     12  Wednesday   \n",
       "4    536369      17.85 2010-12-01 08:35:00     13047.0     12  Wednesday   \n",
       "\n",
       "   Season  \n",
       "0  Winter  \n",
       "1  Winter  \n",
       "2  Winter  \n",
       "3  Winter  \n",
       "4  Winter  "
      ]
     },
     "execution_count": 147,
     "metadata": {},
     "output_type": "execute_result"
    }
   ],
   "source": [
    "df1.head()"
   ]
  },
  {
   "cell_type": "markdown",
   "id": "1a537de6",
   "metadata": {},
   "source": [
    "### When is the sales highest by: Day"
   ]
  },
  {
   "cell_type": "code",
   "execution_count": 148,
   "id": "77aa4357",
   "metadata": {},
   "outputs": [],
   "source": [
    "day_sales_trend = df1.groupby('Day').apply(lambda x: x['Total_Amt'].sum())"
   ]
  },
  {
   "cell_type": "code",
   "execution_count": 149,
   "id": "b42c0077",
   "metadata": {},
   "outputs": [
    {
     "data": {
      "text/plain": [
       "['Solarize_Light2',\n",
       " '_classic_test_patch',\n",
       " '_mpl-gallery',\n",
       " '_mpl-gallery-nogrid',\n",
       " 'bmh',\n",
       " 'classic',\n",
       " 'dark_background',\n",
       " 'fast',\n",
       " 'fivethirtyeight',\n",
       " 'ggplot',\n",
       " 'grayscale',\n",
       " 'seaborn',\n",
       " 'seaborn-bright',\n",
       " 'seaborn-colorblind',\n",
       " 'seaborn-dark',\n",
       " 'seaborn-dark-palette',\n",
       " 'seaborn-darkgrid',\n",
       " 'seaborn-deep',\n",
       " 'seaborn-muted',\n",
       " 'seaborn-notebook',\n",
       " 'seaborn-paper',\n",
       " 'seaborn-pastel',\n",
       " 'seaborn-poster',\n",
       " 'seaborn-talk',\n",
       " 'seaborn-ticks',\n",
       " 'seaborn-white',\n",
       " 'seaborn-whitegrid',\n",
       " 'tableau-colorblind10']"
      ]
     },
     "execution_count": 149,
     "metadata": {},
     "output_type": "execute_result"
    }
   ],
   "source": [
    "style.available"
   ]
  },
  {
   "cell_type": "code",
   "execution_count": 150,
   "id": "40a24720",
   "metadata": {},
   "outputs": [],
   "source": [
    "style.use('seaborn-colorblind')"
   ]
  },
  {
   "cell_type": "code",
   "execution_count": 151,
   "id": "178558b7",
   "metadata": {},
   "outputs": [
    {
     "data": {
      "text/plain": [
       "<matplotlib.lines.Line2D at 0x20d1d5fce50>"
      ]
     },
     "execution_count": 151,
     "metadata": {},
     "output_type": "execute_result"
    },
    {
     "data": {
      "image/png": "[encoded data removed]",
      "text/plain": [
       "<Figure size 576x360 with 1 Axes>"
      ]
     },
     "metadata": {},
     "output_type": "display_data"
    }
   ],
   "source": [
    "plt.figure(figsize=(8,5))\n",
    "sns.barplot(y=day_sales_trend.index,x=day_sales_trend.values,order=day_sales_trend.sort_values(ascending=False).index)\n",
    "plt.xlabel('Sales_Amount')\n",
    "plt.title('Sales_Amount per day of week')\n",
    "plt.axvline(day_sales_trend.mean())"
   ]
  },
  {
   "cell_type": "markdown",
   "id": "784ad03b",
   "metadata": {},
   "source": [
    "##### Maximum sales occur on Thursday. Let's check Customer trend per day of week"
   ]
  },
  {
   "cell_type": "code",
   "execution_count": 152,
   "id": "8e681adb",
   "metadata": {
    "scrolled": false
   },
   "outputs": [
    {
     "data": {
      "image/png": "[encoded data removed]",
      "text/plain": [
       "<Figure size 576x360 with 1 Axes>"
      ]
     },
     "metadata": {},
     "output_type": "display_data"
    }
   ],
   "source": [
    "plt.figure(figsize=(8,5))\n",
    "sns.countplot(y=df1.Day,order=df1.Day.value_counts().sort_values(ascending=False).index)\n",
    "plt.xlabel('Number of Customers')\n",
    "plt.title('Number of customers per day of week')\n",
    "plt.axvline(df1.Day.value_counts().mean())\n",
    "plt.show()"
   ]
  },
  {
   "cell_type": "markdown",
   "id": "1eadab40",
   "metadata": {},
   "source": [
    "##### The busiest and most important day is Thursday, followed by Tuesday / Wednesday, and Monday/ Friday.The least customers come on Sunday, which seems counter intiutive. Since most people have holiday on Sunday and should visit mall for shopping on that day."
   ]
  },
  {
   "cell_type": "markdown",
   "id": "ae7002dd",
   "metadata": {},
   "source": [
    "### When is the sales highest by: Month"
   ]
  },
  {
   "cell_type": "code",
   "execution_count": 153,
   "id": "c20cd78f",
   "metadata": {},
   "outputs": [],
   "source": [
    "style.use('fivethirtyeight')"
   ]
  },
  {
   "cell_type": "code",
   "execution_count": 154,
   "id": "bf9a9061",
   "metadata": {},
   "outputs": [],
   "source": [
    "month_sales_trend = df1.groupby('Month').apply(lambda x: x['Total_Amt'].sum())"
   ]
  },
  {
   "cell_type": "code",
   "execution_count": 155,
   "id": "257b337e",
   "metadata": {},
   "outputs": [
    {
     "data": {
      "image/png": "[encoded data removed]",
      "text/plain": [
       "<Figure size 720x576 with 1 Axes>"
      ]
     },
     "metadata": {},
     "output_type": "display_data"
    }
   ],
   "source": [
    "plt.figure(figsize=(10,8))\n",
    "sns.barplot(y=month_sales_trend.values,\n",
    "            x=month_sales_trend.index,order = month_sales_trend.sort_values(ascending=False).index)\n",
    "plt.ylabel('Total Amount of Sales')\n",
    "plt.title('Total Amount spent by Customers on Monthly basis')\n",
    "plt.axhline(month_sales_trend.mean())\n",
    "plt.show()"
   ]
  },
  {
   "cell_type": "code",
   "execution_count": 156,
   "id": "3e0a6180",
   "metadata": {},
   "outputs": [
    {
     "data": {
      "image/png": "[encoded data removed]",
      "text/plain": [
       "<Figure size 720x576 with 1 Axes>"
      ]
     },
     "metadata": {},
     "output_type": "display_data"
    }
   ],
   "source": [
    "plt.figure(figsize=(10,8))\n",
    "sns.barplot(y=df1.Month.value_counts().values,x=df1.Month.value_counts().index,\n",
    "            order=df1.Month.value_counts().sort_values(ascending=False).index)\n",
    "plt.ylabel('Number of Customers')\n",
    "plt.xlabel('Month')\n",
    "plt.title('Total Amount spent by Customers on Monthly basis')\n",
    "plt.axhline(df1.Month.value_counts().mean())\n",
    "plt.show()"
   ]
  },
  {
   "cell_type": "markdown",
   "id": "3e630de8",
   "metadata": {},
   "source": [
    "We can clearly infer that Months of November, December and October have most sales and customer visit.\n",
    "Maybe because these are the months where people are approaching Winters and also festival season in Christmas.\n",
    "\n",
    "Whereas the Sales drop below average after festival months from January till July."
   ]
  },
  {
   "cell_type": "markdown",
   "id": "22a2c921",
   "metadata": {},
   "source": [
    "### When is the sales highest by: Season"
   ]
  },
  {
   "cell_type": "code",
   "execution_count": 157,
   "id": "faedefe3",
   "metadata": {},
   "outputs": [
    {
     "data": {
      "text/html": [
       "<div>\n",
       "<style scoped>\n",
       "    .dataframe tbody tr th:only-of-type {\n",
       "        vertical-align: middle;\n",
       "    }\n",
       "\n",
       "    .dataframe tbody tr th {\n",
       "        vertical-align: top;\n",
       "    }\n",
       "\n",
       "    .dataframe thead th {\n",
       "        text-align: right;\n",
       "    }\n",
       "</style>\n",
       "<table border=\"1\" class=\"dataframe\">\n",
       "  <thead>\n",
       "    <tr style=\"text-align: right;\">\n",
       "      <th></th>\n",
       "      <th>InvoiceNo</th>\n",
       "      <th>Total_Amt</th>\n",
       "      <th>InvoiceDate</th>\n",
       "      <th>CustomerID</th>\n",
       "      <th>Month</th>\n",
       "      <th>Day</th>\n",
       "      <th>Season</th>\n",
       "    </tr>\n",
       "  </thead>\n",
       "  <tbody>\n",
       "    <tr>\n",
       "      <th>0</th>\n",
       "      <td>536365</td>\n",
       "      <td>139.12</td>\n",
       "      <td>2010-12-01 08:26:00</td>\n",
       "      <td>17850.0</td>\n",
       "      <td>12</td>\n",
       "      <td>Wednesday</td>\n",
       "      <td>Winter</td>\n",
       "    </tr>\n",
       "    <tr>\n",
       "      <th>1</th>\n",
       "      <td>536366</td>\n",
       "      <td>22.20</td>\n",
       "      <td>2010-12-01 08:28:00</td>\n",
       "      <td>17850.0</td>\n",
       "      <td>12</td>\n",
       "      <td>Wednesday</td>\n",
       "      <td>Winter</td>\n",
       "    </tr>\n",
       "    <tr>\n",
       "      <th>2</th>\n",
       "      <td>536367</td>\n",
       "      <td>278.73</td>\n",
       "      <td>2010-12-01 08:34:00</td>\n",
       "      <td>13047.0</td>\n",
       "      <td>12</td>\n",
       "      <td>Wednesday</td>\n",
       "      <td>Winter</td>\n",
       "    </tr>\n",
       "    <tr>\n",
       "      <th>3</th>\n",
       "      <td>536368</td>\n",
       "      <td>70.05</td>\n",
       "      <td>2010-12-01 08:34:00</td>\n",
       "      <td>13047.0</td>\n",
       "      <td>12</td>\n",
       "      <td>Wednesday</td>\n",
       "      <td>Winter</td>\n",
       "    </tr>\n",
       "    <tr>\n",
       "      <th>4</th>\n",
       "      <td>536369</td>\n",
       "      <td>17.85</td>\n",
       "      <td>2010-12-01 08:35:00</td>\n",
       "      <td>13047.0</td>\n",
       "      <td>12</td>\n",
       "      <td>Wednesday</td>\n",
       "      <td>Winter</td>\n",
       "    </tr>\n",
       "    <tr>\n",
       "      <th>...</th>\n",
       "      <td>...</td>\n",
       "      <td>...</td>\n",
       "      <td>...</td>\n",
       "      <td>...</td>\n",
       "      <td>...</td>\n",
       "      <td>...</td>\n",
       "      <td>...</td>\n",
       "    </tr>\n",
       "    <tr>\n",
       "      <th>22185</th>\n",
       "      <td>C581484</td>\n",
       "      <td>0.00</td>\n",
       "      <td>2011-12-09 09:27:00</td>\n",
       "      <td>16446.0</td>\n",
       "      <td>12</td>\n",
       "      <td>Friday</td>\n",
       "      <td>Winter</td>\n",
       "    </tr>\n",
       "    <tr>\n",
       "      <th>22186</th>\n",
       "      <td>C581490</td>\n",
       "      <td>0.00</td>\n",
       "      <td>2011-12-09 09:57:00</td>\n",
       "      <td>14397.0</td>\n",
       "      <td>12</td>\n",
       "      <td>Friday</td>\n",
       "      <td>Winter</td>\n",
       "    </tr>\n",
       "    <tr>\n",
       "      <th>22187</th>\n",
       "      <td>C581499</td>\n",
       "      <td>0.00</td>\n",
       "      <td>2011-12-09 10:28:00</td>\n",
       "      <td>15498.0</td>\n",
       "      <td>12</td>\n",
       "      <td>Friday</td>\n",
       "      <td>Winter</td>\n",
       "    </tr>\n",
       "    <tr>\n",
       "      <th>22188</th>\n",
       "      <td>C581568</td>\n",
       "      <td>0.00</td>\n",
       "      <td>2011-12-09 11:57:00</td>\n",
       "      <td>15311.0</td>\n",
       "      <td>12</td>\n",
       "      <td>Friday</td>\n",
       "      <td>Winter</td>\n",
       "    </tr>\n",
       "    <tr>\n",
       "      <th>22189</th>\n",
       "      <td>C581569</td>\n",
       "      <td>0.00</td>\n",
       "      <td>2011-12-09 11:58:00</td>\n",
       "      <td>17315.0</td>\n",
       "      <td>12</td>\n",
       "      <td>Friday</td>\n",
       "      <td>Winter</td>\n",
       "    </tr>\n",
       "  </tbody>\n",
       "</table>\n",
       "<p>22190 rows × 7 columns</p>\n",
       "</div>"
      ],
      "text/plain": [
       "      InvoiceNo  Total_Amt         InvoiceDate  CustomerID  Month        Day  \\\n",
       "0        536365     139.12 2010-12-01 08:26:00     17850.0     12  Wednesday   \n",
       "1        536366      22.20 2010-12-01 08:28:00     17850.0     12  Wednesday   \n",
       "2        536367     278.73 2010-12-01 08:34:00     13047.0     12  Wednesday   \n",
       "3        536368      70.05 2010-12-01 08:34:00     13047.0     12  Wednesday   \n",
       "4        536369      17.85 2010-12-01 08:35:00     13047.0     12  Wednesday   \n",
       "...         ...        ...                 ...         ...    ...        ...   \n",
       "22185   C581484       0.00 2011-12-09 09:27:00     16446.0     12     Friday   \n",
       "22186   C581490       0.00 2011-12-09 09:57:00     14397.0     12     Friday   \n",
       "22187   C581499       0.00 2011-12-09 10:28:00     15498.0     12     Friday   \n",
       "22188   C581568       0.00 2011-12-09 11:57:00     15311.0     12     Friday   \n",
       "22189   C581569       0.00 2011-12-09 11:58:00     17315.0     12     Friday   \n",
       "\n",
       "       Season  \n",
       "0      Winter  \n",
       "1      Winter  \n",
       "2      Winter  \n",
       "3      Winter  \n",
       "4      Winter  \n",
       "...       ...  \n",
       "22185  Winter  \n",
       "22186  Winter  \n",
       "22187  Winter  \n",
       "22188  Winter  \n",
       "22189  Winter  \n",
       "\n",
       "[22190 rows x 7 columns]"
      ]
     },
     "execution_count": 157,
     "metadata": {},
     "output_type": "execute_result"
    }
   ],
   "source": [
    "df1"
   ]
  },
  {
   "cell_type": "code",
   "execution_count": 158,
   "id": "f1b8e045",
   "metadata": {},
   "outputs": [],
   "source": [
    "season_sales_trend=df1.groupby('Season').apply(lambda x: x['Total_Amt'].sum())"
   ]
  },
  {
   "cell_type": "code",
   "execution_count": 159,
   "id": "caa7114d",
   "metadata": {},
   "outputs": [
    {
     "data": {
      "text/plain": [
       "Season\n",
       "Autumn    3153974.552\n",
       "Spring    1743295.681\n",
       "Summer    1906648.601\n",
       "Winter    2107489.070\n",
       "dtype: float64"
      ]
     },
     "execution_count": 159,
     "metadata": {},
     "output_type": "execute_result"
    }
   ],
   "source": [
    "season_sales_trend"
   ]
  },
  {
   "cell_type": "code",
   "execution_count": 160,
   "id": "72cf9fc5",
   "metadata": {},
   "outputs": [
    {
     "data": {
      "text/plain": [
       "<matplotlib.lines.Line2D at 0x20d1f3786a0>"
      ]
     },
     "execution_count": 160,
     "metadata": {},
     "output_type": "execute_result"
    },
    {
     "data": {
      "image/png": "[encoded data removed]",
      "text/plain": [
       "<Figure size 720x576 with 1 Axes>"
      ]
     },
     "metadata": {},
     "output_type": "display_data"
    }
   ],
   "source": [
    "plt.figure(figsize=(10,8))\n",
    "\n",
    "sns.barplot(y=season_sales_trend.values,x=season_sales_trend.index,\n",
    "            order=season_sales_trend.sort_values(ascending=False).index)\n",
    "plt.title('Sales Trend per season')\n",
    "plt.ylabel('Sales Amount')\n",
    "plt.axhline(season_sales_trend.mean())"
   ]
  },
  {
   "cell_type": "code",
   "execution_count": 161,
   "id": "1deb5195",
   "metadata": {},
   "outputs": [
    {
     "data": {
      "image/png": "[encoded data removed]",
      "text/plain": [
       "<Figure size 720x576 with 1 Axes>"
      ]
     },
     "metadata": {},
     "output_type": "display_data"
    }
   ],
   "source": [
    "# Customers per season\n",
    "plt.figure(figsize=(10,8))\n",
    "\n",
    "sns.barplot(y=df1.Season.value_counts().values,x=df1.Season.value_counts().index,\n",
    "            order=df1.Season.value_counts().sort_values(ascending=False).index)\n",
    "plt.title('Customer Trend per season')\n",
    "plt.ylabel('Sales Amount')\n",
    "plt.axhline(df1.Season.value_counts().mean())\n",
    "plt.show()"
   ]
  },
  {
   "cell_type": "code",
   "execution_count": 162,
   "id": "ab94911f",
   "metadata": {},
   "outputs": [
    {
     "data": {
      "text/plain": [
       "11    3086\n",
       "10    2263\n",
       "9     2078\n",
       "Name: Month, dtype: int64"
      ]
     },
     "execution_count": 162,
     "metadata": {},
     "output_type": "execute_result"
    }
   ],
   "source": [
    "df1[df1.Season == 'Autumn']['Month'].value_counts()"
   ]
  },
  {
   "cell_type": "markdown",
   "id": "b6360c7f",
   "metadata": {},
   "source": [
    "We can clearly infer that the sales shoot up in season of autumn. Maybe because people are hoarding stuff before winter. when stores could be shut because of snow fall. "
   ]
  },
  {
   "cell_type": "markdown",
   "id": "24069ad0",
   "metadata": {},
   "source": [
    " ### 2.when is the rush hour?"
   ]
  },
  {
   "cell_type": "code",
   "execution_count": 163,
   "id": "a5da5bb2",
   "metadata": {},
   "outputs": [
    {
     "data": {
      "text/plain": [
       "0         8\n",
       "1         8\n",
       "2         8\n",
       "3         8\n",
       "4         8\n",
       "         ..\n",
       "22185     9\n",
       "22186     9\n",
       "22187    10\n",
       "22188    11\n",
       "22189    11\n",
       "Name: InvoiceDate, Length: 22190, dtype: int64"
      ]
     },
     "execution_count": 163,
     "metadata": {},
     "output_type": "execute_result"
    }
   ],
   "source": [
    "df1.InvoiceDate.dt.hour"
   ]
  },
  {
   "cell_type": "code",
   "execution_count": 164,
   "id": "249f6c82",
   "metadata": {},
   "outputs": [],
   "source": [
    "df4 = df1.copy()"
   ]
  },
  {
   "cell_type": "code",
   "execution_count": 165,
   "id": "47749d4b",
   "metadata": {},
   "outputs": [],
   "source": [
    "df1['Hour'] = df1.InvoiceDate.dt.hour"
   ]
  },
  {
   "cell_type": "code",
   "execution_count": 166,
   "id": "c9203ce4",
   "metadata": {},
   "outputs": [
    {
     "data": {
      "text/html": [
       "<div>\n",
       "<style scoped>\n",
       "    .dataframe tbody tr th:only-of-type {\n",
       "        vertical-align: middle;\n",
       "    }\n",
       "\n",
       "    .dataframe tbody tr th {\n",
       "        vertical-align: top;\n",
       "    }\n",
       "\n",
       "    .dataframe thead th {\n",
       "        text-align: right;\n",
       "    }\n",
       "</style>\n",
       "<table border=\"1\" class=\"dataframe\">\n",
       "  <thead>\n",
       "    <tr style=\"text-align: right;\">\n",
       "      <th></th>\n",
       "      <th>InvoiceNo</th>\n",
       "      <th>Total_Amt</th>\n",
       "      <th>InvoiceDate</th>\n",
       "      <th>CustomerID</th>\n",
       "      <th>Month</th>\n",
       "      <th>Day</th>\n",
       "      <th>Season</th>\n",
       "      <th>Hour</th>\n",
       "    </tr>\n",
       "  </thead>\n",
       "  <tbody>\n",
       "    <tr>\n",
       "      <th>0</th>\n",
       "      <td>536365</td>\n",
       "      <td>139.12</td>\n",
       "      <td>2010-12-01 08:26:00</td>\n",
       "      <td>17850.0</td>\n",
       "      <td>12</td>\n",
       "      <td>Wednesday</td>\n",
       "      <td>Winter</td>\n",
       "      <td>8</td>\n",
       "    </tr>\n",
       "    <tr>\n",
       "      <th>1</th>\n",
       "      <td>536366</td>\n",
       "      <td>22.20</td>\n",
       "      <td>2010-12-01 08:28:00</td>\n",
       "      <td>17850.0</td>\n",
       "      <td>12</td>\n",
       "      <td>Wednesday</td>\n",
       "      <td>Winter</td>\n",
       "      <td>8</td>\n",
       "    </tr>\n",
       "  </tbody>\n",
       "</table>\n",
       "</div>"
      ],
      "text/plain": [
       "  InvoiceNo  Total_Amt         InvoiceDate  CustomerID  Month        Day  \\\n",
       "0    536365     139.12 2010-12-01 08:26:00     17850.0     12  Wednesday   \n",
       "1    536366      22.20 2010-12-01 08:28:00     17850.0     12  Wednesday   \n",
       "\n",
       "   Season  Hour  \n",
       "0  Winter     8  \n",
       "1  Winter     8  "
      ]
     },
     "execution_count": 166,
     "metadata": {},
     "output_type": "execute_result"
    }
   ],
   "source": [
    "df1.head(2)"
   ]
  },
  {
   "cell_type": "code",
   "execution_count": 167,
   "id": "63f9473b",
   "metadata": {},
   "outputs": [
    {
     "data": {
      "image/png": "[encoded data removed]",
      "text/plain": [
       "<Figure size 576x396 with 1 Axes>"
      ]
     },
     "metadata": {},
     "output_type": "display_data"
    }
   ],
   "source": [
    "sns.set_style('whitegrid')\n",
    "\n",
    "sns.barplot(y=df1.Hour.value_counts().values,x=df1.Hour.value_counts().index,color='m',alpha=0.9)\n",
    "plt.show()"
   ]
  },
  {
   "cell_type": "markdown",
   "id": "7d885203",
   "metadata": {},
   "source": [
    "We can see that the distribution is normally distributed with peak at 3400 people at about 12 pm. So, the rush hour is at 11am to 2pm with peak at 12pm."
   ]
  },
  {
   "cell_type": "markdown",
   "id": "e3a72b21",
   "metadata": {},
   "source": [
    "Segregating this futher to in times of parts of a day."
   ]
  },
  {
   "cell_type": "markdown",
   "id": "ebe3c19c",
   "metadata": {},
   "source": [
    " #### 3.when the rush as per timing (morning,afternoon,evening )"
   ]
  },
  {
   "cell_type": "code",
   "execution_count": 168,
   "id": "f207ad20",
   "metadata": {},
   "outputs": [],
   "source": [
    "# Dividing day into 3 parts, Morning, Afternoon and Evening"
   ]
  },
  {
   "cell_type": "code",
   "execution_count": 169,
   "id": "67f47bd0",
   "metadata": {},
   "outputs": [
    {
     "data": {
      "text/plain": [
       "Int64Index([6, 7, 8, 9, 10, 11, 12, 13, 14, 15, 16, 17, 18, 19, 20], dtype='int64')"
      ]
     },
     "execution_count": 169,
     "metadata": {},
     "output_type": "execute_result"
    }
   ],
   "source": [
    "df1.Hour.value_counts().index.sort_values()"
   ]
  },
  {
   "cell_type": "code",
   "execution_count": 170,
   "id": "7188f1dc",
   "metadata": {},
   "outputs": [],
   "source": [
    "morning = [6, 7, 8, 9, 10,11,12]\n",
    "afternoon = [13, 14, 15, 16, 17, 18]\n",
    "evening = [19, 20]"
   ]
  },
  {
   "cell_type": "code",
   "execution_count": 171,
   "id": "33560517",
   "metadata": {},
   "outputs": [],
   "source": [
    "def day_part(x):\n",
    "    if x in morning:\n",
    "        return 'Morning'\n",
    "    elif x in afternoon:\n",
    "        return 'Afternoon'\n",
    "    else:\n",
    "        return 'Evening'"
   ]
  },
  {
   "cell_type": "code",
   "execution_count": 172,
   "id": "b520664c",
   "metadata": {},
   "outputs": [],
   "source": [
    "df1['Part_of_Day'] = df1.Hour.apply(day_part)"
   ]
  },
  {
   "cell_type": "code",
   "execution_count": 173,
   "id": "cb9c1764",
   "metadata": {},
   "outputs": [
    {
     "data": {
      "text/plain": [
       "Morning      11262\n",
       "Afternoon    10683\n",
       "Evening        245\n",
       "Name: Part_of_Day, dtype: int64"
      ]
     },
     "execution_count": 173,
     "metadata": {},
     "output_type": "execute_result"
    }
   ],
   "source": [
    "df1.Part_of_Day.value_counts()"
   ]
  },
  {
   "cell_type": "code",
   "execution_count": 174,
   "id": "7a4a5acd",
   "metadata": {},
   "outputs": [
    {
     "data": {
      "image/png": "[encoded data removed]",
      "text/plain": [
       "<Figure size 576x396 with 1 Axes>"
      ]
     },
     "metadata": {},
     "output_type": "display_data"
    }
   ],
   "source": [
    "sns.barplot(y=df1.Part_of_Day.value_counts().values,x=df1.Part_of_Day.value_counts().index,color='y',alpha=0.9)\n",
    "plt.show()"
   ]
  },
  {
   "cell_type": "markdown",
   "id": "e0800591",
   "metadata": {},
   "source": [
    "We can infer that both Morning and Afternoon are equally busy. So rather than dividing day into traditional sense. We should look at the hours graph and adjust the staff accordingly."
   ]
  },
  {
   "cell_type": "markdown",
   "id": "2c7957f8",
   "metadata": {},
   "source": [
    "### Goal 3: Highest sale items top 10 or 20"
   ]
  },
  {
   "cell_type": "code",
   "execution_count": 175,
   "id": "787fd5bb",
   "metadata": {},
   "outputs": [],
   "source": [
    "df4 = df1.copy()"
   ]
  },
  {
   "cell_type": "code",
   "execution_count": 176,
   "id": "f9e96f47",
   "metadata": {},
   "outputs": [],
   "source": [
    "df5 = customer.copy()"
   ]
  },
  {
   "cell_type": "code",
   "execution_count": 177,
   "id": "9507e6b8",
   "metadata": {},
   "outputs": [
    {
     "data": {
      "text/html": [
       "<div>\n",
       "<style scoped>\n",
       "    .dataframe tbody tr th:only-of-type {\n",
       "        vertical-align: middle;\n",
       "    }\n",
       "\n",
       "    .dataframe tbody tr th {\n",
       "        vertical-align: top;\n",
       "    }\n",
       "\n",
       "    .dataframe thead th {\n",
       "        text-align: right;\n",
       "    }\n",
       "</style>\n",
       "<table border=\"1\" class=\"dataframe\">\n",
       "  <thead>\n",
       "    <tr style=\"text-align: right;\">\n",
       "      <th></th>\n",
       "      <th>InvoiceNo</th>\n",
       "      <th>Description</th>\n",
       "      <th>Quantity</th>\n",
       "      <th>InvoiceDate</th>\n",
       "      <th>UnitPrice</th>\n",
       "      <th>CustomerID</th>\n",
       "    </tr>\n",
       "  </thead>\n",
       "  <tbody>\n",
       "    <tr>\n",
       "      <th>0</th>\n",
       "      <td>536365</td>\n",
       "      <td>WHITE HANGING HEART T-LIGHT HOLDER</td>\n",
       "      <td>6</td>\n",
       "      <td>2010-12-01 08:26:00</td>\n",
       "      <td>2.55</td>\n",
       "      <td>17850.0</td>\n",
       "    </tr>\n",
       "    <tr>\n",
       "      <th>1</th>\n",
       "      <td>536365</td>\n",
       "      <td>WHITE METAL LANTERN</td>\n",
       "      <td>6</td>\n",
       "      <td>2010-12-01 08:26:00</td>\n",
       "      <td>3.39</td>\n",
       "      <td>17850.0</td>\n",
       "    </tr>\n",
       "    <tr>\n",
       "      <th>2</th>\n",
       "      <td>536365</td>\n",
       "      <td>CREAM CUPID HEARTS COAT HANGER</td>\n",
       "      <td>8</td>\n",
       "      <td>2010-12-01 08:26:00</td>\n",
       "      <td>2.75</td>\n",
       "      <td>17850.0</td>\n",
       "    </tr>\n",
       "    <tr>\n",
       "      <th>3</th>\n",
       "      <td>536365</td>\n",
       "      <td>KNITTED UNION FLAG HOT WATER BOTTLE</td>\n",
       "      <td>6</td>\n",
       "      <td>2010-12-01 08:26:00</td>\n",
       "      <td>3.39</td>\n",
       "      <td>17850.0</td>\n",
       "    </tr>\n",
       "    <tr>\n",
       "      <th>4</th>\n",
       "      <td>536365</td>\n",
       "      <td>RED WOOLLY HOTTIE WHITE HEART.</td>\n",
       "      <td>6</td>\n",
       "      <td>2010-12-01 08:26:00</td>\n",
       "      <td>3.39</td>\n",
       "      <td>17850.0</td>\n",
       "    </tr>\n",
       "  </tbody>\n",
       "</table>\n",
       "</div>"
      ],
      "text/plain": [
       "  InvoiceNo                          Description  Quantity  \\\n",
       "0    536365   WHITE HANGING HEART T-LIGHT HOLDER         6   \n",
       "1    536365                  WHITE METAL LANTERN         6   \n",
       "2    536365       CREAM CUPID HEARTS COAT HANGER         8   \n",
       "3    536365  KNITTED UNION FLAG HOT WATER BOTTLE         6   \n",
       "4    536365       RED WOOLLY HOTTIE WHITE HEART.         6   \n",
       "\n",
       "          InvoiceDate  UnitPrice  CustomerID  \n",
       "0 2010-12-01 08:26:00       2.55     17850.0  \n",
       "1 2010-12-01 08:26:00       3.39     17850.0  \n",
       "2 2010-12-01 08:26:00       2.75     17850.0  \n",
       "3 2010-12-01 08:26:00       3.39     17850.0  \n",
       "4 2010-12-01 08:26:00       3.39     17850.0  "
      ]
     },
     "execution_count": 177,
     "metadata": {},
     "output_type": "execute_result"
    }
   ],
   "source": [
    "df5.drop(['StockCode','lower','Country'],axis = 1,inplace=True)\n",
    "df5.head()"
   ]
  },
  {
   "cell_type": "markdown",
   "id": "e8ad693e",
   "metadata": {},
   "source": [
    "Here we will not drop CustomerID missing values since we need to check about total items sold and revenue generated."
   ]
  },
  {
   "cell_type": "code",
   "execution_count": 178,
   "id": "331bc62c",
   "metadata": {},
   "outputs": [],
   "source": [
    "def zero_rep(x):\n",
    "    if x<0:\n",
    "        return 0\n",
    "    else:\n",
    "        return x\n",
    "# a fucntion that returns zero if value of quantity is in negative"
   ]
  },
  {
   "cell_type": "code",
   "execution_count": 179,
   "id": "bbc74cc8",
   "metadata": {},
   "outputs": [
    {
     "data": {
      "text/plain": [
       "0"
      ]
     },
     "execution_count": 179,
     "metadata": {},
     "output_type": "execute_result"
    }
   ],
   "source": [
    "df5['Quantity'] = df5['Quantity'].apply(zero_rep)\n",
    "df5.Quantity[df5.Quantity<0].sum()"
   ]
  },
  {
   "cell_type": "code",
   "execution_count": 180,
   "id": "e7b635f2",
   "metadata": {},
   "outputs": [
    {
     "data": {
      "text/html": [
       "<div>\n",
       "<style scoped>\n",
       "    .dataframe tbody tr th:only-of-type {\n",
       "        vertical-align: middle;\n",
       "    }\n",
       "\n",
       "    .dataframe tbody tr th {\n",
       "        vertical-align: top;\n",
       "    }\n",
       "\n",
       "    .dataframe thead th {\n",
       "        text-align: right;\n",
       "    }\n",
       "</style>\n",
       "<table border=\"1\" class=\"dataframe\">\n",
       "  <thead>\n",
       "    <tr style=\"text-align: right;\">\n",
       "      <th></th>\n",
       "      <th>count</th>\n",
       "      <th>mean</th>\n",
       "      <th>std</th>\n",
       "      <th>min</th>\n",
       "      <th>25%</th>\n",
       "      <th>50%</th>\n",
       "      <th>75%</th>\n",
       "      <th>max</th>\n",
       "    </tr>\n",
       "  </thead>\n",
       "  <tbody>\n",
       "    <tr>\n",
       "      <th>Quantity</th>\n",
       "      <td>541909.0</td>\n",
       "      <td>10.446368</td>\n",
       "      <td>155.292426</td>\n",
       "      <td>0.00</td>\n",
       "      <td>1.00</td>\n",
       "      <td>3.00</td>\n",
       "      <td>10.00</td>\n",
       "      <td>80995.0</td>\n",
       "    </tr>\n",
       "    <tr>\n",
       "      <th>UnitPrice</th>\n",
       "      <td>541909.0</td>\n",
       "      <td>4.611114</td>\n",
       "      <td>96.759853</td>\n",
       "      <td>-11062.06</td>\n",
       "      <td>1.25</td>\n",
       "      <td>2.08</td>\n",
       "      <td>4.13</td>\n",
       "      <td>38970.0</td>\n",
       "    </tr>\n",
       "    <tr>\n",
       "      <th>CustomerID</th>\n",
       "      <td>406829.0</td>\n",
       "      <td>15287.690570</td>\n",
       "      <td>1713.600303</td>\n",
       "      <td>12346.00</td>\n",
       "      <td>13953.00</td>\n",
       "      <td>15152.00</td>\n",
       "      <td>16791.00</td>\n",
       "      <td>18287.0</td>\n",
       "    </tr>\n",
       "  </tbody>\n",
       "</table>\n",
       "</div>"
      ],
      "text/plain": [
       "               count          mean          std       min       25%       50%  \\\n",
       "Quantity    541909.0     10.446368   155.292426      0.00      1.00      3.00   \n",
       "UnitPrice   541909.0      4.611114    96.759853 -11062.06      1.25      2.08   \n",
       "CustomerID  406829.0  15287.690570  1713.600303  12346.00  13953.00  15152.00   \n",
       "\n",
       "                 75%      max  \n",
       "Quantity       10.00  80995.0  \n",
       "UnitPrice       4.13  38970.0  \n",
       "CustomerID  16791.00  18287.0  "
      ]
     },
     "execution_count": 180,
     "metadata": {},
     "output_type": "execute_result"
    }
   ],
   "source": [
    "df5.describe().T"
   ]
  },
  {
   "cell_type": "code",
   "execution_count": 181,
   "id": "6dc488de",
   "metadata": {},
   "outputs": [
    {
     "data": {
      "text/plain": [
       "2"
      ]
     },
     "execution_count": 181,
     "metadata": {},
     "output_type": "execute_result"
    }
   ],
   "source": [
    "df5[df5.UnitPrice<0]['UnitPrice'].count()\n",
    "# Unit Price is negative of some items. We will check the number of such occurances"
   ]
  },
  {
   "cell_type": "markdown",
   "id": "96a90f5e",
   "metadata": {},
   "source": [
    "Since only 2 no. of occurances are there. We will drop these rows."
   ]
  },
  {
   "cell_type": "code",
   "execution_count": 182,
   "id": "50091e2c",
   "metadata": {},
   "outputs": [],
   "source": [
    "df5.drop(df5[df5.UnitPrice<0].index, inplace = True, axis = 0)"
   ]
  },
  {
   "cell_type": "code",
   "execution_count": 183,
   "id": "fb40755e",
   "metadata": {},
   "outputs": [
    {
     "data": {
      "text/plain": [
       "0"
      ]
     },
     "execution_count": 183,
     "metadata": {},
     "output_type": "execute_result"
    }
   ],
   "source": [
    "df5[df5.UnitPrice<0]['UnitPrice'].count()"
   ]
  },
  {
   "cell_type": "code",
   "execution_count": 184,
   "id": "0c7e0e67",
   "metadata": {},
   "outputs": [
    {
     "data": {
      "text/html": [
       "<div>\n",
       "<style scoped>\n",
       "    .dataframe tbody tr th:only-of-type {\n",
       "        vertical-align: middle;\n",
       "    }\n",
       "\n",
       "    .dataframe tbody tr th {\n",
       "        vertical-align: top;\n",
       "    }\n",
       "\n",
       "    .dataframe thead th {\n",
       "        text-align: right;\n",
       "    }\n",
       "</style>\n",
       "<table border=\"1\" class=\"dataframe\">\n",
       "  <thead>\n",
       "    <tr style=\"text-align: right;\">\n",
       "      <th></th>\n",
       "      <th>count</th>\n",
       "      <th>mean</th>\n",
       "      <th>std</th>\n",
       "      <th>min</th>\n",
       "      <th>25%</th>\n",
       "      <th>50%</th>\n",
       "      <th>75%</th>\n",
       "      <th>max</th>\n",
       "    </tr>\n",
       "  </thead>\n",
       "  <tbody>\n",
       "    <tr>\n",
       "      <th>Quantity</th>\n",
       "      <td>541907.0</td>\n",
       "      <td>10.446403</td>\n",
       "      <td>155.292711</td>\n",
       "      <td>0.0</td>\n",
       "      <td>1.00</td>\n",
       "      <td>3.00</td>\n",
       "      <td>10.00</td>\n",
       "      <td>80995.0</td>\n",
       "    </tr>\n",
       "    <tr>\n",
       "      <th>UnitPrice</th>\n",
       "      <td>541907.0</td>\n",
       "      <td>4.651957</td>\n",
       "      <td>94.395447</td>\n",
       "      <td>0.0</td>\n",
       "      <td>1.25</td>\n",
       "      <td>2.08</td>\n",
       "      <td>4.13</td>\n",
       "      <td>38970.0</td>\n",
       "    </tr>\n",
       "    <tr>\n",
       "      <th>CustomerID</th>\n",
       "      <td>406829.0</td>\n",
       "      <td>15287.690570</td>\n",
       "      <td>1713.600303</td>\n",
       "      <td>12346.0</td>\n",
       "      <td>13953.00</td>\n",
       "      <td>15152.00</td>\n",
       "      <td>16791.00</td>\n",
       "      <td>18287.0</td>\n",
       "    </tr>\n",
       "  </tbody>\n",
       "</table>\n",
       "</div>"
      ],
      "text/plain": [
       "               count          mean          std      min       25%       50%  \\\n",
       "Quantity    541907.0     10.446403   155.292711      0.0      1.00      3.00   \n",
       "UnitPrice   541907.0      4.651957    94.395447      0.0      1.25      2.08   \n",
       "CustomerID  406829.0  15287.690570  1713.600303  12346.0  13953.00  15152.00   \n",
       "\n",
       "                 75%      max  \n",
       "Quantity       10.00  80995.0  \n",
       "UnitPrice       4.13  38970.0  \n",
       "CustomerID  16791.00  18287.0  "
      ]
     },
     "execution_count": 184,
     "metadata": {},
     "output_type": "execute_result"
    }
   ],
   "source": [
    "df5.describe().T"
   ]
  },
  {
   "cell_type": "markdown",
   "id": "2415b5fd",
   "metadata": {},
   "source": [
    "Now we will not drop customers where value is null since our main aim is to check best selling item"
   ]
  },
  {
   "cell_type": "code",
   "execution_count": 185,
   "id": "71cf520a",
   "metadata": {},
   "outputs": [
    {
     "data": {
      "text/html": [
       "<div>\n",
       "<style scoped>\n",
       "    .dataframe tbody tr th:only-of-type {\n",
       "        vertical-align: middle;\n",
       "    }\n",
       "\n",
       "    .dataframe tbody tr th {\n",
       "        vertical-align: top;\n",
       "    }\n",
       "\n",
       "    .dataframe thead th {\n",
       "        text-align: right;\n",
       "    }\n",
       "</style>\n",
       "<table border=\"1\" class=\"dataframe\">\n",
       "  <thead>\n",
       "    <tr style=\"text-align: right;\">\n",
       "      <th></th>\n",
       "      <th>InvoiceNo</th>\n",
       "      <th>Description</th>\n",
       "      <th>Quantity</th>\n",
       "      <th>InvoiceDate</th>\n",
       "      <th>UnitPrice</th>\n",
       "      <th>CustomerID</th>\n",
       "    </tr>\n",
       "  </thead>\n",
       "  <tbody>\n",
       "    <tr>\n",
       "      <th>0</th>\n",
       "      <td>536365</td>\n",
       "      <td>WHITE HANGING HEART T-LIGHT HOLDER</td>\n",
       "      <td>6</td>\n",
       "      <td>2010-12-01 08:26:00</td>\n",
       "      <td>2.55</td>\n",
       "      <td>17850.0</td>\n",
       "    </tr>\n",
       "    <tr>\n",
       "      <th>1</th>\n",
       "      <td>536365</td>\n",
       "      <td>WHITE METAL LANTERN</td>\n",
       "      <td>6</td>\n",
       "      <td>2010-12-01 08:26:00</td>\n",
       "      <td>3.39</td>\n",
       "      <td>17850.0</td>\n",
       "    </tr>\n",
       "    <tr>\n",
       "      <th>2</th>\n",
       "      <td>536365</td>\n",
       "      <td>CREAM CUPID HEARTS COAT HANGER</td>\n",
       "      <td>8</td>\n",
       "      <td>2010-12-01 08:26:00</td>\n",
       "      <td>2.75</td>\n",
       "      <td>17850.0</td>\n",
       "    </tr>\n",
       "    <tr>\n",
       "      <th>3</th>\n",
       "      <td>536365</td>\n",
       "      <td>KNITTED UNION FLAG HOT WATER BOTTLE</td>\n",
       "      <td>6</td>\n",
       "      <td>2010-12-01 08:26:00</td>\n",
       "      <td>3.39</td>\n",
       "      <td>17850.0</td>\n",
       "    </tr>\n",
       "    <tr>\n",
       "      <th>4</th>\n",
       "      <td>536365</td>\n",
       "      <td>RED WOOLLY HOTTIE WHITE HEART.</td>\n",
       "      <td>6</td>\n",
       "      <td>2010-12-01 08:26:00</td>\n",
       "      <td>3.39</td>\n",
       "      <td>17850.0</td>\n",
       "    </tr>\n",
       "  </tbody>\n",
       "</table>\n",
       "</div>"
      ],
      "text/plain": [
       "  InvoiceNo                          Description  Quantity  \\\n",
       "0    536365   WHITE HANGING HEART T-LIGHT HOLDER         6   \n",
       "1    536365                  WHITE METAL LANTERN         6   \n",
       "2    536365       CREAM CUPID HEARTS COAT HANGER         8   \n",
       "3    536365  KNITTED UNION FLAG HOT WATER BOTTLE         6   \n",
       "4    536365       RED WOOLLY HOTTIE WHITE HEART.         6   \n",
       "\n",
       "          InvoiceDate  UnitPrice  CustomerID  \n",
       "0 2010-12-01 08:26:00       2.55     17850.0  \n",
       "1 2010-12-01 08:26:00       3.39     17850.0  \n",
       "2 2010-12-01 08:26:00       2.75     17850.0  \n",
       "3 2010-12-01 08:26:00       3.39     17850.0  \n",
       "4 2010-12-01 08:26:00       3.39     17850.0  "
      ]
     },
     "execution_count": 185,
     "metadata": {},
     "output_type": "execute_result"
    }
   ],
   "source": [
    "df5.head()"
   ]
  },
  {
   "cell_type": "code",
   "execution_count": 186,
   "id": "8ead58e7",
   "metadata": {},
   "outputs": [
    {
     "data": {
      "text/html": [
       "<div>\n",
       "<style scoped>\n",
       "    .dataframe tbody tr th:only-of-type {\n",
       "        vertical-align: middle;\n",
       "    }\n",
       "\n",
       "    .dataframe tbody tr th {\n",
       "        vertical-align: top;\n",
       "    }\n",
       "\n",
       "    .dataframe thead th {\n",
       "        text-align: right;\n",
       "    }\n",
       "</style>\n",
       "<table border=\"1\" class=\"dataframe\">\n",
       "  <thead>\n",
       "    <tr style=\"text-align: right;\">\n",
       "      <th></th>\n",
       "      <th>InvoiceNo</th>\n",
       "      <th>Description</th>\n",
       "      <th>Quantity</th>\n",
       "      <th>InvoiceDate</th>\n",
       "      <th>UnitPrice</th>\n",
       "      <th>CustomerID</th>\n",
       "      <th>Total_Price</th>\n",
       "    </tr>\n",
       "  </thead>\n",
       "  <tbody>\n",
       "    <tr>\n",
       "      <th>0</th>\n",
       "      <td>536365</td>\n",
       "      <td>WHITE HANGING HEART T-LIGHT HOLDER</td>\n",
       "      <td>6</td>\n",
       "      <td>2010-12-01 08:26:00</td>\n",
       "      <td>2.55</td>\n",
       "      <td>17850.0</td>\n",
       "      <td>15.30</td>\n",
       "    </tr>\n",
       "    <tr>\n",
       "      <th>1</th>\n",
       "      <td>536365</td>\n",
       "      <td>WHITE METAL LANTERN</td>\n",
       "      <td>6</td>\n",
       "      <td>2010-12-01 08:26:00</td>\n",
       "      <td>3.39</td>\n",
       "      <td>17850.0</td>\n",
       "      <td>20.34</td>\n",
       "    </tr>\n",
       "    <tr>\n",
       "      <th>2</th>\n",
       "      <td>536365</td>\n",
       "      <td>CREAM CUPID HEARTS COAT HANGER</td>\n",
       "      <td>8</td>\n",
       "      <td>2010-12-01 08:26:00</td>\n",
       "      <td>2.75</td>\n",
       "      <td>17850.0</td>\n",
       "      <td>22.00</td>\n",
       "    </tr>\n",
       "    <tr>\n",
       "      <th>3</th>\n",
       "      <td>536365</td>\n",
       "      <td>KNITTED UNION FLAG HOT WATER BOTTLE</td>\n",
       "      <td>6</td>\n",
       "      <td>2010-12-01 08:26:00</td>\n",
       "      <td>3.39</td>\n",
       "      <td>17850.0</td>\n",
       "      <td>20.34</td>\n",
       "    </tr>\n",
       "    <tr>\n",
       "      <th>4</th>\n",
       "      <td>536365</td>\n",
       "      <td>RED WOOLLY HOTTIE WHITE HEART.</td>\n",
       "      <td>6</td>\n",
       "      <td>2010-12-01 08:26:00</td>\n",
       "      <td>3.39</td>\n",
       "      <td>17850.0</td>\n",
       "      <td>20.34</td>\n",
       "    </tr>\n",
       "  </tbody>\n",
       "</table>\n",
       "</div>"
      ],
      "text/plain": [
       "  InvoiceNo                          Description  Quantity  \\\n",
       "0    536365   WHITE HANGING HEART T-LIGHT HOLDER         6   \n",
       "1    536365                  WHITE METAL LANTERN         6   \n",
       "2    536365       CREAM CUPID HEARTS COAT HANGER         8   \n",
       "3    536365  KNITTED UNION FLAG HOT WATER BOTTLE         6   \n",
       "4    536365       RED WOOLLY HOTTIE WHITE HEART.         6   \n",
       "\n",
       "          InvoiceDate  UnitPrice  CustomerID  Total_Price  \n",
       "0 2010-12-01 08:26:00       2.55     17850.0        15.30  \n",
       "1 2010-12-01 08:26:00       3.39     17850.0        20.34  \n",
       "2 2010-12-01 08:26:00       2.75     17850.0        22.00  \n",
       "3 2010-12-01 08:26:00       3.39     17850.0        20.34  \n",
       "4 2010-12-01 08:26:00       3.39     17850.0        20.34  "
      ]
     },
     "execution_count": 186,
     "metadata": {},
     "output_type": "execute_result"
    }
   ],
   "source": [
    "df5['Total_Price'] = df5.Quantity * df5.UnitPrice\n",
    "df5.head()"
   ]
  },
  {
   "cell_type": "code",
   "execution_count": 187,
   "id": "8ce1bff9",
   "metadata": {},
   "outputs": [
    {
     "data": {
      "text/html": [
       "<div>\n",
       "<style scoped>\n",
       "    .dataframe tbody tr th:only-of-type {\n",
       "        vertical-align: middle;\n",
       "    }\n",
       "\n",
       "    .dataframe tbody tr th {\n",
       "        vertical-align: top;\n",
       "    }\n",
       "\n",
       "    .dataframe thead th {\n",
       "        text-align: right;\n",
       "    }\n",
       "</style>\n",
       "<table border=\"1\" class=\"dataframe\">\n",
       "  <thead>\n",
       "    <tr style=\"text-align: right;\">\n",
       "      <th></th>\n",
       "      <th>Quantity</th>\n",
       "      <th>UnitPrice</th>\n",
       "      <th>CustomerID</th>\n",
       "      <th>Total_Price</th>\n",
       "    </tr>\n",
       "  </thead>\n",
       "  <tbody>\n",
       "    <tr>\n",
       "      <th>count</th>\n",
       "      <td>541907.000000</td>\n",
       "      <td>541907.000000</td>\n",
       "      <td>406829.000000</td>\n",
       "      <td>541907.000000</td>\n",
       "    </tr>\n",
       "    <tr>\n",
       "      <th>mean</th>\n",
       "      <td>10.446403</td>\n",
       "      <td>4.651957</td>\n",
       "      <td>15287.690570</td>\n",
       "      <td>19.683607</td>\n",
       "    </tr>\n",
       "    <tr>\n",
       "      <th>std</th>\n",
       "      <td>155.292711</td>\n",
       "      <td>94.395447</td>\n",
       "      <td>1713.600303</td>\n",
       "      <td>267.412408</td>\n",
       "    </tr>\n",
       "    <tr>\n",
       "      <th>min</th>\n",
       "      <td>0.000000</td>\n",
       "      <td>0.000000</td>\n",
       "      <td>12346.000000</td>\n",
       "      <td>0.000000</td>\n",
       "    </tr>\n",
       "    <tr>\n",
       "      <th>25%</th>\n",
       "      <td>1.000000</td>\n",
       "      <td>1.250000</td>\n",
       "      <td>13953.000000</td>\n",
       "      <td>3.400000</td>\n",
       "    </tr>\n",
       "    <tr>\n",
       "      <th>50%</th>\n",
       "      <td>3.000000</td>\n",
       "      <td>2.080000</td>\n",
       "      <td>15152.000000</td>\n",
       "      <td>9.750000</td>\n",
       "    </tr>\n",
       "    <tr>\n",
       "      <th>75%</th>\n",
       "      <td>10.000000</td>\n",
       "      <td>4.130000</td>\n",
       "      <td>16791.000000</td>\n",
       "      <td>17.400000</td>\n",
       "    </tr>\n",
       "    <tr>\n",
       "      <th>max</th>\n",
       "      <td>80995.000000</td>\n",
       "      <td>38970.000000</td>\n",
       "      <td>18287.000000</td>\n",
       "      <td>168469.600000</td>\n",
       "    </tr>\n",
       "  </tbody>\n",
       "</table>\n",
       "</div>"
      ],
      "text/plain": [
       "            Quantity      UnitPrice     CustomerID    Total_Price\n",
       "count  541907.000000  541907.000000  406829.000000  541907.000000\n",
       "mean       10.446403       4.651957   15287.690570      19.683607\n",
       "std       155.292711      94.395447    1713.600303     267.412408\n",
       "min         0.000000       0.000000   12346.000000       0.000000\n",
       "25%         1.000000       1.250000   13953.000000       3.400000\n",
       "50%         3.000000       2.080000   15152.000000       9.750000\n",
       "75%        10.000000       4.130000   16791.000000      17.400000\n",
       "max     80995.000000   38970.000000   18287.000000  168469.600000"
      ]
     },
     "execution_count": 187,
     "metadata": {},
     "output_type": "execute_result"
    }
   ],
   "source": [
    "df5.describe()"
   ]
  },
  {
   "cell_type": "code",
   "execution_count": 188,
   "id": "9f7acb81",
   "metadata": {},
   "outputs": [],
   "source": [
    "Item_Price = df5.groupby('Description').apply(lambda x: x['Total_Price'].sum())\n",
    "Item_Price = Item_Price.sort_values(ascending=False).head(20)"
   ]
  },
  {
   "cell_type": "markdown",
   "id": "46bb90fe",
   "metadata": {},
   "source": [
    "### These are our Top Selling Items on basis of Price:"
   ]
  },
  {
   "cell_type": "code",
   "execution_count": 189,
   "id": "dc6894f1",
   "metadata": {},
   "outputs": [
    {
     "data": {
      "text/html": [
       "<div>\n",
       "<style scoped>\n",
       "    .dataframe tbody tr th:only-of-type {\n",
       "        vertical-align: middle;\n",
       "    }\n",
       "\n",
       "    .dataframe tbody tr th {\n",
       "        vertical-align: top;\n",
       "    }\n",
       "\n",
       "    .dataframe thead th {\n",
       "        text-align: right;\n",
       "    }\n",
       "</style>\n",
       "<table border=\"1\" class=\"dataframe\">\n",
       "  <thead>\n",
       "    <tr style=\"text-align: right;\">\n",
       "      <th></th>\n",
       "      <th>Rank</th>\n",
       "      <th>Item_Name</th>\n",
       "      <th>Total_Amt</th>\n",
       "    </tr>\n",
       "  </thead>\n",
       "  <tbody>\n",
       "    <tr>\n",
       "      <th>0</th>\n",
       "      <td>1</td>\n",
       "      <td>DOTCOM POSTAGE</td>\n",
       "      <td>206248.77</td>\n",
       "    </tr>\n",
       "    <tr>\n",
       "      <th>1</th>\n",
       "      <td>2</td>\n",
       "      <td>REGENCY CAKESTAND 3 TIER</td>\n",
       "      <td>174484.74</td>\n",
       "    </tr>\n",
       "    <tr>\n",
       "      <th>2</th>\n",
       "      <td>3</td>\n",
       "      <td>PAPER CRAFT , LITTLE BIRDIE</td>\n",
       "      <td>168469.60</td>\n",
       "    </tr>\n",
       "    <tr>\n",
       "      <th>3</th>\n",
       "      <td>4</td>\n",
       "      <td>WHITE HANGING HEART T-LIGHT HOLDER</td>\n",
       "      <td>106292.77</td>\n",
       "    </tr>\n",
       "    <tr>\n",
       "      <th>4</th>\n",
       "      <td>5</td>\n",
       "      <td>PARTY BUNTING</td>\n",
       "      <td>99504.33</td>\n",
       "    </tr>\n",
       "    <tr>\n",
       "      <th>5</th>\n",
       "      <td>6</td>\n",
       "      <td>JUMBO BAG RED RETROSPOT</td>\n",
       "      <td>94340.05</td>\n",
       "    </tr>\n",
       "    <tr>\n",
       "      <th>6</th>\n",
       "      <td>7</td>\n",
       "      <td>MEDIUM CERAMIC TOP STORAGE JAR</td>\n",
       "      <td>81700.92</td>\n",
       "    </tr>\n",
       "    <tr>\n",
       "      <th>7</th>\n",
       "      <td>8</td>\n",
       "      <td>Manual</td>\n",
       "      <td>78112.82</td>\n",
       "    </tr>\n",
       "    <tr>\n",
       "      <th>8</th>\n",
       "      <td>9</td>\n",
       "      <td>POSTAGE</td>\n",
       "      <td>78101.88</td>\n",
       "    </tr>\n",
       "    <tr>\n",
       "      <th>9</th>\n",
       "      <td>10</td>\n",
       "      <td>RABBIT NIGHT LIGHT</td>\n",
       "      <td>66964.99</td>\n",
       "    </tr>\n",
       "    <tr>\n",
       "      <th>10</th>\n",
       "      <td>11</td>\n",
       "      <td>PAPER CHAIN KIT 50'S CHRISTMAS</td>\n",
       "      <td>64952.29</td>\n",
       "    </tr>\n",
       "    <tr>\n",
       "      <th>11</th>\n",
       "      <td>12</td>\n",
       "      <td>ASSORTED COLOUR BIRD ORNAMENT</td>\n",
       "      <td>59094.93</td>\n",
       "    </tr>\n",
       "    <tr>\n",
       "      <th>12</th>\n",
       "      <td>13</td>\n",
       "      <td>CHILLI LIGHTS</td>\n",
       "      <td>54117.76</td>\n",
       "    </tr>\n",
       "    <tr>\n",
       "      <th>13</th>\n",
       "      <td>14</td>\n",
       "      <td>SPOTTY BUNTING</td>\n",
       "      <td>42548.13</td>\n",
       "    </tr>\n",
       "    <tr>\n",
       "      <th>14</th>\n",
       "      <td>15</td>\n",
       "      <td>JUMBO BAG PINK POLKADOT</td>\n",
       "      <td>42436.24</td>\n",
       "    </tr>\n",
       "    <tr>\n",
       "      <th>15</th>\n",
       "      <td>16</td>\n",
       "      <td>BLACK RECORD COVER FRAME</td>\n",
       "      <td>40652.13</td>\n",
       "    </tr>\n",
       "    <tr>\n",
       "      <th>16</th>\n",
       "      <td>17</td>\n",
       "      <td>PICNIC BASKET WICKER 60 PIECES</td>\n",
       "      <td>39619.50</td>\n",
       "    </tr>\n",
       "    <tr>\n",
       "      <th>17</th>\n",
       "      <td>18</td>\n",
       "      <td>DOORMAT KEEP CALM AND COME IN</td>\n",
       "      <td>38166.64</td>\n",
       "    </tr>\n",
       "    <tr>\n",
       "      <th>18</th>\n",
       "      <td>19</td>\n",
       "      <td>SET OF 3 CAKE TINS PANTRY DESIGN</td>\n",
       "      <td>38158.39</td>\n",
       "    </tr>\n",
       "    <tr>\n",
       "      <th>19</th>\n",
       "      <td>20</td>\n",
       "      <td>JAM MAKING SET WITH JARS</td>\n",
       "      <td>37128.88</td>\n",
       "    </tr>\n",
       "  </tbody>\n",
       "</table>\n",
       "</div>"
      ],
      "text/plain": [
       "    Rank                           Item_Name  Total_Amt\n",
       "0      1                      DOTCOM POSTAGE  206248.77\n",
       "1      2            REGENCY CAKESTAND 3 TIER  174484.74\n",
       "2      3         PAPER CRAFT , LITTLE BIRDIE  168469.60\n",
       "3      4  WHITE HANGING HEART T-LIGHT HOLDER  106292.77\n",
       "4      5                       PARTY BUNTING   99504.33\n",
       "5      6             JUMBO BAG RED RETROSPOT   94340.05\n",
       "6      7      MEDIUM CERAMIC TOP STORAGE JAR   81700.92\n",
       "7      8                              Manual   78112.82\n",
       "8      9                             POSTAGE   78101.88\n",
       "9     10                  RABBIT NIGHT LIGHT   66964.99\n",
       "10    11     PAPER CHAIN KIT 50'S CHRISTMAS    64952.29\n",
       "11    12       ASSORTED COLOUR BIRD ORNAMENT   59094.93\n",
       "12    13                       CHILLI LIGHTS   54117.76\n",
       "13    14                      SPOTTY BUNTING   42548.13\n",
       "14    15             JUMBO BAG PINK POLKADOT   42436.24\n",
       "15    16            BLACK RECORD COVER FRAME   40652.13\n",
       "16    17      PICNIC BASKET WICKER 60 PIECES   39619.50\n",
       "17    18       DOORMAT KEEP CALM AND COME IN   38166.64\n",
       "18    19   SET OF 3 CAKE TINS PANTRY DESIGN    38158.39\n",
       "19    20            JAM MAKING SET WITH JARS   37128.88"
      ]
     },
     "execution_count": 189,
     "metadata": {},
     "output_type": "execute_result"
    }
   ],
   "source": [
    "pd.DataFrame({'Rank':range(1,21),'Item_Name':Item_Price.index,'Total_Amt':Item_Price.values})"
   ]
  },
  {
   "cell_type": "code",
   "execution_count": 190,
   "id": "68ea0920",
   "metadata": {},
   "outputs": [],
   "source": [
    "Item_Qty = df5.groupby('Description').apply(lambda x: x['Quantity'].sum())\n",
    "Item_Qty = Item_Qty.sort_values(ascending=False).head(20)"
   ]
  },
  {
   "cell_type": "markdown",
   "id": "b97d4e17",
   "metadata": {},
   "source": [
    "### These are our most selling items in terms of quantities sold:"
   ]
  },
  {
   "cell_type": "code",
   "execution_count": 191,
   "id": "1a0314b6",
   "metadata": {},
   "outputs": [
    {
     "data": {
      "text/html": [
       "<div>\n",
       "<style scoped>\n",
       "    .dataframe tbody tr th:only-of-type {\n",
       "        vertical-align: middle;\n",
       "    }\n",
       "\n",
       "    .dataframe tbody tr th {\n",
       "        vertical-align: top;\n",
       "    }\n",
       "\n",
       "    .dataframe thead th {\n",
       "        text-align: right;\n",
       "    }\n",
       "</style>\n",
       "<table border=\"1\" class=\"dataframe\">\n",
       "  <thead>\n",
       "    <tr style=\"text-align: right;\">\n",
       "      <th></th>\n",
       "      <th>Rank</th>\n",
       "      <th>Item_Name</th>\n",
       "      <th>Total Items Sold</th>\n",
       "    </tr>\n",
       "  </thead>\n",
       "  <tbody>\n",
       "    <tr>\n",
       "      <th>0</th>\n",
       "      <td>1</td>\n",
       "      <td>PAPER CRAFT , LITTLE BIRDIE</td>\n",
       "      <td>80995</td>\n",
       "    </tr>\n",
       "    <tr>\n",
       "      <th>1</th>\n",
       "      <td>2</td>\n",
       "      <td>MEDIUM CERAMIC TOP STORAGE JAR</td>\n",
       "      <td>78033</td>\n",
       "    </tr>\n",
       "    <tr>\n",
       "      <th>2</th>\n",
       "      <td>3</td>\n",
       "      <td>WORLD WAR 2 GLIDERS ASSTD DESIGNS</td>\n",
       "      <td>55047</td>\n",
       "    </tr>\n",
       "    <tr>\n",
       "      <th>3</th>\n",
       "      <td>4</td>\n",
       "      <td>JUMBO BAG RED RETROSPOT</td>\n",
       "      <td>48478</td>\n",
       "    </tr>\n",
       "    <tr>\n",
       "      <th>4</th>\n",
       "      <td>5</td>\n",
       "      <td>WHITE HANGING HEART T-LIGHT HOLDER</td>\n",
       "      <td>37895</td>\n",
       "    </tr>\n",
       "    <tr>\n",
       "      <th>5</th>\n",
       "      <td>6</td>\n",
       "      <td>POPCORN HOLDER</td>\n",
       "      <td>36761</td>\n",
       "    </tr>\n",
       "    <tr>\n",
       "      <th>6</th>\n",
       "      <td>7</td>\n",
       "      <td>ASSORTED COLOUR BIRD ORNAMENT</td>\n",
       "      <td>36461</td>\n",
       "    </tr>\n",
       "    <tr>\n",
       "      <th>7</th>\n",
       "      <td>8</td>\n",
       "      <td>PACK OF 72 RETROSPOT CAKE CASES</td>\n",
       "      <td>36419</td>\n",
       "    </tr>\n",
       "    <tr>\n",
       "      <th>8</th>\n",
       "      <td>9</td>\n",
       "      <td>RABBIT NIGHT LIGHT</td>\n",
       "      <td>30788</td>\n",
       "    </tr>\n",
       "    <tr>\n",
       "      <th>9</th>\n",
       "      <td>10</td>\n",
       "      <td>MINI PAINT SET VINTAGE</td>\n",
       "      <td>26633</td>\n",
       "    </tr>\n",
       "    <tr>\n",
       "      <th>10</th>\n",
       "      <td>11</td>\n",
       "      <td>PACK OF 12 LONDON TISSUES</td>\n",
       "      <td>26339</td>\n",
       "    </tr>\n",
       "    <tr>\n",
       "      <th>11</th>\n",
       "      <td>12</td>\n",
       "      <td>PACK OF 60 PINK PAISLEY CAKE CASES</td>\n",
       "      <td>24854</td>\n",
       "    </tr>\n",
       "    <tr>\n",
       "      <th>12</th>\n",
       "      <td>13</td>\n",
       "      <td>VICTORIAN GLASS HANGING T-LIGHT</td>\n",
       "      <td>24304</td>\n",
       "    </tr>\n",
       "    <tr>\n",
       "      <th>13</th>\n",
       "      <td>14</td>\n",
       "      <td>ASSORTED COLOURS SILK FAN</td>\n",
       "      <td>23826</td>\n",
       "    </tr>\n",
       "    <tr>\n",
       "      <th>14</th>\n",
       "      <td>15</td>\n",
       "      <td>BROCADE RING PURSE</td>\n",
       "      <td>23056</td>\n",
       "    </tr>\n",
       "    <tr>\n",
       "      <th>15</th>\n",
       "      <td>16</td>\n",
       "      <td>RED  HARMONICA IN BOX</td>\n",
       "      <td>21933</td>\n",
       "    </tr>\n",
       "    <tr>\n",
       "      <th>16</th>\n",
       "      <td>17</td>\n",
       "      <td>JUMBO BAG PINK POLKADOT</td>\n",
       "      <td>21465</td>\n",
       "    </tr>\n",
       "    <tr>\n",
       "      <th>17</th>\n",
       "      <td>18</td>\n",
       "      <td>SMALL POPCORN HOLDER</td>\n",
       "      <td>20160</td>\n",
       "    </tr>\n",
       "    <tr>\n",
       "      <th>18</th>\n",
       "      <td>19</td>\n",
       "      <td>PAPER CHAIN KIT 50'S CHRISTMAS</td>\n",
       "      <td>19355</td>\n",
       "    </tr>\n",
       "    <tr>\n",
       "      <th>19</th>\n",
       "      <td>20</td>\n",
       "      <td>LUNCH BAG RED RETROSPOT</td>\n",
       "      <td>19353</td>\n",
       "    </tr>\n",
       "  </tbody>\n",
       "</table>\n",
       "</div>"
      ],
      "text/plain": [
       "    Rank                           Item_Name  Total Items Sold\n",
       "0      1         PAPER CRAFT , LITTLE BIRDIE             80995\n",
       "1      2      MEDIUM CERAMIC TOP STORAGE JAR             78033\n",
       "2      3   WORLD WAR 2 GLIDERS ASSTD DESIGNS             55047\n",
       "3      4             JUMBO BAG RED RETROSPOT             48478\n",
       "4      5  WHITE HANGING HEART T-LIGHT HOLDER             37895\n",
       "5      6                      POPCORN HOLDER             36761\n",
       "6      7       ASSORTED COLOUR BIRD ORNAMENT             36461\n",
       "7      8     PACK OF 72 RETROSPOT CAKE CASES             36419\n",
       "8      9                  RABBIT NIGHT LIGHT             30788\n",
       "9     10             MINI PAINT SET VINTAGE              26633\n",
       "10    11          PACK OF 12 LONDON TISSUES              26339\n",
       "11    12  PACK OF 60 PINK PAISLEY CAKE CASES             24854\n",
       "12    13     VICTORIAN GLASS HANGING T-LIGHT             24304\n",
       "13    14           ASSORTED COLOURS SILK FAN             23826\n",
       "14    15                 BROCADE RING PURSE              23056\n",
       "15    16              RED  HARMONICA IN BOX              21933\n",
       "16    17             JUMBO BAG PINK POLKADOT             21465\n",
       "17    18                SMALL POPCORN HOLDER             20160\n",
       "18    19     PAPER CHAIN KIT 50'S CHRISTMAS              19355\n",
       "19    20             LUNCH BAG RED RETROSPOT             19353"
      ]
     },
     "execution_count": 191,
     "metadata": {},
     "output_type": "execute_result"
    }
   ],
   "source": [
    "pd.DataFrame({'Rank': range(1,21),'Item_Name':Item_Qty.index,'Total Items Sold': Item_Qty.values})"
   ]
  },
  {
   "cell_type": "markdown",
   "id": "29a2d59b",
   "metadata": {},
   "source": [
    "### Goal 4: Customer segregation with highest weightage to monetary"
   ]
  },
  {
   "cell_type": "markdown",
   "id": "97936fdf",
   "metadata": {},
   "source": [
    "Giving high weightage to Monetary we will multiply monetary by 10 and re-caluculate RFM_score make a customer segregation"
   ]
  },
  {
   "cell_type": "code",
   "execution_count": 210,
   "id": "d0230537",
   "metadata": {},
   "outputs": [],
   "source": [
    "df7 = df2.copy()"
   ]
  },
  {
   "cell_type": "code",
   "execution_count": 211,
   "id": "3c9057a1",
   "metadata": {},
   "outputs": [
    {
     "data": {
      "text/html": [
       "<div>\n",
       "<style scoped>\n",
       "    .dataframe tbody tr th:only-of-type {\n",
       "        vertical-align: middle;\n",
       "    }\n",
       "\n",
       "    .dataframe tbody tr th {\n",
       "        vertical-align: top;\n",
       "    }\n",
       "\n",
       "    .dataframe thead th {\n",
       "        text-align: right;\n",
       "    }\n",
       "</style>\n",
       "<table border=\"1\" class=\"dataframe\">\n",
       "  <thead>\n",
       "    <tr style=\"text-align: right;\">\n",
       "      <th></th>\n",
       "      <th>CustomerID</th>\n",
       "      <th>Monetary</th>\n",
       "      <th>Recency</th>\n",
       "      <th>Frequency</th>\n",
       "      <th>R</th>\n",
       "      <th>M</th>\n",
       "      <th>F</th>\n",
       "      <th>RFM_Sum</th>\n",
       "      <th>LoyaltyLabel</th>\n",
       "      <th>RFM_ID</th>\n",
       "      <th>Customer_Segment</th>\n",
       "      <th>Cluster</th>\n",
       "    </tr>\n",
       "  </thead>\n",
       "  <tbody>\n",
       "    <tr>\n",
       "      <th>0</th>\n",
       "      <td>17850.0</td>\n",
       "      <td>5391.21</td>\n",
       "      <td>302</td>\n",
       "      <td>35</td>\n",
       "      <td>1</td>\n",
       "      <td>2</td>\n",
       "      <td>3</td>\n",
       "      <td>6</td>\n",
       "      <td>Silver</td>\n",
       "      <td>132</td>\n",
       "      <td>Out of Town</td>\n",
       "      <td>0</td>\n",
       "    </tr>\n",
       "    <tr>\n",
       "      <th>1</th>\n",
       "      <td>13047.0</td>\n",
       "      <td>3237.54</td>\n",
       "      <td>31</td>\n",
       "      <td>18</td>\n",
       "      <td>4</td>\n",
       "      <td>2</td>\n",
       "      <td>2</td>\n",
       "      <td>8</td>\n",
       "      <td>Platinum</td>\n",
       "      <td>422</td>\n",
       "      <td>New</td>\n",
       "      <td>2</td>\n",
       "    </tr>\n",
       "    <tr>\n",
       "      <th>2</th>\n",
       "      <td>12583.0</td>\n",
       "      <td>7281.38</td>\n",
       "      <td>2</td>\n",
       "      <td>18</td>\n",
       "      <td>4</td>\n",
       "      <td>2</td>\n",
       "      <td>2</td>\n",
       "      <td>8</td>\n",
       "      <td>Platinum</td>\n",
       "      <td>422</td>\n",
       "      <td>New</td>\n",
       "      <td>2</td>\n",
       "    </tr>\n",
       "    <tr>\n",
       "      <th>3</th>\n",
       "      <td>13748.0</td>\n",
       "      <td>948.25</td>\n",
       "      <td>95</td>\n",
       "      <td>5</td>\n",
       "      <td>3</td>\n",
       "      <td>1</td>\n",
       "      <td>1</td>\n",
       "      <td>5</td>\n",
       "      <td>Silver</td>\n",
       "      <td>311</td>\n",
       "      <td>Students</td>\n",
       "      <td>3</td>\n",
       "    </tr>\n",
       "    <tr>\n",
       "      <th>4</th>\n",
       "      <td>15100.0</td>\n",
       "      <td>876.00</td>\n",
       "      <td>330</td>\n",
       "      <td>6</td>\n",
       "      <td>1</td>\n",
       "      <td>1</td>\n",
       "      <td>1</td>\n",
       "      <td>3</td>\n",
       "      <td>Bronze</td>\n",
       "      <td>111</td>\n",
       "      <td>Inactive or Passerby</td>\n",
       "      <td>1</td>\n",
       "    </tr>\n",
       "  </tbody>\n",
       "</table>\n",
       "</div>"
      ],
      "text/plain": [
       "   CustomerID  Monetary  Recency  Frequency  R  M  F  RFM_Sum LoyaltyLabel  \\\n",
       "0     17850.0   5391.21      302         35  1  2  3        6       Silver   \n",
       "1     13047.0   3237.54       31         18  4  2  2        8     Platinum   \n",
       "2     12583.0   7281.38        2         18  4  2  2        8     Platinum   \n",
       "3     13748.0    948.25       95          5  3  1  1        5       Silver   \n",
       "4     15100.0    876.00      330          6  1  1  1        3       Bronze   \n",
       "\n",
       "  RFM_ID      Customer_Segment  Cluster  \n",
       "0    132           Out of Town        0  \n",
       "1    422                   New        2  \n",
       "2    422                   New        2  \n",
       "3    311              Students        3  \n",
       "4    111  Inactive or Passerby        1  "
      ]
     },
     "execution_count": 211,
     "metadata": {},
     "output_type": "execute_result"
    }
   ],
   "source": [
    "df7.head()"
   ]
  },
  {
   "cell_type": "code",
   "execution_count": 212,
   "id": "c5290ded",
   "metadata": {},
   "outputs": [],
   "source": [
    "df7['RFM_Sum_Mbasis'] = df7.R + df7.F+ df7.M * 10\n",
    "# Giving more importance to Monetary parameter we will segregate the customers"
   ]
  },
  {
   "cell_type": "code",
   "execution_count": 213,
   "id": "9635f1f2",
   "metadata": {},
   "outputs": [
    {
     "data": {
      "text/html": [
       "<div>\n",
       "<style scoped>\n",
       "    .dataframe tbody tr th:only-of-type {\n",
       "        vertical-align: middle;\n",
       "    }\n",
       "\n",
       "    .dataframe tbody tr th {\n",
       "        vertical-align: top;\n",
       "    }\n",
       "\n",
       "    .dataframe thead th {\n",
       "        text-align: right;\n",
       "    }\n",
       "</style>\n",
       "<table border=\"1\" class=\"dataframe\">\n",
       "  <thead>\n",
       "    <tr style=\"text-align: right;\">\n",
       "      <th></th>\n",
       "      <th>CustomerID</th>\n",
       "      <th>Monetary</th>\n",
       "      <th>Recency</th>\n",
       "      <th>Frequency</th>\n",
       "      <th>R</th>\n",
       "      <th>M</th>\n",
       "      <th>F</th>\n",
       "      <th>RFM_Sum</th>\n",
       "      <th>LoyaltyLabel</th>\n",
       "      <th>RFM_ID</th>\n",
       "      <th>Customer_Segment</th>\n",
       "      <th>Cluster</th>\n",
       "      <th>RFM_Sum_Mbasis</th>\n",
       "    </tr>\n",
       "  </thead>\n",
       "  <tbody>\n",
       "    <tr>\n",
       "      <th>0</th>\n",
       "      <td>17850.0</td>\n",
       "      <td>5391.21</td>\n",
       "      <td>302</td>\n",
       "      <td>35</td>\n",
       "      <td>1</td>\n",
       "      <td>2</td>\n",
       "      <td>3</td>\n",
       "      <td>6</td>\n",
       "      <td>Silver</td>\n",
       "      <td>132</td>\n",
       "      <td>Out of Town</td>\n",
       "      <td>0</td>\n",
       "      <td>24</td>\n",
       "    </tr>\n",
       "    <tr>\n",
       "      <th>1</th>\n",
       "      <td>13047.0</td>\n",
       "      <td>3237.54</td>\n",
       "      <td>31</td>\n",
       "      <td>18</td>\n",
       "      <td>4</td>\n",
       "      <td>2</td>\n",
       "      <td>2</td>\n",
       "      <td>8</td>\n",
       "      <td>Platinum</td>\n",
       "      <td>422</td>\n",
       "      <td>New</td>\n",
       "      <td>2</td>\n",
       "      <td>26</td>\n",
       "    </tr>\n",
       "    <tr>\n",
       "      <th>2</th>\n",
       "      <td>12583.0</td>\n",
       "      <td>7281.38</td>\n",
       "      <td>2</td>\n",
       "      <td>18</td>\n",
       "      <td>4</td>\n",
       "      <td>2</td>\n",
       "      <td>2</td>\n",
       "      <td>8</td>\n",
       "      <td>Platinum</td>\n",
       "      <td>422</td>\n",
       "      <td>New</td>\n",
       "      <td>2</td>\n",
       "      <td>26</td>\n",
       "    </tr>\n",
       "    <tr>\n",
       "      <th>3</th>\n",
       "      <td>13748.0</td>\n",
       "      <td>948.25</td>\n",
       "      <td>95</td>\n",
       "      <td>5</td>\n",
       "      <td>3</td>\n",
       "      <td>1</td>\n",
       "      <td>1</td>\n",
       "      <td>5</td>\n",
       "      <td>Silver</td>\n",
       "      <td>311</td>\n",
       "      <td>Students</td>\n",
       "      <td>3</td>\n",
       "      <td>14</td>\n",
       "    </tr>\n",
       "    <tr>\n",
       "      <th>4</th>\n",
       "      <td>15100.0</td>\n",
       "      <td>876.00</td>\n",
       "      <td>330</td>\n",
       "      <td>6</td>\n",
       "      <td>1</td>\n",
       "      <td>1</td>\n",
       "      <td>1</td>\n",
       "      <td>3</td>\n",
       "      <td>Bronze</td>\n",
       "      <td>111</td>\n",
       "      <td>Inactive or Passerby</td>\n",
       "      <td>1</td>\n",
       "      <td>12</td>\n",
       "    </tr>\n",
       "    <tr>\n",
       "      <th>...</th>\n",
       "      <td>...</td>\n",
       "      <td>...</td>\n",
       "      <td>...</td>\n",
       "      <td>...</td>\n",
       "      <td>...</td>\n",
       "      <td>...</td>\n",
       "      <td>...</td>\n",
       "      <td>...</td>\n",
       "      <td>...</td>\n",
       "      <td>...</td>\n",
       "      <td>...</td>\n",
       "      <td>...</td>\n",
       "      <td>...</td>\n",
       "    </tr>\n",
       "    <tr>\n",
       "      <th>4367</th>\n",
       "      <td>15369.0</td>\n",
       "      <td>0.00</td>\n",
       "      <td>144</td>\n",
       "      <td>1</td>\n",
       "      <td>2</td>\n",
       "      <td>1</td>\n",
       "      <td>1</td>\n",
       "      <td>4</td>\n",
       "      <td>Bronze</td>\n",
       "      <td>211</td>\n",
       "      <td>Students</td>\n",
       "      <td>1</td>\n",
       "      <td>13</td>\n",
       "    </tr>\n",
       "    <tr>\n",
       "      <th>4368</th>\n",
       "      <td>13154.0</td>\n",
       "      <td>0.00</td>\n",
       "      <td>144</td>\n",
       "      <td>1</td>\n",
       "      <td>2</td>\n",
       "      <td>1</td>\n",
       "      <td>1</td>\n",
       "      <td>4</td>\n",
       "      <td>Bronze</td>\n",
       "      <td>211</td>\n",
       "      <td>Students</td>\n",
       "      <td>1</td>\n",
       "      <td>13</td>\n",
       "    </tr>\n",
       "    <tr>\n",
       "      <th>4369</th>\n",
       "      <td>17065.0</td>\n",
       "      <td>0.00</td>\n",
       "      <td>143</td>\n",
       "      <td>1</td>\n",
       "      <td>2</td>\n",
       "      <td>1</td>\n",
       "      <td>1</td>\n",
       "      <td>4</td>\n",
       "      <td>Bronze</td>\n",
       "      <td>211</td>\n",
       "      <td>Students</td>\n",
       "      <td>1</td>\n",
       "      <td>13</td>\n",
       "    </tr>\n",
       "    <tr>\n",
       "      <th>4370</th>\n",
       "      <td>16428.0</td>\n",
       "      <td>0.00</td>\n",
       "      <td>81</td>\n",
       "      <td>1</td>\n",
       "      <td>3</td>\n",
       "      <td>1</td>\n",
       "      <td>1</td>\n",
       "      <td>5</td>\n",
       "      <td>Silver</td>\n",
       "      <td>311</td>\n",
       "      <td>Students</td>\n",
       "      <td>3</td>\n",
       "      <td>14</td>\n",
       "    </tr>\n",
       "    <tr>\n",
       "      <th>4371</th>\n",
       "      <td>15728.0</td>\n",
       "      <td>0.00</td>\n",
       "      <td>49</td>\n",
       "      <td>1</td>\n",
       "      <td>3</td>\n",
       "      <td>1</td>\n",
       "      <td>1</td>\n",
       "      <td>5</td>\n",
       "      <td>Silver</td>\n",
       "      <td>311</td>\n",
       "      <td>Students</td>\n",
       "      <td>3</td>\n",
       "      <td>14</td>\n",
       "    </tr>\n",
       "  </tbody>\n",
       "</table>\n",
       "<p>4372 rows × 13 columns</p>\n",
       "</div>"
      ],
      "text/plain": [
       "      CustomerID  Monetary  Recency  Frequency  R  M  F  RFM_Sum LoyaltyLabel  \\\n",
       "0        17850.0   5391.21      302         35  1  2  3        6       Silver   \n",
       "1        13047.0   3237.54       31         18  4  2  2        8     Platinum   \n",
       "2        12583.0   7281.38        2         18  4  2  2        8     Platinum   \n",
       "3        13748.0    948.25       95          5  3  1  1        5       Silver   \n",
       "4        15100.0    876.00      330          6  1  1  1        3       Bronze   \n",
       "...          ...       ...      ...        ... .. .. ..      ...          ...   \n",
       "4367     15369.0      0.00      144          1  2  1  1        4       Bronze   \n",
       "4368     13154.0      0.00      144          1  2  1  1        4       Bronze   \n",
       "4369     17065.0      0.00      143          1  2  1  1        4       Bronze   \n",
       "4370     16428.0      0.00       81          1  3  1  1        5       Silver   \n",
       "4371     15728.0      0.00       49          1  3  1  1        5       Silver   \n",
       "\n",
       "     RFM_ID      Customer_Segment  Cluster  RFM_Sum_Mbasis  \n",
       "0       132           Out of Town        0              24  \n",
       "1       422                   New        2              26  \n",
       "2       422                   New        2              26  \n",
       "3       311              Students        3              14  \n",
       "4       111  Inactive or Passerby        1              12  \n",
       "...     ...                   ...      ...             ...  \n",
       "4367    211              Students        1              13  \n",
       "4368    211              Students        1              13  \n",
       "4369    211              Students        1              13  \n",
       "4370    311              Students        3              14  \n",
       "4371    311              Students        3              14  \n",
       "\n",
       "[4372 rows x 13 columns]"
      ]
     },
     "execution_count": 213,
     "metadata": {},
     "output_type": "execute_result"
    }
   ],
   "source": [
    "df7"
   ]
  },
  {
   "cell_type": "code",
   "execution_count": 214,
   "id": "53b7e736",
   "metadata": {},
   "outputs": [
    {
     "data": {
      "text/plain": [
       "count    4372.000000\n",
       "mean       17.928637\n",
       "std         6.109534\n",
       "min        12.000000\n",
       "25%        13.000000\n",
       "50%        15.000000\n",
       "75%        25.000000\n",
       "max        48.000000\n",
       "Name: RFM_Sum_Mbasis, dtype: float64"
      ]
     },
     "execution_count": 214,
     "metadata": {},
     "output_type": "execute_result"
    }
   ],
   "source": [
    "df7.RFM_Sum_Mbasis.describe()"
   ]
  },
  {
   "cell_type": "code",
   "execution_count": 215,
   "id": "9263a076",
   "metadata": {},
   "outputs": [
    {
     "data": {
      "text/plain": [
       "0.50    15.0\n",
       "0.75    25.0\n",
       "0.96    26.0\n",
       "Name: RFM_Sum_Mbasis, dtype: float64"
      ]
     },
     "execution_count": 215,
     "metadata": {},
     "output_type": "execute_result"
    }
   ],
   "source": [
    "df7.RFM_Sum_Mbasis.quantile([0.5,0.75,0.96])"
   ]
  },
  {
   "cell_type": "code",
   "execution_count": 216,
   "id": "f93f52dd",
   "metadata": {},
   "outputs": [],
   "source": [
    "quantile_monetary = [0.5,0.75,0.96]"
   ]
  },
  {
   "cell_type": "code",
   "execution_count": 217,
   "id": "6881ba65",
   "metadata": {},
   "outputs": [],
   "source": [
    "def RFMScore_Mbasis(x,y):\n",
    "    if x<=df7.RFM_Sum_Mbasis.quantile(y[0]):\n",
    "        return 'Bronze'\n",
    "    elif x<=df7.RFM_Sum_Mbasis.quantile(y[1]):\n",
    "        return 'Silver'\n",
    "    elif x<=df7.RFM_Sum_Mbasis.quantile(y[2]):\n",
    "        return 'Gold'\n",
    "    else:\n",
    "        return 'Platinum'"
   ]
  },
  {
   "cell_type": "code",
   "execution_count": 218,
   "id": "43e2700d",
   "metadata": {},
   "outputs": [],
   "source": [
    "df7['MonetaryLabel_2'] = df7.RFM_Sum_Mbasis.apply(lambda x : RFMScore_Mbasis(x,y=quantile_monetary) )"
   ]
  },
  {
   "cell_type": "code",
   "execution_count": 219,
   "id": "9f489419",
   "metadata": {
    "scrolled": true
   },
   "outputs": [
    {
     "data": {
      "text/html": [
       "<div>\n",
       "<style scoped>\n",
       "    .dataframe tbody tr th:only-of-type {\n",
       "        vertical-align: middle;\n",
       "    }\n",
       "\n",
       "    .dataframe tbody tr th {\n",
       "        vertical-align: top;\n",
       "    }\n",
       "\n",
       "    .dataframe thead th {\n",
       "        text-align: right;\n",
       "    }\n",
       "</style>\n",
       "<table border=\"1\" class=\"dataframe\">\n",
       "  <thead>\n",
       "    <tr style=\"text-align: right;\">\n",
       "      <th></th>\n",
       "      <th>CustomerID</th>\n",
       "      <th>Monetary</th>\n",
       "      <th>Recency</th>\n",
       "      <th>Frequency</th>\n",
       "      <th>R</th>\n",
       "      <th>M</th>\n",
       "      <th>F</th>\n",
       "      <th>RFM_Sum</th>\n",
       "      <th>LoyaltyLabel</th>\n",
       "      <th>RFM_ID</th>\n",
       "      <th>Customer_Segment</th>\n",
       "      <th>Cluster</th>\n",
       "      <th>RFM_Sum_Mbasis</th>\n",
       "      <th>MonetaryLabel_2</th>\n",
       "    </tr>\n",
       "  </thead>\n",
       "  <tbody>\n",
       "    <tr>\n",
       "      <th>0</th>\n",
       "      <td>17850.0</td>\n",
       "      <td>5391.21</td>\n",
       "      <td>302</td>\n",
       "      <td>35</td>\n",
       "      <td>1</td>\n",
       "      <td>2</td>\n",
       "      <td>3</td>\n",
       "      <td>6</td>\n",
       "      <td>Silver</td>\n",
       "      <td>132</td>\n",
       "      <td>Out of Town</td>\n",
       "      <td>0</td>\n",
       "      <td>24</td>\n",
       "      <td>Silver</td>\n",
       "    </tr>\n",
       "    <tr>\n",
       "      <th>1</th>\n",
       "      <td>13047.0</td>\n",
       "      <td>3237.54</td>\n",
       "      <td>31</td>\n",
       "      <td>18</td>\n",
       "      <td>4</td>\n",
       "      <td>2</td>\n",
       "      <td>2</td>\n",
       "      <td>8</td>\n",
       "      <td>Platinum</td>\n",
       "      <td>422</td>\n",
       "      <td>New</td>\n",
       "      <td>2</td>\n",
       "      <td>26</td>\n",
       "      <td>Gold</td>\n",
       "    </tr>\n",
       "    <tr>\n",
       "      <th>2</th>\n",
       "      <td>12583.0</td>\n",
       "      <td>7281.38</td>\n",
       "      <td>2</td>\n",
       "      <td>18</td>\n",
       "      <td>4</td>\n",
       "      <td>2</td>\n",
       "      <td>2</td>\n",
       "      <td>8</td>\n",
       "      <td>Platinum</td>\n",
       "      <td>422</td>\n",
       "      <td>New</td>\n",
       "      <td>2</td>\n",
       "      <td>26</td>\n",
       "      <td>Gold</td>\n",
       "    </tr>\n",
       "    <tr>\n",
       "      <th>3</th>\n",
       "      <td>13748.0</td>\n",
       "      <td>948.25</td>\n",
       "      <td>95</td>\n",
       "      <td>5</td>\n",
       "      <td>3</td>\n",
       "      <td>1</td>\n",
       "      <td>1</td>\n",
       "      <td>5</td>\n",
       "      <td>Silver</td>\n",
       "      <td>311</td>\n",
       "      <td>Students</td>\n",
       "      <td>3</td>\n",
       "      <td>14</td>\n",
       "      <td>Bronze</td>\n",
       "    </tr>\n",
       "    <tr>\n",
       "      <th>4</th>\n",
       "      <td>15100.0</td>\n",
       "      <td>876.00</td>\n",
       "      <td>330</td>\n",
       "      <td>6</td>\n",
       "      <td>1</td>\n",
       "      <td>1</td>\n",
       "      <td>1</td>\n",
       "      <td>3</td>\n",
       "      <td>Bronze</td>\n",
       "      <td>111</td>\n",
       "      <td>Inactive or Passerby</td>\n",
       "      <td>1</td>\n",
       "      <td>12</td>\n",
       "      <td>Bronze</td>\n",
       "    </tr>\n",
       "  </tbody>\n",
       "</table>\n",
       "</div>"
      ],
      "text/plain": [
       "   CustomerID  Monetary  Recency  Frequency  R  M  F  RFM_Sum LoyaltyLabel  \\\n",
       "0     17850.0   5391.21      302         35  1  2  3        6       Silver   \n",
       "1     13047.0   3237.54       31         18  4  2  2        8     Platinum   \n",
       "2     12583.0   7281.38        2         18  4  2  2        8     Platinum   \n",
       "3     13748.0    948.25       95          5  3  1  1        5       Silver   \n",
       "4     15100.0    876.00      330          6  1  1  1        3       Bronze   \n",
       "\n",
       "  RFM_ID      Customer_Segment  Cluster  RFM_Sum_Mbasis MonetaryLabel_2  \n",
       "0    132           Out of Town        0              24          Silver  \n",
       "1    422                   New        2              26            Gold  \n",
       "2    422                   New        2              26            Gold  \n",
       "3    311              Students        3              14          Bronze  \n",
       "4    111  Inactive or Passerby        1              12          Bronze  "
      ]
     },
     "execution_count": 219,
     "metadata": {},
     "output_type": "execute_result"
    }
   ],
   "source": [
    "df7.head(5)"
   ]
  },
  {
   "cell_type": "code",
   "execution_count": 220,
   "id": "514edc3c",
   "metadata": {},
   "outputs": [
    {
     "data": {
      "text/plain": [
       "Bronze      64.661482\n",
       "Silver      20.860018\n",
       "Gold        11.733760\n",
       "Platinum     2.744739\n",
       "Name: MonetaryLabel_2, dtype: float64"
      ]
     },
     "execution_count": 220,
     "metadata": {},
     "output_type": "execute_result"
    }
   ],
   "source": [
    "(df7.MonetaryLabel_2.value_counts() / df7.MonetaryLabel_2.count())*100"
   ]
  },
  {
   "cell_type": "markdown",
   "id": "aa6bcc0f",
   "metadata": {},
   "source": [
    "We segregated customers into four groups"
   ]
  },
  {
   "cell_type": "markdown",
   "id": "ffaeaf70",
   "metadata": {},
   "source": [
    "### We can conclude that:\n",
    "\n",
    "- ***About 3%*** of our Customers belong ***Platinum*** standard class. They have provided very huge chunk of amount to business.\n",
    "- ***About 12%*** of customer lies in ***Gold*** category. \n",
    "- ***About 21%*** customers belong to ***Silver*** group. They have medium buying capacity.\n",
    "-***Majority of 64.5%*** of customers belongs to ***Bronze*** group. These customers provide us least business in terms of Money.\n",
    "\n",
    "Even though we have classifed customers on this basis of money. It's important to futher segregate them on basis of their RFM_ID as many customers may have invested once in a while a big chunck of amount.\n",
    "\n",
    "So RFM_ID along with Monetary Score forms a good basis for taking decison to provide gift vouchers to customers."
   ]
  },
  {
   "cell_type": "code",
   "execution_count": null,
   "id": "fa69682a",
   "metadata": {},
   "outputs": [],
   "source": []
  },
  {
   "cell_type": "code",
   "execution_count": null,
   "id": "befed0f3",
   "metadata": {},
   "outputs": [],
   "source": []
  },
  {
   "cell_type": "code",
   "execution_count": null,
   "id": "fe4841f9",
   "metadata": {},
   "outputs": [],
   "source": []
  },
  {
   "cell_type": "code",
   "execution_count": null,
   "id": "8439d21e",
   "metadata": {},
   "outputs": [],
   "source": []
  },
  {
   "cell_type": "code",
   "execution_count": null,
   "id": "6a09d278",
   "metadata": {},
   "outputs": [],
   "source": []
  },
  {
   "cell_type": "code",
   "execution_count": null,
   "id": "d41d88e9",
   "metadata": {},
   "outputs": [],
   "source": []
  }
 ],
 "metadata": {
  "kernelspec": {
   "display_name": "Python 3 (ipykernel)",
   "language": "python",
   "name": "python3"
  },
  "language_info": {
   "codemirror_mode": {
    "name": "ipython",
    "version": 3
   },
   "file_extension": ".py",
   "mimetype": "text/x-python",
   "name": "python",
   "nbconvert_exporter": "python",
   "pygments_lexer": "ipython3",
   "version": "3.9.12"
  }
 },
 "nbformat": 4,
 "nbformat_minor": 5
}
